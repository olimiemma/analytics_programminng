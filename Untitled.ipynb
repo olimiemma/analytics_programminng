{
 "cells": [
  {
   "cell_type": "code",
   "execution_count": 1,
   "id": "98c43048-0b33-4658-a1df-7e4176cdb0db",
   "metadata": {},
   "outputs": [],
   "source": [
    "import pandas as pd"
   ]
  },
  {
   "cell_type": "code",
   "execution_count": 3,
   "id": "df25dcc7-f9d9-4fa7-b472-c9c1a67911cc",
   "metadata": {},
   "outputs": [
    {
     "name": "stdout",
     "output_type": "stream",
     "text": [
      "/home/legend\n"
     ]
    }
   ],
   "source": [
    "import os\n",
    "print(os.getcwd())"
   ]
  },
  {
   "cell_type": "code",
   "execution_count": 6,
   "id": "ac8426f4-5584-496c-9409-f37fb068da28",
   "metadata": {},
   "outputs": [],
   "source": [
    "df = pd.read_csv('rawdata.tsv', sep='\\t')"
   ]
  },
  {
   "cell_type": "code",
   "execution_count": 8,
   "id": "0f05a16b-dc27-4a50-a7aa-3c642c84991a",
   "metadata": {},
   "outputs": [
    {
     "name": "stdout",
     "output_type": "stream",
     "text": [
      "   2013-01-02 09:45:00  20130102  94500.0     A   41.655  \\\n",
      "0  2013-01-02 09:45:00  20130102  94500.0    AA    8.855   \n",
      "1  2013-01-02 09:45:00  20130102  94500.0   AAN   28.640   \n",
      "2  2013-01-02 09:45:00  20130102  94500.0   AAP   72.990   \n",
      "3  2013-01-02 09:45:00  20130102  94500.0  AAPL  551.595   \n",
      "4  2013-01-02 09:45:00  20130102  94500.0   ABB   21.245   \n",
      "\n",
      "            IndustrySector_Industrial              IndustryGroup_Electronics  \n",
      "0       IndustrySector_BasicMaterials                   IndustryGroup_Mining  \n",
      "1  IndustrySector_ConsumerNonCyclical       IndustryGroup_CommercialServices  \n",
      "2     IndustrySector_ConsumerCyclical                   IndustryGroup_Retail  \n",
      "3           IndustrySector_Technology                IndustryGroup_Computers  \n",
      "4           IndustrySector_Industrial  IndustryGroup_EngineeringConstruction  \n"
     ]
    }
   ],
   "source": [
    "print(df.head())"
   ]
  },
  {
   "cell_type": "code",
   "execution_count": 9,
   "id": "1da52db7-02a3-490f-b383-79c5d1c119f6",
   "metadata": {},
   "outputs": [
    {
     "name": "stdout",
     "output_type": "stream",
     "text": [
      "hellow\n"
     ]
    }
   ],
   "source": [
    "print(\"hellow\")"
   ]
  }
 ],
 "metadata": {
  "kernelspec": {
   "display_name": "Python 3 (ipykernel)",
   "language": "python",
   "name": "python3"
  },
  "language_info": {
   "codemirror_mode": {
    "name": "ipython",
    "version": 3
   },
   "file_extension": ".py",
   "mimetype": "text/x-python",
   "name": "python",
   "nbconvert_exporter": "python",
   "pygments_lexer": "ipython3",
   "version": "3.12.4"
  }
 },
 "nbformat": 4,
 "nbformat_minor": 5
}

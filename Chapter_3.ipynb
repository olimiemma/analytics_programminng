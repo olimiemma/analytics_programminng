{
  "cells": [
    {
      "cell_type": "code",
      "execution_count": null,
      "metadata": {
        "id": "OFhJIjY616ZG"
      },
      "outputs": [],
      "source": []
    },
    {
      "cell_type": "markdown",
      "source": [
        "# Tuples"
      ],
      "metadata": {
        "id": "6Yfs51Kx5zBm"
      }
    },
    {
      "cell_type": "code",
      "execution_count": null,
      "metadata": {
        "colab": {
          "base_uri": "https://localhost:8080/"
        },
        "id": "dvG4a_gV16ZH",
        "outputId": "b85fb7ab-1a5d-47c1-b2e2-daf06abd32da"
      },
      "outputs": [
        {
          "output_type": "execute_result",
          "data": {
            "text/plain": [
              "(4, 5, 6)"
            ]
          },
          "metadata": {},
          "execution_count": 1
        }
      ],
      "source": [
        "tup = (4, 5, 6)\n",
        "tup"
      ]
    },
    {
      "cell_type": "markdown",
      "source": [
        "In many contexts, the parentheses can be omitted, so here we could also have written:"
      ],
      "metadata": {
        "id": "x1QvzqNu3uKP"
      }
    },
    {
      "cell_type": "code",
      "execution_count": null,
      "metadata": {
        "colab": {
          "base_uri": "https://localhost:8080/"
        },
        "id": "aG8XvYYw16ZI",
        "outputId": "5a5e67c5-4b16-453e-8a30-8a9d2a2b2b9c"
      },
      "outputs": [
        {
          "output_type": "execute_result",
          "data": {
            "text/plain": [
              "(4, 5, 6)"
            ]
          },
          "metadata": {},
          "execution_count": 2
        }
      ],
      "source": [
        "tup = 4, 5, 6\n",
        "tup"
      ]
    },
    {
      "cell_type": "markdown",
      "source": [
        "You can convert any sequence or iterator to a tuple by invoking tuple:"
      ],
      "metadata": {
        "id": "nym9C0sS4IV9"
      }
    },
    {
      "cell_type": "code",
      "execution_count": null,
      "metadata": {
        "colab": {
          "base_uri": "https://localhost:8080/"
        },
        "id": "eTJX4Ut416ZI",
        "outputId": "8c16a7a1-648a-45db-c72e-0c3be4e64374"
      },
      "outputs": [
        {
          "output_type": "execute_result",
          "data": {
            "text/plain": [
              "('s', 't', 'r', 'i', 'n', 'g')"
            ]
          },
          "metadata": {},
          "execution_count": 10
        }
      ],
      "source": [
        "tuple([4, 0, 2])\n",
        "tup = tuple('string')\n",
        "tup"
      ]
    },
    {
      "cell_type": "markdown",
      "source": [
        "You can convert any sequence or iterator to a tuple by invoking tuple:"
      ],
      "metadata": {
        "id": "mEi3jH2W4PLq"
      }
    },
    {
      "cell_type": "code",
      "execution_count": null,
      "metadata": {
        "id": "_NksssQd16ZJ"
      },
      "outputs": [],
      "source": [
        "tup[0]"
      ]
    },
    {
      "cell_type": "markdown",
      "source": [
        "When you’re defining tuples within more complicated expressions, it’s often neces‐ sary to enclose the values in parentheses, as in this example of creating a tuple of tuples:"
      ],
      "metadata": {
        "id": "dW-cZMzQ4XE4"
      }
    },
    {
      "cell_type": "code",
      "execution_count": null,
      "metadata": {
        "colab": {
          "base_uri": "https://localhost:8080/"
        },
        "id": "Z5e4Ptot16ZJ",
        "outputId": "20d40641-32ab-41cb-94a2-544c25cc54ac"
      },
      "outputs": [
        {
          "output_type": "execute_result",
          "data": {
            "text/plain": [
              "(7, 8)"
            ]
          },
          "metadata": {},
          "execution_count": 6
        }
      ],
      "source": [
        "nested_tup = (4, 5, 6), (7, 8)\n",
        "nested_tup\n",
        "nested_tup[0]\n",
        "nested_tup[1]"
      ]
    },
    {
      "cell_type": "markdown",
      "source": [
        "While the objects stored in a tuple may be mutable themselves, once the tuple is\n",
        "created it’s not possible to modify which object is stored in each slot:"
      ],
      "metadata": {
        "id": "Cd4aZSW54bOG"
      }
    },
    {
      "cell_type": "code",
      "execution_count": null,
      "metadata": {
        "colab": {
          "base_uri": "https://localhost:8080/",
          "height": 158
        },
        "id": "X5kwGlHu16ZJ",
        "outputId": "fa378c44-4ad3-412a-e240-8356956bfd54"
      },
      "outputs": [
        {
          "output_type": "error",
          "ename": "TypeError",
          "evalue": "'tuple' object does not support item assignment",
          "traceback": [
            "\u001b[0;31m---------------------------------------------------------------------------\u001b[0m",
            "\u001b[0;31mTypeError\u001b[0m                                 Traceback (most recent call last)",
            "\u001b[0;32m<ipython-input-7-11b694945ab9>\u001b[0m in \u001b[0;36m<cell line: 2>\u001b[0;34m()\u001b[0m\n\u001b[1;32m      1\u001b[0m \u001b[0mtup\u001b[0m \u001b[0;34m=\u001b[0m \u001b[0mtuple\u001b[0m\u001b[0;34m(\u001b[0m\u001b[0;34m[\u001b[0m\u001b[0;34m'foo'\u001b[0m\u001b[0;34m,\u001b[0m \u001b[0;34m[\u001b[0m\u001b[0;36m1\u001b[0m\u001b[0;34m,\u001b[0m \u001b[0;36m2\u001b[0m\u001b[0;34m]\u001b[0m\u001b[0;34m,\u001b[0m \u001b[0;32mTrue\u001b[0m\u001b[0;34m]\u001b[0m\u001b[0;34m)\u001b[0m\u001b[0;34m\u001b[0m\u001b[0;34m\u001b[0m\u001b[0m\n\u001b[0;32m----> 2\u001b[0;31m \u001b[0mtup\u001b[0m\u001b[0;34m[\u001b[0m\u001b[0;36m2\u001b[0m\u001b[0;34m]\u001b[0m \u001b[0;34m=\u001b[0m \u001b[0;32mFalse\u001b[0m\u001b[0;34m\u001b[0m\u001b[0;34m\u001b[0m\u001b[0m\n\u001b[0m",
            "\u001b[0;31mTypeError\u001b[0m: 'tuple' object does not support item assignment"
          ]
        }
      ],
      "source": [
        "tup = tuple(['foo', [1, 2], True])\n",
        "tup[2] = False"
      ]
    },
    {
      "cell_type": "markdown",
      "source": [
        "If an object inside a tuple is mutable, such as a list, you can modify it in place:"
      ],
      "metadata": {
        "id": "_UAsc09p4hMd"
      }
    },
    {
      "cell_type": "code",
      "execution_count": null,
      "metadata": {
        "colab": {
          "base_uri": "https://localhost:8080/"
        },
        "id": "TtgYyQrD16ZJ",
        "outputId": "d325b70d-e869-4f6a-96de-bc4d87b3535c"
      },
      "outputs": [
        {
          "output_type": "execute_result",
          "data": {
            "text/plain": [
              "('foo', [1, 2, 3], True)"
            ]
          },
          "metadata": {},
          "execution_count": 8
        }
      ],
      "source": [
        "tup[1].append(3)\n",
        "tup"
      ]
    },
    {
      "cell_type": "markdown",
      "source": [
        "You can concatenate tuples using the + operator to produce longer tuples:"
      ],
      "metadata": {
        "id": "-CgsMCcQ4lWy"
      }
    },
    {
      "cell_type": "code",
      "execution_count": null,
      "metadata": {
        "colab": {
          "base_uri": "https://localhost:8080/"
        },
        "id": "hkAdmHwZ16ZK",
        "outputId": "850a60a4-7b61-4c37-bdc8-16ca872b0168"
      },
      "outputs": [
        {
          "output_type": "execute_result",
          "data": {
            "text/plain": [
              "(4, None, 'foo', 6, 0, 'bar')"
            ]
          },
          "metadata": {},
          "execution_count": 9
        }
      ],
      "source": [
        "(4, None, 'foo') + (6, 0) + ('bar',)"
      ]
    },
    {
      "cell_type": "markdown",
      "source": [
        "Multiplying a tuple by an integer, as with lists, has the effect of concatenating that\n",
        "many copies of the tuple:"
      ],
      "metadata": {
        "id": "VgkfU1RX4sl1"
      }
    },
    {
      "cell_type": "code",
      "execution_count": null,
      "metadata": {
        "colab": {
          "base_uri": "https://localhost:8080/"
        },
        "id": "yvZX12pz16ZK",
        "outputId": "986ac45d-23c3-4c9b-d86b-0cf2c0151632"
      },
      "outputs": [
        {
          "output_type": "execute_result",
          "data": {
            "text/plain": [
              "('foo', 'bar', 'foo', 'bar', 'foo', 'bar', 'foo', 'bar')"
            ]
          },
          "metadata": {},
          "execution_count": 11
        }
      ],
      "source": [
        "('foo', 'bar') * 4"
      ]
    },
    {
      "cell_type": "markdown",
      "source": [
        "### Unpacking tuples"
      ],
      "metadata": {
        "id": "koemPI96495f"
      }
    },
    {
      "cell_type": "markdown",
      "source": [
        "If you try to assign to a tuple-like expression of variables, Python will attempt to unpack the value on the righthand side of the equals sign:"
      ],
      "metadata": {
        "id": "G8JGlYJF47Qg"
      }
    },
    {
      "cell_type": "code",
      "execution_count": null,
      "metadata": {
        "id": "B0_-2f_d16ZK"
      },
      "outputs": [],
      "source": [
        "tup = (4, 5, 6)\n",
        "a, b, c = tup\n",
        "b"
      ]
    },
    {
      "cell_type": "markdown",
      "source": [
        "Even sequences with nested tuples can be unpacked:"
      ],
      "metadata": {
        "id": "XOEQUQ6m5FBG"
      }
    },
    {
      "cell_type": "code",
      "execution_count": null,
      "metadata": {
        "id": "wG6ELVOC16ZK"
      },
      "outputs": [],
      "source": [
        "tup = 4, 5, (6, 7)\n",
        "a, b, (c, d) = tup\n",
        "d"
      ]
    },
    {
      "cell_type": "code",
      "execution_count": null,
      "metadata": {
        "colab": {
          "base_uri": "https://localhost:8080/"
        },
        "id": "4w2f2uWh16ZL",
        "outputId": "69ad1691-58a5-44cc-c88a-e4a9fc9d5213"
      },
      "outputs": [
        {
          "output_type": "execute_result",
          "data": {
            "text/plain": [
              "1"
            ]
          },
          "metadata": {},
          "execution_count": 15
        }
      ],
      "source": [
        "a, b = 1, 2\n",
        "a\n",
        "b\n",
        "b, a = a, b\n",
        "a\n",
        "b"
      ]
    },
    {
      "cell_type": "markdown",
      "source": [
        "A common use of variable unpacking is iterating over sequences of tuples or lists:"
      ],
      "metadata": {
        "id": "AuiFvgya5S9p"
      }
    },
    {
      "cell_type": "code",
      "execution_count": null,
      "metadata": {
        "colab": {
          "base_uri": "https://localhost:8080/"
        },
        "id": "9q_Fp9pm16ZL",
        "outputId": "d76b0813-c3e9-4d78-bbcd-5c282d0356ea"
      },
      "outputs": [
        {
          "output_type": "stream",
          "name": "stdout",
          "text": [
            "a=1, b=2, c=3\n",
            "a=4, b=5, c=6\n",
            "a=7, b=8, c=9\n"
          ]
        }
      ],
      "source": [
        "seq = [(1, 2, 3), (4, 5, 6), (7, 8, 9)]\n",
        "for a, b, c in seq:\n",
        "    print(f'a={a}, b={b}, c={c}')"
      ]
    },
    {
      "cell_type": "markdown",
      "source": [
        "There are some situations where you may want to “pluck” a few elements from the beginning of a tuple. There is a special syntax that can do this, *rest, which is also used in function signatures to capture an arbitrarily long list of positional arguments:"
      ],
      "metadata": {
        "id": "2aukCeln5bDl"
      }
    },
    {
      "cell_type": "code",
      "execution_count": null,
      "metadata": {
        "colab": {
          "base_uri": "https://localhost:8080/"
        },
        "id": "W3oRBoLs16ZL",
        "outputId": "ba0f7aa6-4741-41ad-9fc2-e05ece0078c0"
      },
      "outputs": [
        {
          "output_type": "stream",
          "name": "stdout",
          "text": [
            "1\n",
            "2\n",
            "[3, 4, 5]\n"
          ]
        }
      ],
      "source": [
        "values = 1, 2, 3, 4, 5\n",
        "a, b, *rest = values\n",
        "print(a)\n",
        "print(b)\n",
        "print(rest)"
      ]
    },
    {
      "cell_type": "markdown",
      "source": [
        "This rest bit is sometimes something you want to discard; there is nothing special about the rest name. As a matter of convention, many Python programmers will use the underscore (_) for unwanted variables:"
      ],
      "metadata": {
        "id": "vHEc7Zja5oPO"
      }
    },
    {
      "cell_type": "code",
      "execution_count": null,
      "metadata": {
        "id": "rAo1Eb4016ZL"
      },
      "outputs": [],
      "source": [
        "a, b, *_ = values"
      ]
    },
    {
      "cell_type": "markdown",
      "source": [
        "###Tuple methods"
      ],
      "metadata": {
        "id": "JddB7h3T5s93"
      }
    },
    {
      "cell_type": "markdown",
      "source": [
        "Since the size and contents of a tuple cannot be modified, it is very light on instance methods. A particularly useful one (also available on lists) is count, which counts the number of occurrences of a value:"
      ],
      "metadata": {
        "id": "EufwyMjF5uNo"
      }
    },
    {
      "cell_type": "code",
      "execution_count": null,
      "metadata": {
        "id": "A0pfJLEz16ZL"
      },
      "outputs": [],
      "source": [
        "a = (1, 2, 2, 2, 3, 4, 2)\n",
        "a.count(2)"
      ]
    },
    {
      "cell_type": "markdown",
      "source": [
        "# List"
      ],
      "metadata": {
        "id": "-IbiwX0K6B8j"
      }
    },
    {
      "cell_type": "code",
      "execution_count": null,
      "metadata": {
        "colab": {
          "base_uri": "https://localhost:8080/"
        },
        "id": "2jjPHq2P16ZL",
        "outputId": "781382fc-9382-4cb8-d4c9-8181523e7312"
      },
      "outputs": [
        {
          "output_type": "stream",
          "name": "stdout",
          "text": [
            "['foo', 'bar', 'baz']\n",
            "['foo', 'peekaboo', 'baz']\n"
          ]
        }
      ],
      "source": [
        "a_list = [2, 3, 7, None]\n",
        "\n",
        "tup = (\"foo\", \"bar\", \"baz\")\n",
        "b_list = list(tup)\n",
        "print(b_list)\n",
        "b_list[1] = \"peekaboo\"\n",
        "print(b_list)"
      ]
    },
    {
      "cell_type": "markdown",
      "source": [
        "Lists and tuples are semantically similar (though tuples cannot be modified) and can\n",
        "be used interchangeably in many functions.\n",
        "The list built-in function is frequently used in data processing as a way to material‐ ize an iterator or generator expression:"
      ],
      "metadata": {
        "id": "Wa_u8kIj6dQD"
      }
    },
    {
      "cell_type": "code",
      "execution_count": null,
      "metadata": {
        "id": "Go8DqfPI16ZM"
      },
      "outputs": [],
      "source": [
        "gen = range(10)\n",
        "gen\n",
        "list(gen)"
      ]
    },
    {
      "cell_type": "markdown",
      "source": [
        "## Adding and removing elements"
      ],
      "metadata": {
        "id": "S-sv88Jz6gvv"
      }
    },
    {
      "cell_type": "markdown",
      "source": [
        "Elements can be appended to the end of the list with the append method:"
      ],
      "metadata": {
        "id": "hSRtGQIY6lza"
      }
    },
    {
      "cell_type": "code",
      "execution_count": null,
      "metadata": {
        "colab": {
          "base_uri": "https://localhost:8080/"
        },
        "id": "tTX0TgAH16ZM",
        "outputId": "17bc441d-b6df-469f-950c-4964466dc32e"
      },
      "outputs": [
        {
          "output_type": "execute_result",
          "data": {
            "text/plain": [
              "['red', 'baz', 'dwarf']"
            ]
          },
          "metadata": {},
          "execution_count": 27
        }
      ],
      "source": [
        "b_list.append(\"dwarf\")\n",
        "b_list"
      ]
    },
    {
      "cell_type": "markdown",
      "source": [
        "Using insert you can insert an element at a specific location in the list:"
      ],
      "metadata": {
        "id": "PUlHCE666yQO"
      }
    },
    {
      "cell_type": "code",
      "execution_count": null,
      "metadata": {
        "colab": {
          "base_uri": "https://localhost:8080/"
        },
        "id": "sYN5x_o116ZM",
        "outputId": "559e6467-3f2c-4842-a376-f5fe3875a099"
      },
      "outputs": [
        {
          "output_type": "execute_result",
          "data": {
            "text/plain": [
              "['red', 'red', 'baz', 'dwarf']"
            ]
          },
          "metadata": {},
          "execution_count": 28
        }
      ],
      "source": [
        "b_list.insert(1, \"red\")\n",
        "b_list"
      ]
    },
    {
      "cell_type": "markdown",
      "source": [
        "The insertion index must be between 0 and the length of the list, inclusive."
      ],
      "metadata": {
        "id": "Ewl0qfKt6734"
      }
    },
    {
      "cell_type": "markdown",
      "source": [
        "The inverse operation to insert is pop, which removes and returns an element at a particular index:"
      ],
      "metadata": {
        "id": "mlWQLMD96_TH"
      }
    },
    {
      "cell_type": "code",
      "execution_count": null,
      "metadata": {
        "colab": {
          "base_uri": "https://localhost:8080/"
        },
        "id": "ONUBnKNl16ZM",
        "outputId": "5583db94-c982-4fdd-9448-d71765c10000"
      },
      "outputs": [
        {
          "output_type": "execute_result",
          "data": {
            "text/plain": [
              "['red', 'red', 'dwarf']"
            ]
          },
          "metadata": {},
          "execution_count": 29
        }
      ],
      "source": [
        "b_list.pop(2)\n",
        "b_list"
      ]
    },
    {
      "cell_type": "markdown",
      "source": [
        "Elements can be removed by value with remove, which locates the first such value and removes it from the list:"
      ],
      "metadata": {
        "id": "1_Bj5ajY7LN8"
      }
    },
    {
      "cell_type": "code",
      "execution_count": null,
      "metadata": {
        "colab": {
          "base_uri": "https://localhost:8080/"
        },
        "id": "IbiqyUZo16ZM",
        "outputId": "fda9de24-0d95-4071-9c2c-9e4374eaa05e"
      },
      "outputs": [
        {
          "output_type": "stream",
          "name": "stdout",
          "text": [
            "['red', 'red', 'dwarf', 'foo']\n",
            "['red', 'red', 'dwarf']\n"
          ]
        }
      ],
      "source": [
        "b_list.append(\"foo\")\n",
        "print(b_list)\n",
        "b_list.remove(\"foo\")\n",
        "print(b_list)"
      ]
    },
    {
      "cell_type": "markdown",
      "source": [
        "If performance is not a concern, by using append and remove, you can use a Python list as a set-like data structure (although Python has actual set objects, discussed later)."
      ],
      "metadata": {
        "id": "vvoCTsA27jZd"
      }
    },
    {
      "cell_type": "markdown",
      "source": [
        "Check if a list contains a value using the in keyword:"
      ],
      "metadata": {
        "id": "qrums-eK7l7e"
      }
    },
    {
      "cell_type": "code",
      "execution_count": null,
      "metadata": {
        "colab": {
          "base_uri": "https://localhost:8080/"
        },
        "id": "MhxKpMms16ZM",
        "outputId": "2bd128b6-1962-45a6-f331-12764442c040"
      },
      "outputs": [
        {
          "output_type": "execute_result",
          "data": {
            "text/plain": [
              "True"
            ]
          },
          "metadata": {},
          "execution_count": 31
        }
      ],
      "source": [
        "\"dwarf\" in b_list"
      ]
    },
    {
      "cell_type": "code",
      "execution_count": null,
      "metadata": {
        "colab": {
          "base_uri": "https://localhost:8080/"
        },
        "id": "scXnH8y016ZN",
        "outputId": "2c3e15e9-359b-4f75-eca4-c3b5a7d72430"
      },
      "outputs": [
        {
          "output_type": "execute_result",
          "data": {
            "text/plain": [
              "False"
            ]
          },
          "metadata": {},
          "execution_count": 32
        }
      ],
      "source": [
        "\"dwarf\" not in b_list"
      ]
    },
    {
      "cell_type": "markdown",
      "source": [
        "Checking whether a list contains a value is a lot slower than doing so with diction‐ aries and sets (to be introduced shortly), as Python makes a linear scan across the values of the list, whereas it can check the others (based on hash tables) in constant time."
      ],
      "metadata": {
        "id": "qnB2uHdi7w7r"
      }
    },
    {
      "cell_type": "markdown",
      "source": [
        "## Concatenating and combining lists"
      ],
      "metadata": {
        "id": "cGgHm8KP70Fu"
      }
    },
    {
      "cell_type": "markdown",
      "source": [
        "Similar to tuples, adding two lists together with + concatenates them:"
      ],
      "metadata": {
        "id": "jh_oqXzR72fP"
      }
    },
    {
      "cell_type": "code",
      "execution_count": null,
      "metadata": {
        "colab": {
          "base_uri": "https://localhost:8080/"
        },
        "id": "LRj1JDwJ16ZN",
        "outputId": "752a9230-1918-4af8-b31c-3a0571f94a29"
      },
      "outputs": [
        {
          "output_type": "execute_result",
          "data": {
            "text/plain": [
              "[4, None, 'foo', 7, 8, (2, 3)]"
            ]
          },
          "metadata": {},
          "execution_count": 33
        }
      ],
      "source": [
        "[4, None, \"foo\"] + [7, 8, (2, 3)]"
      ]
    },
    {
      "cell_type": "markdown",
      "source": [
        "If you have a list already defined, you can append multiple elements to it using the\n",
        "extend method:"
      ],
      "metadata": {
        "id": "VsLMJIbZ8A8h"
      }
    },
    {
      "cell_type": "code",
      "execution_count": null,
      "metadata": {
        "id": "n-xU2yYK16ZN"
      },
      "outputs": [],
      "source": [
        "x = [4, None, \"foo\"]\n",
        "x.extend([7, 8, (2, 3)])\n",
        "x"
      ]
    },
    {
      "cell_type": "markdown",
      "source": [
        "Note that list concatenation by addition is a comparatively expensive operation since a new list must be created and the objects copied over. Using extend to append elements to an existing list, especially if you are building up a large list, is usually preferable.\n",
        "\n",
        "So:\n",
        "```\n",
        "everything = []\n",
        "for chunk in list_of_lists:\n",
        "  everything.extend(chunk)\n",
        "```\n",
        "is faster than the concatenative alternative:\n",
        "```\n",
        "everything = []\n",
        "for chunk in list_of_lists:\n",
        "  everything = everything + chunk\n",
        "```"
      ],
      "metadata": {
        "id": "O5L3tutm8SSz"
      }
    },
    {
      "cell_type": "markdown",
      "source": [
        "#Sorting"
      ],
      "metadata": {
        "id": "yds541kcF1t7"
      }
    },
    {
      "cell_type": "markdown",
      "source": [
        "You can sort a list in place (without creating a new object) by calling its sort function:"
      ],
      "metadata": {
        "id": "f7kF9u8GF40Z"
      }
    },
    {
      "cell_type": "code",
      "execution_count": null,
      "metadata": {
        "id": "0mcoI5nT16ZN"
      },
      "outputs": [],
      "source": [
        "a = [7, 2, 5, 1, 3]\n",
        "a.sort()\n",
        "a"
      ]
    },
    {
      "cell_type": "markdown",
      "source": [
        "sort has a few options that will occasionally come in handy. One is the ability to pass a secondary sort key—that is, a function that produces a value to use to sort the objects. For example, we could sort a collection of strings by their lengths:"
      ],
      "metadata": {
        "id": "x-cuW0O7F_tW"
      }
    },
    {
      "cell_type": "code",
      "execution_count": 34,
      "metadata": {
        "id": "7PVsDxum16ZN",
        "colab": {
          "base_uri": "https://localhost:8080/"
        },
        "outputId": "4db3ea73-259d-431a-c1db-43b9edce2202"
      },
      "outputs": [
        {
          "output_type": "stream",
          "name": "stdout",
          "text": [
            "['He', 'saw', 'six', 'small', 'foxes']\n",
            "['He', 'foxes', 'saw', 'six', 'small']\n"
          ]
        }
      ],
      "source": [
        "b = [\"saw\", \"small\", \"He\", \"foxes\", \"six\"]\n",
        "b.sort(key=len)\n",
        "print(b)\n",
        "\n",
        "b2 = [\"saw\", \"small\", \"He\", \"foxes\", \"six\"]\n",
        "b2.sort()\n",
        "print(b2)"
      ]
    },
    {
      "cell_type": "markdown",
      "source": [
        "Soon, we’ll look at the sorted function, which can produce a sorted copy of a general sequence."
      ],
      "metadata": {
        "id": "-DMT8ZcGGPjB"
      }
    },
    {
      "cell_type": "markdown",
      "source": [
        "###Slicing"
      ],
      "metadata": {
        "id": "9I7io7QIGXvb"
      }
    },
    {
      "cell_type": "markdown",
      "source": [
        "You can select sections of most sequence types by using slice notation, which in its basic form consists of start:stop passed to the indexing operator []:"
      ],
      "metadata": {
        "id": "q_utin0DGbQc"
      }
    },
    {
      "cell_type": "code",
      "execution_count": null,
      "metadata": {
        "id": "Km7Dwh7816ZO"
      },
      "outputs": [],
      "source": [
        "seq = [7, 2, 3, 7, 5, 6, 0, 1]\n",
        "seq[1:5]"
      ]
    },
    {
      "cell_type": "markdown",
      "source": [
        "Slices can also be assigned with a sequence:"
      ],
      "metadata": {
        "id": "qFw8k_y-Gdf9"
      }
    },
    {
      "cell_type": "code",
      "execution_count": null,
      "metadata": {
        "id": "6RDmtzq616ZO"
      },
      "outputs": [],
      "source": [
        "seq[3:5] = [6, 3]\n",
        "seq"
      ]
    },
    {
      "cell_type": "markdown",
      "source": [
        "While the element at the start index is included, the stop index is not included, so\n",
        "that the number of elements in the result is stop - start.\n",
        "Either the start or stop can be omitted, in which case they default to the start of the\n",
        "sequence and the end of the sequence, respectively:"
      ],
      "metadata": {
        "id": "K3z-GY2BGr5J"
      }
    },
    {
      "cell_type": "code",
      "execution_count": null,
      "metadata": {
        "id": "VDYUo7z_16ZO"
      },
      "outputs": [],
      "source": [
        "seq[:5]\n",
        "seq[3:]"
      ]
    },
    {
      "cell_type": "markdown",
      "source": [
        "Negative indices slice the sequence relative to the end:"
      ],
      "metadata": {
        "id": "csNXG0NBG3pV"
      }
    },
    {
      "cell_type": "code",
      "execution_count": 35,
      "metadata": {
        "id": "6V0Yx6jY16ZO",
        "colab": {
          "base_uri": "https://localhost:8080/"
        },
        "outputId": "a4cc210f-3625-460f-833b-c4eaa56a8ed2"
      },
      "outputs": [
        {
          "output_type": "execute_result",
          "data": {
            "text/plain": [
              "[(1, 2, 3)]"
            ]
          },
          "metadata": {},
          "execution_count": 35
        }
      ],
      "source": [
        "seq[-4:]\n",
        "seq[-6:-2]"
      ]
    },
    {
      "cell_type": "markdown",
      "source": [
        "A step can also be used after a second colon to, say, take every other element:"
      ],
      "metadata": {
        "id": "J6IR8IaCHHx9"
      }
    },
    {
      "cell_type": "code",
      "execution_count": null,
      "metadata": {
        "id": "o2A5QNEB16ZO"
      },
      "outputs": [],
      "source": [
        "seq[::2]"
      ]
    },
    {
      "cell_type": "markdown",
      "source": [
        "A clever use of this is to pass -1, which has the useful effect of reversing a list or tuple:"
      ],
      "metadata": {
        "id": "ddeVEB6sHKK5"
      }
    },
    {
      "cell_type": "code",
      "execution_count": null,
      "metadata": {
        "id": "Mkiqsi8x16ZP"
      },
      "outputs": [],
      "source": [
        "seq[::-1]"
      ]
    },
    {
      "cell_type": "markdown",
      "source": [
        "#Dictionary"
      ],
      "metadata": {
        "id": "PIBNXXVjHQHc"
      }
    },
    {
      "cell_type": "code",
      "execution_count": 37,
      "metadata": {
        "id": "lvNjyDNC16ZP",
        "colab": {
          "base_uri": "https://localhost:8080/"
        },
        "outputId": "e96d0036-36b7-4a3d-8496-44a449f45be2"
      },
      "outputs": [
        {
          "output_type": "execute_result",
          "data": {
            "text/plain": [
              "{'a': 'some value', 'b': [1, 2, 3, 4]}"
            ]
          },
          "metadata": {},
          "execution_count": 37
        }
      ],
      "source": [
        "empty_dict = {}\n",
        "d1 = {\"a\": \"some value\", \"b\": [1, 2, 3, 4]}\n",
        "d1"
      ]
    },
    {
      "cell_type": "markdown",
      "source": [
        "You can access, insert, or set elements using the same syntax as for accessing elements of a list or tuple:"
      ],
      "metadata": {
        "id": "otx4eHAaHvhS"
      }
    },
    {
      "cell_type": "code",
      "execution_count": 38,
      "metadata": {
        "id": "iYrxURBu16ZP",
        "colab": {
          "base_uri": "https://localhost:8080/"
        },
        "outputId": "d8ae8b4c-2769-46c0-9061-e45f5a22f070"
      },
      "outputs": [
        {
          "output_type": "execute_result",
          "data": {
            "text/plain": [
              "[1, 2, 3, 4]"
            ]
          },
          "metadata": {},
          "execution_count": 38
        }
      ],
      "source": [
        "d1[7] = \"an integer\"\n",
        "d1\n",
        "d1[\"b\"]"
      ]
    },
    {
      "cell_type": "markdown",
      "source": [
        "You can check if a dictionary contains a key using the same syntax used for checking whether a list or tuple contains a value:"
      ],
      "metadata": {
        "id": "cHBXxL0qHz3L"
      }
    },
    {
      "cell_type": "code",
      "execution_count": null,
      "metadata": {
        "id": "88tnLH0R16ZP"
      },
      "outputs": [],
      "source": [
        "\"b\" in d1"
      ]
    },
    {
      "cell_type": "markdown",
      "source": [
        "You can delete values using either the del keyword or the pop method (which simultaneously returns the value and deletes the key):"
      ],
      "metadata": {
        "id": "6dHWGSKhH4eB"
      }
    },
    {
      "cell_type": "code",
      "execution_count": 39,
      "metadata": {
        "id": "DuKVN59y16ZP",
        "colab": {
          "base_uri": "https://localhost:8080/"
        },
        "outputId": "cc36a5e7-e40c-43c9-8703-5ac9ab7ed8cd"
      },
      "outputs": [
        {
          "output_type": "stream",
          "name": "stdout",
          "text": [
            "{'a': 'some value', 'b': [1, 2, 3, 4], 7: 'an integer', 5: 'some value'}\n",
            "{'a': 'some value', 'b': [1, 2, 3, 4], 7: 'an integer', 5: 'some value', 'dummy': 'another value'}\n",
            "{'a': 'some value', 'b': [1, 2, 3, 4], 7: 'an integer', 'dummy': 'another value'}\n",
            "another value\n",
            "{'a': 'some value', 'b': [1, 2, 3, 4], 7: 'an integer'}\n"
          ]
        }
      ],
      "source": [
        "d1[5] = \"some value\"\n",
        "print(d1)\n",
        "d1[\"dummy\"] = \"another value\"\n",
        "print(d1)\n",
        "del d1[5]\n",
        "print(d1)\n",
        "ret = d1.pop(\"dummy\")\n",
        "print(ret)\n",
        "print(d1)"
      ]
    },
    {
      "cell_type": "markdown",
      "source": [
        "The keys and values method gives you iterators of the dictionary’s keys and values, respectively. The order of the keys depends on the order of their insertion, and these functions output the keys and values in the same respective order:"
      ],
      "metadata": {
        "id": "-Of4PkbWIJ4N"
      }
    },
    {
      "cell_type": "code",
      "execution_count": null,
      "metadata": {
        "id": "-4pLwJxp16Za"
      },
      "outputs": [],
      "source": [
        "list(d1.keys())\n",
        "list(d1.values())"
      ]
    },
    {
      "cell_type": "markdown",
      "source": [
        "If you need to iterate over both the keys and values, you can use the items method to iterate over the keys and values as 2-tuples:"
      ],
      "metadata": {
        "id": "NzjDUAOyIOTw"
      }
    },
    {
      "cell_type": "code",
      "execution_count": null,
      "metadata": {
        "id": "yS4WXm4u16Za"
      },
      "outputs": [],
      "source": [
        "list(d1.items())"
      ]
    },
    {
      "cell_type": "markdown",
      "source": [
        "\n",
        "You can merge one dictionary into another using the update method:"
      ],
      "metadata": {
        "id": "2PZRKwImISMF"
      }
    },
    {
      "cell_type": "code",
      "execution_count": null,
      "metadata": {
        "id": "NyUeLu5h16Zb"
      },
      "outputs": [],
      "source": [
        "d1.update({\"b\": \"foo\", \"c\": 12})\n",
        "d1"
      ]
    },
    {
      "cell_type": "markdown",
      "source": [
        "The update method changes dictionaries in place, so any existing keys in the data passed to update will have their old values discarded."
      ],
      "metadata": {
        "id": "Rt4R_g_7IYoN"
      }
    },
    {
      "cell_type": "markdown",
      "source": [
        "###Creating dictionaries from sequences"
      ],
      "metadata": {
        "id": "KzXzxGYRIfRA"
      }
    },
    {
      "cell_type": "code",
      "execution_count": 40,
      "metadata": {
        "id": "zksUTU3P16Zb",
        "colab": {
          "base_uri": "https://localhost:8080/"
        },
        "outputId": "5e2b2efd-6e9f-4ad8-a14e-5ca717989059"
      },
      "outputs": [
        {
          "output_type": "stream",
          "name": "stdout",
          "text": [
            "<zip object at 0x79da80217440>\n",
            "{0: 4, 1: 3, 2: 2, 3: 1, 4: 0}\n"
          ]
        }
      ],
      "source": [
        "tuples = zip(range(5), reversed(range(5)))\n",
        "print(tuples)\n",
        "mapping = dict(tuples)\n",
        "print(mapping)\n"
      ]
    },
    {
      "cell_type": "code",
      "execution_count": 41,
      "metadata": {
        "id": "ywuBzLGb16Zb",
        "colab": {
          "base_uri": "https://localhost:8080/"
        },
        "outputId": "6656c19e-0599-4a7e-8543-2b54aa50813d"
      },
      "outputs": [
        {
          "output_type": "execute_result",
          "data": {
            "text/plain": [
              "{'a': ['apple', 'atom'], 'b': ['bat', 'bar', 'book']}"
            ]
          },
          "metadata": {},
          "execution_count": 41
        }
      ],
      "source": [
        "words = [\"apple\", \"bat\", \"bar\", \"atom\", \"book\"]\n",
        "by_letter = {}\n",
        "\n",
        "for word in words:\n",
        "    letter = word[0]\n",
        "    if letter not in by_letter:\n",
        "        by_letter[letter] = [word]\n",
        "    else:\n",
        "        by_letter[letter].append(word)\n",
        "\n",
        "by_letter"
      ]
    },
    {
      "cell_type": "markdown",
      "source": [
        "The setdefault dictionary method can be used to simplify this workflow. The preceding for loop can be rewritten as:"
      ],
      "metadata": {
        "id": "-Rw3ENTKJIhj"
      }
    },
    {
      "cell_type": "code",
      "execution_count": null,
      "metadata": {
        "id": "LHjAOIRc16Zc"
      },
      "outputs": [],
      "source": [
        "by_letter = {}\n",
        "for word in words:\n",
        "    letter = word[0]\n",
        "    by_letter.setdefault(letter, []).append(word)\n",
        "by_letter"
      ]
    },
    {
      "cell_type": "markdown",
      "source": [
        "The built-in collections module has a useful class, defaultdict, which makes this even easier. To create one, you pass a type or function for generating the default value for each slot in the dictionary:"
      ],
      "metadata": {
        "id": "brecuIPMJXrr"
      }
    },
    {
      "cell_type": "code",
      "execution_count": null,
      "metadata": {
        "id": "k2mMoENB16Zc"
      },
      "outputs": [],
      "source": [
        "from collections import defaultdict\n",
        "by_letter = defaultdict(list)\n",
        "for word in words:\n",
        "    by_letter[word[0]].append(word)"
      ]
    },
    {
      "cell_type": "markdown",
      "source": [
        "#Valid dictionary key types"
      ],
      "metadata": {
        "id": "R_hcam41JgEK"
      }
    },
    {
      "cell_type": "markdown",
      "source": [
        "While the values of a dictionary can be any Python object, the keys generally have to be immutable objects like scalar types (int, float, string) or tuples (all the objects in the tuple need to be immutable, too). The technical term here is hashability. You can check whether an object is hashable (can be used as a key in a dictionary) with the hash function:"
      ],
      "metadata": {
        "id": "xw7oWEDIJm2h"
      }
    },
    {
      "cell_type": "code",
      "execution_count": 2,
      "metadata": {
        "id": "jG3VFaUw16Zc",
        "colab": {
          "base_uri": "https://localhost:8080/",
          "height": 193
        },
        "outputId": "12a71c8e-a06c-4909-b134-88ecd8487cc9"
      },
      "outputs": [
        {
          "output_type": "stream",
          "name": "stdout",
          "text": [
            "-4220075762722178930\n"
          ]
        },
        {
          "output_type": "error",
          "ename": "TypeError",
          "evalue": "unhashable type: 'list'",
          "traceback": [
            "\u001b[0;31m---------------------------------------------------------------------------\u001b[0m",
            "\u001b[0;31mTypeError\u001b[0m                                 Traceback (most recent call last)",
            "\u001b[0;32m<ipython-input-2-f29c677f54a9>\u001b[0m in \u001b[0;36m<cell line: 3>\u001b[0;34m()\u001b[0m\n\u001b[1;32m      1\u001b[0m \u001b[0mprint\u001b[0m\u001b[0;34m(\u001b[0m\u001b[0mhash\u001b[0m\u001b[0;34m(\u001b[0m\u001b[0;34m\"string\"\u001b[0m\u001b[0;34m)\u001b[0m\u001b[0;34m)\u001b[0m\u001b[0;34m\u001b[0m\u001b[0;34m\u001b[0m\u001b[0m\n\u001b[1;32m      2\u001b[0m \u001b[0mhash\u001b[0m\u001b[0;34m(\u001b[0m\u001b[0;34m(\u001b[0m\u001b[0;36m1\u001b[0m\u001b[0;34m,\u001b[0m \u001b[0;36m2\u001b[0m\u001b[0;34m,\u001b[0m \u001b[0;34m(\u001b[0m\u001b[0;36m2\u001b[0m\u001b[0;34m,\u001b[0m \u001b[0;36m3\u001b[0m\u001b[0;34m)\u001b[0m\u001b[0;34m)\u001b[0m\u001b[0;34m)\u001b[0m\u001b[0;34m\u001b[0m\u001b[0;34m\u001b[0m\u001b[0m\n\u001b[0;32m----> 3\u001b[0;31m \u001b[0mhash\u001b[0m\u001b[0;34m(\u001b[0m\u001b[0;34m(\u001b[0m\u001b[0;36m1\u001b[0m\u001b[0;34m,\u001b[0m \u001b[0;36m2\u001b[0m\u001b[0;34m,\u001b[0m \u001b[0;34m[\u001b[0m\u001b[0;36m2\u001b[0m\u001b[0;34m,\u001b[0m \u001b[0;36m3\u001b[0m\u001b[0;34m]\u001b[0m\u001b[0;34m)\u001b[0m\u001b[0;34m)\u001b[0m \u001b[0;31m# fails because lists are mutable\u001b[0m\u001b[0;34m\u001b[0m\u001b[0;34m\u001b[0m\u001b[0m\n\u001b[0m",
            "\u001b[0;31mTypeError\u001b[0m: unhashable type: 'list'"
          ]
        }
      ],
      "source": [
        "print(hash(\"string\"))\n",
        "print(hash((1, 2, (2, 3))))\n",
        "print(hash((1, 2, [2, 3]))) # fails because lists are mutable"
      ]
    },
    {
      "cell_type": "markdown",
      "source": [
        "The hash values you see when using the hash function in general will depend on the Python version you are using.\n",
        "To use a list as a key, one option is to convert it to a tuple, which can be hashed as long as its elements also can be:"
      ],
      "metadata": {
        "id": "nN5jeOREJrOE"
      }
    },
    {
      "cell_type": "code",
      "execution_count": null,
      "metadata": {
        "id": "Tqi0C6Xp16Zd"
      },
      "outputs": [],
      "source": [
        "d = {}\n",
        "d[tuple([1, 2, 3])] = 5\n",
        "d"
      ]
    },
    {
      "cell_type": "markdown",
      "source": [
        "#Set"
      ],
      "metadata": {
        "id": "7sj3xLNnrNnm"
      }
    },
    {
      "cell_type": "code",
      "execution_count": null,
      "metadata": {
        "id": "nabpO1yG16Zd"
      },
      "outputs": [],
      "source": [
        "set([2, 2, 2, 1, 3, 3])\n",
        "{2, 2, 2, 1, 3, 3}"
      ]
    },
    {
      "cell_type": "markdown",
      "source": [
        "Sets support mathematical set operations like union, intersection, difference, and symmetric difference. Consider these two example sets:"
      ],
      "metadata": {
        "id": "MEctDW1srf3X"
      }
    },
    {
      "cell_type": "code",
      "execution_count": 4,
      "metadata": {
        "id": "_ku3jtnn16Ze"
      },
      "outputs": [],
      "source": [
        "a = {1, 2, 3, 4, 5}\n",
        "b = {3, 4, 5, 6, 7, 8}"
      ]
    },
    {
      "cell_type": "code",
      "execution_count": 5,
      "metadata": {
        "id": "qTW5_lb916Ze",
        "colab": {
          "base_uri": "https://localhost:8080/"
        },
        "outputId": "31414ced-4c53-4b2e-d2ff-010986aec816"
      },
      "outputs": [
        {
          "output_type": "stream",
          "name": "stdout",
          "text": [
            "{1, 2, 3, 4, 5, 6, 7, 8}\n",
            "{1, 2, 3, 4, 5, 6, 7, 8}\n"
          ]
        }
      ],
      "source": [
        "print(a.union(b))\n",
        "print(a | b)"
      ]
    },
    {
      "cell_type": "markdown",
      "source": [
        "The intersection contains the elements occurring in both sets. The & operator or the intersection method can be used:"
      ],
      "metadata": {
        "id": "AZM0y7L9ruIe"
      }
    },
    {
      "cell_type": "code",
      "execution_count": 6,
      "metadata": {
        "id": "K_6o7sKo16Ze",
        "colab": {
          "base_uri": "https://localhost:8080/"
        },
        "outputId": "ff4c20c1-8dc6-45ee-98ed-806bd78cedbd"
      },
      "outputs": [
        {
          "output_type": "stream",
          "name": "stdout",
          "text": [
            "{3, 4, 5}\n",
            "{3, 4, 5}\n"
          ]
        }
      ],
      "source": [
        "print(a.intersection(b))\n",
        "print(a & b)"
      ]
    },
    {
      "cell_type": "markdown",
      "source": [
        "All of the logical set operations have in-place counterparts, which enable you to replace the contents of the set on the left side of the operation with the result. For very large sets, this may be more efficient:"
      ],
      "metadata": {
        "id": "5ecfWVuusP8U"
      }
    },
    {
      "cell_type": "code",
      "execution_count": null,
      "metadata": {
        "id": "_V2wjfCD16Zf"
      },
      "outputs": [],
      "source": [
        "c = a.copy()\n",
        "c |= b\n",
        "c\n",
        "d = a.copy()\n",
        "d &= b\n",
        "d"
      ]
    },
    {
      "cell_type": "markdown",
      "source": [
        "Like dictionary keys, set elements generally must be immutable, and they must be hashable (which means that calling hash on a value does not raise an exception). In order to store list-like elements (or other mutable sequences) in a set, you can convert them to tuples:"
      ],
      "metadata": {
        "id": "rqUm78evsYM1"
      }
    },
    {
      "cell_type": "code",
      "execution_count": null,
      "metadata": {
        "id": "u264eJ_G16Zf"
      },
      "outputs": [],
      "source": [
        "my_data = [1, 2, 3, 4]\n",
        "my_set = {tuple(my_data)}\n",
        "my_set"
      ]
    },
    {
      "cell_type": "markdown",
      "source": [
        "You can also check if a set is a subset of (is contained in) or a superset of (contains all elements of) another set:"
      ],
      "metadata": {
        "id": "5XH4LAiLsb4y"
      }
    },
    {
      "cell_type": "code",
      "execution_count": null,
      "metadata": {
        "id": "CbRzcWMz16Zf"
      },
      "outputs": [],
      "source": [
        "a_set = {1, 2, 3, 4, 5}\n",
        "{1, 2, 3}.issubset(a_set)\n",
        "a_set.issuperset({1, 2, 3})"
      ]
    },
    {
      "cell_type": "markdown",
      "source": [
        "Sets are equal if and only if their contents are equal:"
      ],
      "metadata": {
        "id": "iZ1ZUtM6sfEc"
      }
    },
    {
      "cell_type": "code",
      "execution_count": 8,
      "metadata": {
        "id": "LXoOrufp16Zg",
        "colab": {
          "base_uri": "https://localhost:8080/"
        },
        "outputId": "7ca340df-49a5-4945-94e0-a96e5d4cfbb3"
      },
      "outputs": [
        {
          "output_type": "execute_result",
          "data": {
            "text/plain": [
              "True"
            ]
          },
          "metadata": {},
          "execution_count": 8
        }
      ],
      "source": [
        "{1, 2, 3} == {3, 2, 1}"
      ]
    },
    {
      "cell_type": "markdown",
      "source": [
        "#Built-In Sequence Functions\n",
        "###enumerate\n",
        "It’s common when iterating over a sequence to want to keep track of the index of the current item. A do-it-yourself approach would look like:\n",
        "```\n",
        "index = 0\n",
        "for value in collection:\n",
        "       # do something with value\n",
        "      index += 1\n",
        "```\n",
        "Since this is so common, Python has a built-in function, enumerate, which returns a sequence of (i, value) tuples:\n",
        "```\n",
        "for index, value in enumerate(collection):\n",
        "       # do something with value\n",
        "```"
      ],
      "metadata": {
        "id": "i_qyGp26tXh-"
      }
    },
    {
      "cell_type": "markdown",
      "source": [
        "###sorted\n",
        "\n",
        "The sorted function returns a new sorted list from the elements of any sequence:"
      ],
      "metadata": {
        "id": "edNgnkG0twUn"
      }
    },
    {
      "cell_type": "code",
      "execution_count": 7,
      "metadata": {
        "id": "kDFAI96P16Zg",
        "colab": {
          "base_uri": "https://localhost:8080/"
        },
        "outputId": "5566c175-1592-4a73-820b-3d64eea1e98d"
      },
      "outputs": [
        {
          "output_type": "execute_result",
          "data": {
            "text/plain": [
              "[' ', 'a', 'c', 'e', 'e', 'h', 'o', 'r', 'r', 's']"
            ]
          },
          "metadata": {},
          "execution_count": 7
        }
      ],
      "source": [
        "sorted([7, 1, 2, 6, 0, 3, 2])\n",
        "sorted(\"horse race\")"
      ]
    },
    {
      "cell_type": "markdown",
      "source": [
        "###zip\n",
        "\n",
        "zip “pairs” up the elements of a number of lists, tuples, or other sequences to create a list of tuples:"
      ],
      "metadata": {
        "id": "VWG00tRzt51z"
      }
    },
    {
      "cell_type": "code",
      "execution_count": 9,
      "metadata": {
        "id": "Zst8Trbe16Zg",
        "colab": {
          "base_uri": "https://localhost:8080/"
        },
        "outputId": "2a7549e4-a7f4-4a31-a129-6fdf688ffb14"
      },
      "outputs": [
        {
          "output_type": "execute_result",
          "data": {
            "text/plain": [
              "[('foo', 'one'), ('bar', 'two'), ('baz', 'three')]"
            ]
          },
          "metadata": {},
          "execution_count": 9
        }
      ],
      "source": [
        "seq1 = [\"foo\", \"bar\", \"baz\"]\n",
        "seq2 = [\"one\", \"two\", \"three\"]\n",
        "zipped = zip(seq1, seq2)\n",
        "list(zipped)"
      ]
    },
    {
      "cell_type": "markdown",
      "source": [
        "zip can take an arbitrary number of sequences, and the number of elements it produces is determined by the shortest sequence:"
      ],
      "metadata": {
        "id": "b6H_Ee5ruBoC"
      }
    },
    {
      "cell_type": "code",
      "source": [],
      "metadata": {
        "id": "zXySdrD3uK23"
      },
      "execution_count": null,
      "outputs": []
    },
    {
      "cell_type": "code",
      "execution_count": 10,
      "metadata": {
        "id": "r2YcwbZh16Zh",
        "colab": {
          "base_uri": "https://localhost:8080/"
        },
        "outputId": "db4f9a4f-7fd4-4ce0-b01a-0ba0407c0b89"
      },
      "outputs": [
        {
          "output_type": "execute_result",
          "data": {
            "text/plain": [
              "[('foo', 'one', False), ('bar', 'two', True)]"
            ]
          },
          "metadata": {},
          "execution_count": 10
        }
      ],
      "source": [
        "seq3 = [False, True]\n",
        "list(zip(seq1, seq2, seq3))"
      ]
    },
    {
      "cell_type": "markdown",
      "source": [
        "\n",
        "A common use of zip is simultaneously iterating over multiple sequences, possibly also combined with enumerate:"
      ],
      "metadata": {
        "id": "dLRsevsWuKU_"
      }
    },
    {
      "cell_type": "code",
      "execution_count": 11,
      "metadata": {
        "id": "mEDWjWqi16Zh",
        "colab": {
          "base_uri": "https://localhost:8080/"
        },
        "outputId": "89cb11b3-1ac4-4e16-a96b-81468ad4c7d2"
      },
      "outputs": [
        {
          "output_type": "stream",
          "name": "stdout",
          "text": [
            "0: foo, one\n",
            "1: bar, two\n",
            "2: baz, three\n"
          ]
        }
      ],
      "source": [
        "for index, (a, b) in enumerate(zip(seq1, seq2)):\n",
        "    print(f\"{index}: {a}, {b}\")\n"
      ]
    },
    {
      "cell_type": "markdown",
      "source": [
        "###reversed\n",
        "\n",
        "reversed iterates over the elements of a sequence in reverse order:"
      ],
      "metadata": {
        "id": "1IiT2qP-uUaa"
      }
    },
    {
      "cell_type": "code",
      "execution_count": null,
      "metadata": {
        "id": "RmpXKVsd16Zh"
      },
      "outputs": [],
      "source": [
        "list(reversed(range(10)))"
      ]
    },
    {
      "cell_type": "markdown",
      "source": [
        "#List, Set, and Dictionary Comprehensions\n",
        "List comprehensions are a convenient and widely used Python language feature. They allow you to concisely form a new list by filtering the elements of a collection, transforming the elements passing the filter into one concise expression. They take the basic form:\n",
        "\n",
        "```\n",
        "[expr for value in collection if condition]\n",
        "```\n",
        "This is equivalent to the following for loop:\n",
        "```\n",
        "    result = []\n",
        "    for value in collection:\n",
        "      if condition:\n",
        "      result.append(expr)\n",
        "```"
      ],
      "metadata": {
        "id": "cxl4d1-_uhK1"
      }
    },
    {
      "cell_type": "markdown",
      "source": [
        "Task: take out all word longer than 2 char, convert to upper case, add to new list"
      ],
      "metadata": {
        "id": "8Qkc46b4u5JY"
      }
    },
    {
      "cell_type": "code",
      "execution_count": 12,
      "metadata": {
        "id": "G1M8qmjj16Zh",
        "colab": {
          "base_uri": "https://localhost:8080/"
        },
        "outputId": "a560954f-84b9-4fb9-afb0-62dd6a34e6f1"
      },
      "outputs": [
        {
          "output_type": "execute_result",
          "data": {
            "text/plain": [
              "['BAT', 'CAR', 'DOVE', 'PYTHON']"
            ]
          },
          "metadata": {},
          "execution_count": 12
        }
      ],
      "source": [
        "strings = [\"a\", \"as\", \"bat\", \"car\", \"dove\", \"python\"]\n",
        "[x.upper() for x in strings if len(x) > 2]"
      ]
    },
    {
      "cell_type": "markdown",
      "source": [
        "Set exampe"
      ],
      "metadata": {
        "id": "GxaTXVtMvW1i"
      }
    },
    {
      "cell_type": "code",
      "execution_count": 13,
      "metadata": {
        "id": "DDZWJU-a16Zi",
        "colab": {
          "base_uri": "https://localhost:8080/"
        },
        "outputId": "4ba48454-b9bb-4b0f-a2bf-3fb653b66960"
      },
      "outputs": [
        {
          "output_type": "execute_result",
          "data": {
            "text/plain": [
              "{1, 2, 3, 4, 6}"
            ]
          },
          "metadata": {},
          "execution_count": 13
        }
      ],
      "source": [
        "unique_lengths = {len(x) for x in strings}\n",
        "unique_lengths"
      ]
    },
    {
      "cell_type": "markdown",
      "source": [
        "We could also express this more functionally using the map function, introduced shortly:"
      ],
      "metadata": {
        "id": "nnOMjJpQviFW"
      }
    },
    {
      "cell_type": "code",
      "execution_count": null,
      "metadata": {
        "id": "u1Rf5CIn16Zi"
      },
      "outputs": [],
      "source": [
        "set(map(len, strings))"
      ]
    },
    {
      "cell_type": "markdown",
      "source": [
        "As a simple dictionary comprehension example, we could create a lookup map of these strings for their locations in the list:"
      ],
      "metadata": {
        "id": "DEG75qkPvnLS"
      }
    },
    {
      "cell_type": "code",
      "execution_count": 14,
      "metadata": {
        "id": "Ru0FsjGf16Zi",
        "colab": {
          "base_uri": "https://localhost:8080/"
        },
        "outputId": "99f9eee9-a8ce-4bc4-c776-eadaf5907047"
      },
      "outputs": [
        {
          "output_type": "execute_result",
          "data": {
            "text/plain": [
              "{'a': 0, 'as': 1, 'bat': 2, 'car': 3, 'dove': 4, 'python': 5}"
            ]
          },
          "metadata": {},
          "execution_count": 14
        }
      ],
      "source": [
        "loc_mapping = {value: index for index, value in enumerate(strings)}\n",
        "loc_mapping"
      ]
    },
    {
      "cell_type": "markdown",
      "source": [
        "\n",
        "###Nested list comprehensions\n",
        "Suppose we have a list of lists containing some English and Spanish names:"
      ],
      "metadata": {
        "id": "4iQfWMKQv55M"
      }
    },
    {
      "cell_type": "code",
      "execution_count": 16,
      "metadata": {
        "id": "lkkAe1OJ16Zi"
      },
      "outputs": [],
      "source": [
        "all_data = [[\"John\", \"Emily\", \"Michael\", \"Mary\", \"Steven\"],\n",
        "            [\"Maria\", \"Juan\", \"Javier\", \"Natalia\", \"Pilar\"]]"
      ]
    },
    {
      "cell_type": "markdown",
      "source": [
        "Suppose we wanted to get a single list containing all names with two or more a’s in them. We could certainly do this with a simple for loop:"
      ],
      "metadata": {
        "id": "gRE9YdJ8v-x0"
      }
    },
    {
      "cell_type": "code",
      "execution_count": 17,
      "metadata": {
        "id": "ccBJiuIe16Zj",
        "colab": {
          "base_uri": "https://localhost:8080/"
        },
        "outputId": "c4057054-d56d-4a0f-df45-6c2020edbfdc"
      },
      "outputs": [
        {
          "output_type": "execute_result",
          "data": {
            "text/plain": [
              "['Maria', 'Natalia']"
            ]
          },
          "metadata": {},
          "execution_count": 17
        }
      ],
      "source": [
        "names_of_interest = []\n",
        "for names in all_data:\n",
        "    enough_as = [name for name in names if name.count(\"a\") >= 2]\n",
        "    names_of_interest.extend(enough_as)\n",
        "names_of_interest"
      ]
    },
    {
      "cell_type": "markdown",
      "source": [
        "You can actually wrap this whole operation up in a single nested list comprehension, which will look like:"
      ],
      "metadata": {
        "id": "-YIZPrtswHH3"
      }
    },
    {
      "cell_type": "code",
      "execution_count": 18,
      "metadata": {
        "id": "nl_GJmmK16Zj",
        "colab": {
          "base_uri": "https://localhost:8080/"
        },
        "outputId": "71fb3a01-3add-46c8-dcb4-9d0abac4cd25"
      },
      "outputs": [
        {
          "output_type": "execute_result",
          "data": {
            "text/plain": [
              "['Maria', 'Natalia']"
            ]
          },
          "metadata": {},
          "execution_count": 18
        }
      ],
      "source": [
        "result = [name for names in all_data for name in names\n",
        "          if name.count(\"a\") >= 2]\n",
        "result"
      ]
    },
    {
      "cell_type": "markdown",
      "source": [
        "At first, nested list comprehensions are a bit hard to wrap your head around. The for parts of the list comprehension are arranged according to the order of nesting, and any filter condition is put at the end as before. Here is another example where we “flatten” a list of tuples of integers into a simple list of integers:"
      ],
      "metadata": {
        "id": "VpscCgMDwZhP"
      }
    },
    {
      "cell_type": "code",
      "execution_count": null,
      "metadata": {
        "id": "tCkyfn1w16Zj"
      },
      "outputs": [],
      "source": [
        "some_tuples = [(1, 2, 3), (4, 5, 6), (7, 8, 9)]\n",
        "flattened = [x for tup in some_tuples for x in tup]\n",
        "flattened"
      ]
    },
    {
      "cell_type": "markdown",
      "source": [
        "Keep in mind that the order of the for expressions would be the same if you wrote a nested for loop instead of a list comprehension:"
      ],
      "metadata": {
        "id": "Amxi6siJwiIZ"
      }
    },
    {
      "cell_type": "code",
      "execution_count": null,
      "metadata": {
        "id": "CS5ivMhJ16Zj"
      },
      "outputs": [],
      "source": [
        "flattened = []\n",
        "\n",
        "for tup in some_tuples:\n",
        "    for x in tup:\n",
        "        flattened.append(x)"
      ]
    },
    {
      "cell_type": "markdown",
      "source": [
        "You can have arbitrarily many levels of nesting, though if you have more than two or three levels of nesting, you should probably start to question whether this makes sense from a code readability standpoint. It’s important to distinguish the syntax just shown from a list comprehension inside a list comprehension, which is also perfectly valid:"
      ],
      "metadata": {
        "id": "cx8q_5hwwm_T"
      }
    },
    {
      "cell_type": "code",
      "execution_count": null,
      "metadata": {
        "id": "upUxlKw116Zk"
      },
      "outputs": [],
      "source": [
        "[[x for x in tup] for tup in some_tuples]"
      ]
    },
    {
      "cell_type": "markdown",
      "source": [
        "#Function"
      ],
      "metadata": {
        "id": "TweluR9Qxc4U"
      }
    },
    {
      "cell_type": "code",
      "execution_count": 19,
      "metadata": {
        "id": "5_VW3hW716Zk"
      },
      "outputs": [],
      "source": [
        "def my_function(x, y):\n",
        "    return x + y"
      ]
    },
    {
      "cell_type": "code",
      "execution_count": 20,
      "metadata": {
        "id": "IXSYVvCl16Zk",
        "colab": {
          "base_uri": "https://localhost:8080/"
        },
        "outputId": "73b905b8-8cee-466c-f686-839b3b02495e"
      },
      "outputs": [
        {
          "output_type": "execute_result",
          "data": {
            "text/plain": [
              "3"
            ]
          },
          "metadata": {},
          "execution_count": 20
        }
      ],
      "source": [
        "my_function(1, 2)\n",
        "result = my_function(1, 2)\n",
        "result"
      ]
    },
    {
      "cell_type": "markdown",
      "source": [
        "There is no issue with having multiple return statements. If Python reaches the end of a function without encountering a return statement, None is returned automati‐ cally. For example:"
      ],
      "metadata": {
        "id": "uQxMKYTMxvCK"
      }
    },
    {
      "cell_type": "code",
      "execution_count": 21,
      "metadata": {
        "id": "1DSPaZQp16Zk",
        "colab": {
          "base_uri": "https://localhost:8080/"
        },
        "outputId": "9514a479-715f-404a-e300-4f8ef6d883fe"
      },
      "outputs": [
        {
          "output_type": "stream",
          "name": "stdout",
          "text": [
            "hello!\n",
            "None\n"
          ]
        }
      ],
      "source": [
        "def function_without_return(x):\n",
        "    print(x)\n",
        "\n",
        "result = function_without_return(\"hello!\")\n",
        "print(result)"
      ]
    },
    {
      "cell_type": "markdown",
      "source": [
        "Each function can have positional arguments and keyword arguments. Keyword argu‐ ments are most commonly used to specify default values or optional arguments. Here we will define a function with an optional z argument with the default value 1.5:"
      ],
      "metadata": {
        "id": "1F25J10Px2WV"
      }
    },
    {
      "cell_type": "code",
      "execution_count": 22,
      "metadata": {
        "id": "75ytP5mH16Zl"
      },
      "outputs": [],
      "source": [
        "def my_function2(x, y, z=1.5):\n",
        "    if z > 1:\n",
        "        return z * (x + y)\n",
        "    else:\n",
        "        return z / (x + y)"
      ]
    },
    {
      "cell_type": "markdown",
      "source": [
        "While keyword arguments are optional, all positional arguments must be specified\n",
        "when calling a function.\n",
        "You can pass values to the z argument with or without the keyword provided, though using the keyword is encouraged:"
      ],
      "metadata": {
        "id": "k7KwWeH6x8N-"
      }
    },
    {
      "cell_type": "code",
      "execution_count": null,
      "metadata": {
        "id": "vkp9MlL516Zl"
      },
      "outputs": [],
      "source": [
        "my_function2(5, 6, z=0.7)\n",
        "my_function2(3.14, 7, 3.5)\n",
        "my_function2(10, 20)"
      ]
    },
    {
      "cell_type": "markdown",
      "source": [
        "The main restriction on function arguments is that the keyword arguments must follow the positional arguments (if any). You can specify keyword arguments in any order. This frees you from having to remember the order in which the function arguments were specified. You need to remember only what their names are."
      ],
      "metadata": {
        "id": "YiWgCDTNyArR"
      }
    },
    {
      "cell_type": "code",
      "source": [
        "def func():\n",
        "  a=[]\n",
        "  for i in range(5):\n",
        "      a.append(i)\n"
      ],
      "metadata": {
        "id": "gJUmUuB6y7Tx"
      },
      "execution_count": 23,
      "outputs": []
    },
    {
      "cell_type": "markdown",
      "source": [
        "When func() is called, the empty list a is created, five elements are appended, and then a is destroyed when the function exits. Suppose instead we had declared a as follows:"
      ],
      "metadata": {
        "id": "6ST580Yzy_7Z"
      }
    },
    {
      "cell_type": "code",
      "execution_count": 24,
      "metadata": {
        "id": "D8lf6f7916Zm"
      },
      "outputs": [],
      "source": [
        "a = []\n",
        "def func():\n",
        "    for i in range(5):\n",
        "        a.append(i)"
      ]
    },
    {
      "cell_type": "markdown",
      "source": [
        "Each call to func will modify list a:"
      ],
      "metadata": {
        "id": "Q175ThATzC4-"
      }
    },
    {
      "cell_type": "code",
      "execution_count": 25,
      "metadata": {
        "id": "TrI61wis16Zm",
        "colab": {
          "base_uri": "https://localhost:8080/"
        },
        "outputId": "7f9b4f5a-b567-46ce-9cc1-3781b185bc44"
      },
      "outputs": [
        {
          "output_type": "stream",
          "name": "stdout",
          "text": [
            "[0, 1, 2, 3, 4]\n",
            "[0, 1, 2, 3, 4, 0, 1, 2, 3, 4]\n"
          ]
        }
      ],
      "source": [
        "func()\n",
        "print(a)\n",
        "func()\n",
        "print(a)"
      ]
    },
    {
      "cell_type": "markdown",
      "source": [
        "Assigning variables outside of the function’s scope is possible, but those variables\n",
        "must be declared explicitly using either the global or nonlocal keywords:"
      ],
      "metadata": {
        "id": "f5PuzyxCzRAW"
      }
    },
    {
      "cell_type": "code",
      "execution_count": 26,
      "metadata": {
        "id": "ZXjf7Jyo16Zm",
        "colab": {
          "base_uri": "https://localhost:8080/"
        },
        "outputId": "5f50cf61-d55e-4b70-acd8-d9db3e026e20"
      },
      "outputs": [
        {
          "output_type": "stream",
          "name": "stdout",
          "text": [
            "[]\n"
          ]
        }
      ],
      "source": [
        "a = None\n",
        "def bind_a_variable():\n",
        "    global a\n",
        "    a = []\n",
        "bind_a_variable()\n",
        "print(a)"
      ]
    },
    {
      "cell_type": "code",
      "source": [
        "a = None\n",
        "def bind_a_variable():\n",
        "    # global a\n",
        "    a = []\n",
        "bind_a_variable()\n",
        "print(a)"
      ],
      "metadata": {
        "colab": {
          "base_uri": "https://localhost:8080/"
        },
        "id": "A-JYgdXRzTHP",
        "outputId": "7f327cda-745c-4efe-c713-3aa554137d2e"
      },
      "execution_count": 27,
      "outputs": [
        {
          "output_type": "stream",
          "name": "stdout",
          "text": [
            "None\n"
          ]
        }
      ]
    },
    {
      "cell_type": "markdown",
      "source": [
        "\n",
        "Returning Multiple Values\n",
        "When I first programmed in Python after having programmed in Java and C++, one of my favorite features was the ability to return multiple values from a function with simple syntax. Here’s an example:\n",
        "```\n",
        "def f():\n",
        "  a=5\n",
        "  b=6\n",
        "  c=7\n",
        "  return a, b, c\n",
        "\n",
        "a,b,c=f()\n",
        "```\n"
      ],
      "metadata": {
        "id": "ppFWJHmBzwLd"
      }
    },
    {
      "cell_type": "markdown",
      "source": [
        "# Functions Are Objects"
      ],
      "metadata": {
        "id": "cmCUHJxy0zKW"
      }
    },
    {
      "cell_type": "code",
      "execution_count": 28,
      "metadata": {
        "id": "PM4cK5bt16Zn"
      },
      "outputs": [],
      "source": [
        "states = [\"   Alabama \", \"Georgia!\", \"Georgia\", \"georgia\", \"FlOrIda\",\n",
        "          \"south   carolina##\", \"West virginia?\"]"
      ]
    },
    {
      "cell_type": "code",
      "execution_count": 29,
      "metadata": {
        "id": "xRzm2Nqn16Zn"
      },
      "outputs": [],
      "source": [
        "import re\n",
        "\n",
        "def clean_strings(strings):\n",
        "    result = []\n",
        "    for value in strings:\n",
        "        value = value.strip() #  The strip() method removes any leading, and trailing whitespaces.\n",
        "        value = re.sub(\"[!#?]\", \"\", value) # remove non letter\n",
        "        value = value.title() # The title() method returns a string where the first character in every word is upper case.\n",
        "        result.append(value)\n",
        "    return result"
      ]
    },
    {
      "cell_type": "code",
      "execution_count": 30,
      "metadata": {
        "id": "oWxdVIwx16Zn",
        "colab": {
          "base_uri": "https://localhost:8080/"
        },
        "outputId": "49eb9dc5-8ce4-4e7b-fdd1-b333789e8b45"
      },
      "outputs": [
        {
          "output_type": "execute_result",
          "data": {
            "text/plain": [
              "['Alabama',\n",
              " 'Georgia',\n",
              " 'Georgia',\n",
              " 'Georgia',\n",
              " 'Florida',\n",
              " 'South   Carolina',\n",
              " 'West Virginia']"
            ]
          },
          "metadata": {},
          "execution_count": 30
        }
      ],
      "source": [
        "clean_strings(states)"
      ]
    },
    {
      "cell_type": "markdown",
      "source": [
        "### Another way of writing to use function as objects"
      ],
      "metadata": {
        "id": "u1zRMBjB1a9Z"
      }
    },
    {
      "cell_type": "code",
      "execution_count": 31,
      "metadata": {
        "id": "IqTMvXnw16Zo"
      },
      "outputs": [],
      "source": [
        "def remove_punctuation(value):\n",
        "    return re.sub(\"[!#?]\", \"\", value)\n",
        "\n",
        "clean_ops = [str.strip, remove_punctuation, str.title]\n",
        "\n",
        "def clean_strings(strings, ops):\n",
        "    result = []\n",
        "    for value in strings:\n",
        "        for func in ops:\n",
        "            value = func(value)\n",
        "        result.append(value)\n",
        "    return result"
      ]
    },
    {
      "cell_type": "code",
      "execution_count": 32,
      "metadata": {
        "id": "oIFWHYm216Zo",
        "colab": {
          "base_uri": "https://localhost:8080/"
        },
        "outputId": "91de4695-55cf-406a-a453-a1935a60fa28"
      },
      "outputs": [
        {
          "output_type": "execute_result",
          "data": {
            "text/plain": [
              "['Alabama',\n",
              " 'Georgia',\n",
              " 'Georgia',\n",
              " 'Georgia',\n",
              " 'Florida',\n",
              " 'South   Carolina',\n",
              " 'West Virginia']"
            ]
          },
          "metadata": {},
          "execution_count": 32
        }
      ],
      "source": [
        "clean_strings(states, clean_ops)"
      ]
    },
    {
      "cell_type": "markdown",
      "source": [
        "\n",
        "You can use functions as arguments to other functions like the built-in map function, which applies a function to a sequence of some kind:"
      ],
      "metadata": {
        "id": "s7Fmz5VG1xaC"
      }
    },
    {
      "cell_type": "code",
      "execution_count": null,
      "metadata": {
        "id": "Ha7y8yRj16Zo"
      },
      "outputs": [],
      "source": [
        "for x in map(remove_punctuation, states):\n",
        "    print(x)"
      ]
    },
    {
      "cell_type": "markdown",
      "source": [
        "### Anonymous (Lambda) Functions"
      ],
      "metadata": {
        "id": "JO9acQ74124M"
      }
    },
    {
      "cell_type": "code",
      "execution_count": null,
      "metadata": {
        "id": "51bs7m6K16Zo"
      },
      "outputs": [],
      "source": [
        "def short_function(x):\n",
        "    return x * 2\n",
        "\n",
        "equiv_anon = lambda x: x * 2"
      ]
    },
    {
      "cell_type": "markdown",
      "source": [
        "They are especially convenient in data analysis because, as you’ll see, there are many cases where data transformation functions will take functions as arguments. It’s often less typing (and clearer) to pass a lambda function as opposed to writing a full-out function declara‐ tion or even assigning the lambda function to a local variable. Consider this example:"
      ],
      "metadata": {
        "id": "70MoffJ12LDT"
      }
    },
    {
      "cell_type": "code",
      "execution_count": null,
      "metadata": {
        "id": "kU355Jms16Zo"
      },
      "outputs": [],
      "source": [
        "def apply_to_list(some_list, f):\n",
        "    return [f(x) for x in some_list]\n",
        "\n",
        "ints = [4, 0, 1, 5, 6]\n",
        "apply_to_list(ints, lambda x: x * 2)"
      ]
    },
    {
      "cell_type": "code",
      "execution_count": null,
      "metadata": {
        "id": "ajpVwsRB16Zp"
      },
      "outputs": [],
      "source": [
        "strings = [\"foo\", \"card\", \"bar\", \"aaaa\", \"abab\"]"
      ]
    },
    {
      "cell_type": "markdown",
      "source": [
        "Here we could pass a lambda function to the list’s sort method:"
      ],
      "metadata": {
        "id": "6RibVaqC2O87"
      }
    },
    {
      "cell_type": "code",
      "execution_count": null,
      "metadata": {
        "id": "Xkt5pXWb16Zp"
      },
      "outputs": [],
      "source": [
        "strings.sort(key=lambda x: len(set(x)))\n",
        "strings"
      ]
    },
    {
      "cell_type": "markdown",
      "source": [
        "###Generators\n",
        "\n",
        "Many objects in Python support iteration, such as over objects in a list or lines in a file. This is accomplished by means of the iterator protocol, a generic way to make objects iterable. For example, iterating over a dictionary yields the dictionary keys:"
      ],
      "metadata": {
        "id": "8g8b0ODI2eVs"
      }
    },
    {
      "cell_type": "code",
      "execution_count": 33,
      "metadata": {
        "id": "8PSdky5z16Zp",
        "colab": {
          "base_uri": "https://localhost:8080/"
        },
        "outputId": "12f1d7d4-5958-450e-8855-80b88c4c2e4e"
      },
      "outputs": [
        {
          "output_type": "stream",
          "name": "stdout",
          "text": [
            "a\n",
            "b\n",
            "c\n"
          ]
        }
      ],
      "source": [
        "some_dict = {\"a\": 1, \"b\": 2, \"c\": 3}\n",
        "for key in some_dict:\n",
        "    print(key)"
      ]
    },
    {
      "cell_type": "markdown",
      "source": [
        "When you write for key in some_dict, the Python interpreter first attempts to create an iterator out of some_dict:"
      ],
      "metadata": {
        "id": "1kh1dGAv4DoU"
      }
    },
    {
      "cell_type": "code",
      "execution_count": 34,
      "metadata": {
        "id": "7xMkuJFL16Zp",
        "colab": {
          "base_uri": "https://localhost:8080/"
        },
        "outputId": "395ceb20-bfa5-4058-ceb9-59ac0f97091f"
      },
      "outputs": [
        {
          "output_type": "execute_result",
          "data": {
            "text/plain": [
              "<dict_keyiterator at 0x7a49439eef20>"
            ]
          },
          "metadata": {},
          "execution_count": 34
        }
      ],
      "source": [
        "dict_iterator = iter(some_dict)\n",
        "dict_iterator"
      ]
    },
    {
      "cell_type": "markdown",
      "source": [
        "An iterator is any object that will yield objects to the Python interpreter when used in a context like a for loop. Most methods expecting a list or list-like object will also accept any iterable object. This includes built-in methods such as min, max, and sum, and type constructors like list and tuple:"
      ],
      "metadata": {
        "id": "Kcw1A7AN4T_l"
      }
    },
    {
      "cell_type": "code",
      "execution_count": 35,
      "metadata": {
        "id": "zlTpePA716Zp",
        "colab": {
          "base_uri": "https://localhost:8080/"
        },
        "outputId": "c040cab4-9eb8-4f08-d075-458aeb74f450"
      },
      "outputs": [
        {
          "output_type": "execute_result",
          "data": {
            "text/plain": [
              "['a', 'b', 'c']"
            ]
          },
          "metadata": {},
          "execution_count": 35
        }
      ],
      "source": [
        "list(dict_iterator)"
      ]
    },
    {
      "cell_type": "markdown",
      "source": [
        "A generator is a convenient way, similar to writing a normal function, to construct a new iterable object. Whereas normal functions execute and return a single result at a time, generators can return a sequence of multiple values by pausing and resuming execution each time the generator is used. To create a generator, use the yield keyword instead of return in a function:"
      ],
      "metadata": {
        "id": "4lt0vcQM4btq"
      }
    },
    {
      "cell_type": "code",
      "execution_count": null,
      "metadata": {
        "id": "KgbNaYnw16Zq"
      },
      "outputs": [],
      "source": [
        "def squares(n=10):\n",
        "    print(f\"Generating squares from 1 to {n ** 2}\")\n",
        "    for i in range(1, n + 1):\n",
        "        yield i ** 2"
      ]
    },
    {
      "cell_type": "markdown",
      "source": [
        "When you actually call the generator, no code is immediately executed:"
      ],
      "metadata": {
        "id": "jDUdFheZ4kls"
      }
    },
    {
      "cell_type": "code",
      "execution_count": null,
      "metadata": {
        "id": "aA_sJtV-16Zq"
      },
      "outputs": [],
      "source": [
        "gen = squares()\n",
        "gen"
      ]
    },
    {
      "cell_type": "markdown",
      "source": [
        "It is not until you request elements from the generator that it begins executing its\n",
        "code:"
      ],
      "metadata": {
        "id": "5V4KgQAW4mz0"
      }
    },
    {
      "cell_type": "code",
      "execution_count": null,
      "metadata": {
        "id": "khr3-JYf16Zq"
      },
      "outputs": [],
      "source": [
        "for x in gen:\n",
        "    print(x, end=\" \")"
      ]
    },
    {
      "cell_type": "markdown",
      "source": [
        "\n",
        "### Generator expressions\n",
        "\n",
        "Another way to make a generator is by using a generator expression. This is a genera‐ tor analogue to list, dictionary, and set comprehensions. To create one, enclose what would otherwise be a list comprehension within parentheses instead of brackets:"
      ],
      "metadata": {
        "id": "NcgaFvDF4ypw"
      }
    },
    {
      "cell_type": "code",
      "execution_count": null,
      "metadata": {
        "id": "lyEuRxoZ16Zr"
      },
      "outputs": [],
      "source": [
        "gen = (x ** 2 for x in range(100))\n",
        "gen"
      ]
    },
    {
      "cell_type": "code",
      "execution_count": null,
      "metadata": {
        "id": "t6LDRpNk16Zr"
      },
      "outputs": [],
      "source": [
        "sum(x ** 2 for x in range(100))\n",
        "dict((i, i ** 2) for i in range(5))"
      ]
    },
    {
      "cell_type": "code",
      "execution_count": null,
      "metadata": {
        "id": "4nmgI6-U16Zr"
      },
      "outputs": [],
      "source": [
        "import itertools\n",
        "def first_letter(x):\n",
        "    return x[0]\n",
        "\n",
        "names = [\"Alan\", \"Adam\", \"Wes\", \"Will\", \"Albert\", \"Steven\"]\n",
        "\n",
        "for letter, names in itertools.groupby(names, first_letter):\n",
        "    print(letter, list(names)) # names is a generator"
      ]
    },
    {
      "cell_type": "code",
      "execution_count": null,
      "metadata": {
        "id": "a8jGGqD916Zr"
      },
      "outputs": [],
      "source": [
        "float(\"1.2345\")\n",
        "float(\"something\")"
      ]
    },
    {
      "cell_type": "code",
      "execution_count": null,
      "metadata": {
        "id": "DYHCpvOK16Zr"
      },
      "outputs": [],
      "source": [
        "def attempt_float(x):\n",
        "    try:\n",
        "        return float(x)\n",
        "    except:\n",
        "        return x"
      ]
    },
    {
      "cell_type": "code",
      "execution_count": null,
      "metadata": {
        "id": "XRiT7fG_16Zs"
      },
      "outputs": [],
      "source": [
        "attempt_float(\"1.2345\")\n",
        "attempt_float(\"something\")"
      ]
    },
    {
      "cell_type": "code",
      "execution_count": null,
      "metadata": {
        "id": "vCq5vtJ416Zs"
      },
      "outputs": [],
      "source": [
        "float((1, 2))"
      ]
    },
    {
      "cell_type": "code",
      "execution_count": null,
      "metadata": {
        "id": "EEKNnzSc16Zs"
      },
      "outputs": [],
      "source": [
        "def attempt_float(x):\n",
        "    try:\n",
        "        return float(x)\n",
        "    except ValueError:\n",
        "        return x"
      ]
    },
    {
      "cell_type": "code",
      "execution_count": null,
      "metadata": {
        "id": "dj3GbZ1R16Zs"
      },
      "outputs": [],
      "source": [
        "attempt_float((1, 2))"
      ]
    },
    {
      "cell_type": "code",
      "execution_count": null,
      "metadata": {
        "id": "R8tnOFl116Zs"
      },
      "outputs": [],
      "source": [
        "def attempt_float(x):\n",
        "    try:\n",
        "        return float(x)\n",
        "    except (TypeError, ValueError):\n",
        "        return x"
      ]
    },
    {
      "cell_type": "markdown",
      "source": [
        "# Files and the Operating System"
      ],
      "metadata": {
        "id": "XoTvIHzH5Hla"
      }
    },
    {
      "cell_type": "markdown",
      "source": [
        "### This part is only needed if your file is in google drive\n",
        "preparation step:\n",
        "1.   open a folder called 'analytics_programming'\n",
        "2.   put all files you need for this class in it\n",
        "\n",
        "\n",
        "\n"
      ],
      "metadata": {
        "id": "IWz3zRn85h_d"
      }
    },
    {
      "cell_type": "code",
      "source": [
        "# how colab open files:\n",
        "# https://saturncloud.io/blog/how-to-use-google-colab-to-work-with-local-files/\n",
        "# https://stackoverflow.com/questions/48376580/how-to-read-data-in-google-colab-from-my-google-drive\n",
        "\n",
        "from google.colab import drive\n",
        "drive.mount('/content/drive', force_remount=True)\n",
        "google_drive_path_header = '/content/drive/MyDrive/analytics_programming'"
      ],
      "metadata": {
        "colab": {
          "base_uri": "https://localhost:8080/"
        },
        "id": "y3BSKzuS5Z-P",
        "outputId": "d9812996-5160-47a1-d0d2-702d2c7aeb79"
      },
      "execution_count": 36,
      "outputs": [
        {
          "output_type": "stream",
          "name": "stdout",
          "text": [
            "Mounted at /content/drive\n"
          ]
        }
      ]
    },
    {
      "cell_type": "code",
      "execution_count": 46,
      "metadata": {
        "id": "WW2D_wGn16Zt",
        "colab": {
          "base_uri": "https://localhost:8080/"
        },
        "outputId": "ce50c410-69c8-475c-c1f0-05f6a37e5e41"
      },
      "outputs": [
        {
          "output_type": "stream",
          "name": "stdout",
          "text": [
            "/content/drive/MyDrive/analytics_programming/headers.txt\n"
          ]
        }
      ],
      "source": [
        "path = google_drive_path_header + '/headers.txt'\n",
        "print(path)\n",
        "f = open(path, encoding=\"utf-8\")"
      ]
    },
    {
      "cell_type": "markdown",
      "source": [
        "Here, I pass encoding=\"utf-8\" as a best practice because the default Unicode encod‐ ing for reading files varies from platform to platform.\n",
        "By default, the file is opened in read-only mode \"r\". We can then treat the file object f like a list and iterate over the lines like so:"
      ],
      "metadata": {
        "id": "ayo3ZDAE8wNk"
      }
    },
    {
      "cell_type": "code",
      "source": [
        "lines = []\n",
        "for line in f:\n",
        "   lines.append(line)\n",
        "\n",
        "print(lines)"
      ],
      "metadata": {
        "colab": {
          "base_uri": "https://localhost:8080/"
        },
        "id": "pNT0lIis6eT1",
        "outputId": "c00c6b54-44ff-485b-b5e4-35611be8c0b6"
      },
      "execution_count": 47,
      "outputs": [
        {
          "output_type": "stream",
          "name": "stdout",
          "text": [
            "['datetime,Date,time,ticker,mid,sector,industrygroup']\n"
          ]
        }
      ]
    },
    {
      "cell_type": "code",
      "execution_count": null,
      "metadata": {
        "id": "RuGfwLBG16Zt"
      },
      "outputs": [],
      "source": [
        "lines = [x.rstrip() for x in open(path, encoding=\"utf-8\")]\n",
        "lines"
      ]
    },
    {
      "cell_type": "markdown",
      "source": [
        "When you use open to create file objects, it is recommended to close the file when you are finished with it. Closing the file releases its resources back to the operating system:"
      ],
      "metadata": {
        "id": "KZsSLFDg-4xX"
      }
    },
    {
      "cell_type": "code",
      "execution_count": 49,
      "metadata": {
        "id": "p8c9vYIB16Zt"
      },
      "outputs": [],
      "source": [
        "f.close()"
      ]
    },
    {
      "cell_type": "code",
      "execution_count": null,
      "metadata": {
        "id": "6dcRwrBj16Zt"
      },
      "outputs": [],
      "source": [
        "with open(path, encoding=\"utf-8\") as f:\n",
        "    lines = [x.rstrip() for x in f]"
      ]
    },
    {
      "cell_type": "code",
      "execution_count": null,
      "metadata": {
        "id": "V6mowZpi16Zt"
      },
      "outputs": [],
      "source": [
        "f1 = open(path)\n",
        "f1.read(10)\n",
        "f2 = open(path, mode=\"rb\")  # Binary mode\n",
        "f2.read(10)"
      ]
    },
    {
      "cell_type": "code",
      "execution_count": null,
      "metadata": {
        "id": "Zl-joaTb16Zt"
      },
      "outputs": [],
      "source": [
        "f1.tell()\n",
        "f2.tell()"
      ]
    },
    {
      "cell_type": "code",
      "execution_count": null,
      "metadata": {
        "id": "LhhNC53V16Zu"
      },
      "outputs": [],
      "source": [
        "import sys\n",
        "sys.getdefaultencoding()"
      ]
    },
    {
      "cell_type": "code",
      "execution_count": null,
      "metadata": {
        "id": "bfj7c0CE16Zu"
      },
      "outputs": [],
      "source": [
        "f1.seek(3)\n",
        "f1.read(1)\n",
        "f1.tell()"
      ]
    },
    {
      "cell_type": "code",
      "execution_count": null,
      "metadata": {
        "id": "HIljhrMB16Zu"
      },
      "outputs": [],
      "source": [
        "f1.close()\n",
        "f2.close()"
      ]
    },
    {
      "cell_type": "code",
      "execution_count": null,
      "metadata": {
        "id": "vo9WethO16Zu"
      },
      "outputs": [],
      "source": [
        "path\n",
        "\n",
        "with open(\"tmp.txt\", mode=\"w\") as handle:\n",
        "    handle.writelines(x for x in open(path) if len(x) > 1)\n",
        "\n",
        "with open(\"tmp.txt\") as f:\n",
        "    lines = f.readlines()\n",
        "\n",
        "lines"
      ]
    },
    {
      "cell_type": "code",
      "execution_count": null,
      "metadata": {
        "id": "xXvAlKJx16Zu"
      },
      "outputs": [],
      "source": [
        "import os\n",
        "os.remove(\"tmp.txt\")"
      ]
    },
    {
      "cell_type": "code",
      "execution_count": null,
      "metadata": {
        "id": "IStlhNaL16Zu"
      },
      "outputs": [],
      "source": [
        "with open(path) as f:\n",
        "    chars = f.read(10)\n",
        "\n",
        "chars\n",
        "len(chars)"
      ]
    },
    {
      "cell_type": "code",
      "execution_count": null,
      "metadata": {
        "id": "cpsikasg16Zv"
      },
      "outputs": [],
      "source": [
        "with open(path, mode=\"rb\") as f:\n",
        "    data = f.read(10)\n",
        "\n",
        "data"
      ]
    },
    {
      "cell_type": "code",
      "execution_count": null,
      "metadata": {
        "id": "3zBkpHCY16Zv"
      },
      "outputs": [],
      "source": [
        "data.decode(\"utf-8\")\n",
        "data[:4].decode(\"utf-8\")"
      ]
    },
    {
      "cell_type": "code",
      "execution_count": null,
      "metadata": {
        "id": "TKKr_-1K16Zv"
      },
      "outputs": [],
      "source": [
        "sink_path = \"sink.txt\"\n",
        "with open(path) as source:\n",
        "    with open(sink_path, \"x\", encoding=\"iso-8859-1\") as sink:\n",
        "        sink.write(source.read())\n",
        "\n",
        "with open(sink_path, encoding=\"iso-8859-1\") as f:\n",
        "    print(f.read(10))"
      ]
    },
    {
      "cell_type": "code",
      "execution_count": null,
      "metadata": {
        "id": "bHbp4u_C16Zv"
      },
      "outputs": [],
      "source": [
        "os.remove(sink_path)"
      ]
    },
    {
      "cell_type": "code",
      "execution_count": null,
      "metadata": {
        "id": "VGauPryZ16Zv"
      },
      "outputs": [],
      "source": [
        "f = open(path, encoding='utf-8')\n",
        "f.read(5)\n",
        "f.seek(4)\n",
        "f.read(1)\n",
        "f.close()"
      ]
    },
    {
      "cell_type": "code",
      "execution_count": null,
      "metadata": {
        "id": "p7t_gesZ16Zw"
      },
      "outputs": [],
      "source": []
    }
  ],
  "metadata": {
    "kernelspec": {
      "display_name": "Python 3",
      "language": "python",
      "name": "python3"
    },
    "language_info": {
      "codemirror_mode": {
        "name": "ipython",
        "version": 3
      },
      "file_extension": ".py",
      "mimetype": "text/x-python",
      "name": "python",
      "nbconvert_exporter": "python",
      "pygments_lexer": "ipython3",
      "version": "3.7.6"
    },
    "colab": {
      "provenance": []
    }
  },
  "nbformat": 4,
  "nbformat_minor": 0
}
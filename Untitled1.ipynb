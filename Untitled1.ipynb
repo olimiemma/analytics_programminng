{
 "cells": [
  {
   "cell_type": "code",
   "execution_count": 1,
   "id": "8599924c-5b51-4e91-b4a4-9ee47a328d1c",
   "metadata": {},
   "outputs": [
    {
     "name": "stdout",
     "output_type": "stream",
     "text": [
      "Original DataFrame:\n",
      "   A   B\n",
      "0  1  10\n",
      "1  2  20\n",
      "2  3  30\n",
      "3  4  40\n",
      "4  5  50\n",
      "\n",
      "After dropping rows:\n",
      "   A   B\n",
      "2  3  30\n",
      "3  4  40\n",
      "4  5  50\n",
      "\n",
      "After resetting index:\n",
      "   A   B\n",
      "0  3  30\n",
      "1  4  40\n",
      "2  5  50\n"
     ]
    }
   ],
   "source": [
    "import pandas as pd\n",
    "\n",
    "# Create a sample DataFrame\n",
    "df = pd.DataFrame({'A': [1, 2, 3, 4, 5], 'B': [10, 20, 30, 40, 50]})\n",
    "print(\"Original DataFrame:\")\n",
    "print(df)\n",
    "\n",
    "# Drop some rows\n",
    "df = df[df['A'] > 2]\n",
    "print(\"\\nAfter dropping rows:\")\n",
    "print(df)\n",
    "\n",
    "# Reset the index\n",
    "df_reset = df.reset_index(drop=True)\n",
    "print(\"\\nAfter resetting index:\")\n",
    "print(df_reset)"
   ]
  }
 ],
 "metadata": {
  "kernelspec": {
   "display_name": "Python 3 (ipykernel)",
   "language": "python",
   "name": "python3"
  },
  "language_info": {
   "codemirror_mode": {
    "name": "ipython",
    "version": 3
   },
   "file_extension": ".py",
   "mimetype": "text/x-python",
   "name": "python",
   "nbconvert_exporter": "python",
   "pygments_lexer": "ipython3",
   "version": "3.12.4"
  }
 },
 "nbformat": 4,
 "nbformat_minor": 5
}

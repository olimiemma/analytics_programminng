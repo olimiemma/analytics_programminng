{
  "cells": [
    {
      "cell_type": "code",
      "execution_count": null,
      "metadata": {
        "id": "XzEsDYLCj9Aj"
      },
      "outputs": [],
      "source": [
        "import numpy as np\n",
        "import pandas as pd\n",
        "np.random.seed(12345)\n",
        "import matplotlib.pyplot as plt\n",
        "plt.rc(\"figure\", figsize=(10, 6))\n",
        "PREVIOUS_MAX_ROWS = pd.options.display.max_rows\n",
        "pd.options.display.max_columns = 20\n",
        "pd.options.display.max_rows = 20\n",
        "pd.options.display.max_colwidth = 80\n",
        "np.set_printoptions(precision=4, suppress=True)"
      ]
    },
    {
      "cell_type": "code",
      "execution_count": null,
      "metadata": {
        "id": "GZ7ZDA2hj9Ak"
      },
      "outputs": [],
      "source": [
        "import numpy as np\n",
        "import pandas as pd"
      ]
    },
    {
      "cell_type": "markdown",
      "source": [
        "# Date and Time Data Types and Tools\n",
        " The Python standard library includes data types for date and time data, as well as\n",
        " calendar-related functionality. The datetime, time, and calendar modules are the\n",
        " main places to start. The datetime.datetime type, or simply datetime, is widely\n",
        " used:"
      ],
      "metadata": {
        "id": "bakFXwg8kGNd"
      }
    },
    {
      "cell_type": "code",
      "execution_count": null,
      "metadata": {
        "id": "R-GdRqo5j9Ak",
        "colab": {
          "base_uri": "https://localhost:8080/"
        },
        "outputId": "60d3df60-9ad9-47a1-d54f-f75a2d5d5d19"
      },
      "outputs": [
        {
          "output_type": "stream",
          "name": "stdout",
          "text": [
            "2024\n",
            "11\n",
            "5\n"
          ]
        }
      ],
      "source": [
        "from datetime import datetime\n",
        "now = datetime.now()\n",
        "now\n",
        "\n",
        "print(now.year)\n",
        "print(now.month)\n",
        "print(now.day)\n"
      ]
    },
    {
      "cell_type": "markdown",
      "source": [
        " datetime stores both the date and time down to the microsecond. datetime.time\n",
        " delta, or simply timedelta, represents the temporal difference between two date\n",
        " time objects:"
      ],
      "metadata": {
        "id": "O9PBIHkwkJNs"
      }
    },
    {
      "cell_type": "code",
      "execution_count": null,
      "metadata": {
        "id": "EIyvFwJ_j9Ak",
        "colab": {
          "base_uri": "https://localhost:8080/"
        },
        "outputId": "984b292c-5f5c-4de0-8d3b-d46773b94c02"
      },
      "outputs": [
        {
          "output_type": "stream",
          "name": "stdout",
          "text": [
            "926 days, 15:45:00\n",
            "<class 'datetime.timedelta'>\n",
            "926\n"
          ]
        }
      ],
      "source": [
        "delta = datetime(2011, 1, 7) - datetime(2008, 6, 24, 8, 15)\n",
        "print(delta)\n",
        "print(type(delta))\n",
        "print(delta.days)\n",
        "# delta.seconds"
      ]
    },
    {
      "cell_type": "markdown",
      "source": [
        "You can add (or subtract) a timedelta or multiple thereof to a datetime object to\n",
        " yield a new shifted object:"
      ],
      "metadata": {
        "id": "v_fDGDf3kMiZ"
      }
    },
    {
      "cell_type": "code",
      "execution_count": null,
      "metadata": {
        "id": "ri5hi4oej9Ak"
      },
      "outputs": [],
      "source": [
        "from datetime import timedelta\n",
        "start = datetime(2011, 1, 7)\n",
        "start + timedelta(12)\n",
        "start - 2 * timedelta(12)"
      ]
    },
    {
      "cell_type": "markdown",
      "source": [
        " # Converting Between String and Datetime\n",
        " You can format datetime objects and pandas Timestamp objects, which I’ll introduce\n",
        " later, as strings using str or the strftime method, passing a format specification:"
      ],
      "metadata": {
        "id": "x8XPWM3NkPmZ"
      }
    },
    {
      "cell_type": "code",
      "execution_count": null,
      "metadata": {
        "id": "5Yh-sZvaj9Al",
        "colab": {
          "base_uri": "https://localhost:8080/"
        },
        "outputId": "92def2f7-08d4-4162-f29e-4112dceafeb6"
      },
      "outputs": [
        {
          "output_type": "stream",
          "name": "stdout",
          "text": [
            "2011-01-02 00:00:00\n",
            "2011-2011-01-02.     Sunday\n"
          ]
        }
      ],
      "source": [
        "stamp = datetime(2011, 1, 2)\n",
        "print(str(stamp))\n",
        "print(stamp.strftime(\"%Y-%Y-%m-%d.     %A\"))"
      ]
    },
    {
      "cell_type": "markdown",
      "source": [
        " You can use many of the same format codes to convert strings to dates using date\n",
        " time.strptime (but some codes, like %F, cannot be used):"
      ],
      "metadata": {
        "id": "DFU8XcHokUYV"
      }
    },
    {
      "cell_type": "code",
      "execution_count": null,
      "metadata": {
        "id": "4LB2Iqzoj9Al",
        "colab": {
          "base_uri": "https://localhost:8080/"
        },
        "outputId": "201b4822-7af0-4a3a-c39e-cf11d7205bb6"
      },
      "outputs": [
        {
          "output_type": "stream",
          "name": "stdout",
          "text": [
            "2011-01-03 00:00:00\n"
          ]
        },
        {
          "output_type": "execute_result",
          "data": {
            "text/plain": [
              "[datetime.datetime(2011, 7, 6, 0, 0), datetime.datetime(2011, 8, 6, 0, 0)]"
            ]
          },
          "metadata": {},
          "execution_count": 18
        }
      ],
      "source": [
        "value = \"2011-01-03\"\n",
        "print(datetime.strptime(value, \"%Y-%m-%d\"))\n",
        "datestrs = [\"7/6/2011\", \"8/6/2011\"]\n",
        "[datetime.strptime(x, \"%m/%d/%Y\") for x in datestrs]"
      ]
    },
    {
      "cell_type": "markdown",
      "source": [
        " datetime.strptime is one way to parse a date with a known format.\n",
        " pandas is generally oriented toward working with arrays of dates, whether used as\n",
        " an axis index or a column in a DataFrame. The pandas.to_datetime method parses\n",
        " many different kinds of date representations. Standard date formats like ISO 8601 can\n",
        " be parsed quickly:"
      ],
      "metadata": {
        "id": "24-Fw9c5kar1"
      }
    },
    {
      "cell_type": "code",
      "execution_count": null,
      "metadata": {
        "id": "9-PPEYc3j9Al",
        "colab": {
          "base_uri": "https://localhost:8080/"
        },
        "outputId": "59c6daab-a191-4afd-b182-cac91b983926"
      },
      "outputs": [
        {
          "output_type": "stream",
          "name": "stdout",
          "text": [
            "DatetimeIndex(['2011-08-06 00:00:00-05:00', '2011-08-06 00:00:00-05:00'], dtype='datetime64[ns, UTC-05:00]', freq=None)\n",
            "UTC-05:00\n"
          ]
        }
      ],
      "source": [
        "# datestrs = [\"2011-07-06 12:00:00\", \"2011-08-06 00:00:00\"]\n",
        "datestrs = [\"2011-08-06 00:00:00-05:00\", \"2011-08-06 00:00:00-05:00\"]\n",
        "x = pd.to_datetime(datestrs)\n",
        "print(x)\n",
        "print(x.tz)"
      ]
    },
    {
      "cell_type": "markdown",
      "source": [
        "It also handles values that should be considered missing (None, empty string, etc.):"
      ],
      "metadata": {
        "id": "lcpGV2mBkerV"
      }
    },
    {
      "cell_type": "code",
      "execution_count": null,
      "metadata": {
        "id": "YV4J6P16j9Al"
      },
      "outputs": [],
      "source": [
        "idx = pd.to_datetime(datestrs + [None])\n",
        "idx\n",
        "idx[2]\n",
        "pd.isna(idx)"
      ]
    },
    {
      "cell_type": "markdown",
      "source": [
        " # Time Series Basics\n",
        " A basic kind of time series object in pandas is a Series indexed by timestamps, which\n",
        " is often represented outside of pandas as Python strings or datetime objects:"
      ],
      "metadata": {
        "id": "mjd4JCQOkiUh"
      }
    },
    {
      "cell_type": "code",
      "execution_count": null,
      "metadata": {
        "id": "49q4t1vtj9Al",
        "colab": {
          "base_uri": "https://localhost:8080/",
          "height": 272
        },
        "outputId": "26841ae4-f5f1-4f2f-d065-f42c9133d94a"
      },
      "outputs": [
        {
          "output_type": "execute_result",
          "data": {
            "text/plain": [
              "2011-01-02   -0.204708\n",
              "2011-01-05    0.478943\n",
              "2011-01-07   -0.519439\n",
              "2011-01-08   -0.555730\n",
              "2011-01-10    1.965781\n",
              "2011-01-12    1.393406\n",
              "dtype: float64"
            ],
            "text/html": [
              "<div>\n",
              "<style scoped>\n",
              "    .dataframe tbody tr th:only-of-type {\n",
              "        vertical-align: middle;\n",
              "    }\n",
              "\n",
              "    .dataframe tbody tr th {\n",
              "        vertical-align: top;\n",
              "    }\n",
              "\n",
              "    .dataframe thead th {\n",
              "        text-align: right;\n",
              "    }\n",
              "</style>\n",
              "<table border=\"1\" class=\"dataframe\">\n",
              "  <thead>\n",
              "    <tr style=\"text-align: right;\">\n",
              "      <th></th>\n",
              "      <th>0</th>\n",
              "    </tr>\n",
              "  </thead>\n",
              "  <tbody>\n",
              "    <tr>\n",
              "      <th>2011-01-02</th>\n",
              "      <td>-0.204708</td>\n",
              "    </tr>\n",
              "    <tr>\n",
              "      <th>2011-01-05</th>\n",
              "      <td>0.478943</td>\n",
              "    </tr>\n",
              "    <tr>\n",
              "      <th>2011-01-07</th>\n",
              "      <td>-0.519439</td>\n",
              "    </tr>\n",
              "    <tr>\n",
              "      <th>2011-01-08</th>\n",
              "      <td>-0.555730</td>\n",
              "    </tr>\n",
              "    <tr>\n",
              "      <th>2011-01-10</th>\n",
              "      <td>1.965781</td>\n",
              "    </tr>\n",
              "    <tr>\n",
              "      <th>2011-01-12</th>\n",
              "      <td>1.393406</td>\n",
              "    </tr>\n",
              "  </tbody>\n",
              "</table>\n",
              "</div><br><label><b>dtype:</b> float64</label>"
            ]
          },
          "metadata": {},
          "execution_count": 24
        }
      ],
      "source": [
        "dates = [datetime(2011, 1, 2), datetime(2011, 1, 5),\n",
        "         datetime(2011, 1, 7), datetime(2011, 1, 8),\n",
        "         datetime(2011, 1, 10), datetime(2011, 1, 12)]\n",
        "ts = pd.Series(np.random.standard_normal(6), index=dates)\n",
        "ts"
      ]
    },
    {
      "cell_type": "markdown",
      "source": [
        "Under the hood, these datetime objects have been put in a DatetimeIndex:"
      ],
      "metadata": {
        "id": "QwZITA9xkmXb"
      }
    },
    {
      "cell_type": "code",
      "execution_count": null,
      "metadata": {
        "id": "uvymDkvJj9Al",
        "colab": {
          "base_uri": "https://localhost:8080/"
        },
        "outputId": "fd21957c-dfb6-4d84-df98-472330c9d110"
      },
      "outputs": [
        {
          "output_type": "execute_result",
          "data": {
            "text/plain": [
              "DatetimeIndex(['2011-01-02', '2011-01-05', '2011-01-07', '2011-01-08',\n",
              "               '2011-01-10', '2011-01-12'],\n",
              "              dtype='datetime64[ns]', freq=None)"
            ]
          },
          "metadata": {},
          "execution_count": 25
        }
      ],
      "source": [
        "ts.index"
      ]
    },
    {
      "cell_type": "markdown",
      "source": [
        " Like other Series, arithmetic operations between differently indexed time series auto\n",
        "matically align on the dates:"
      ],
      "metadata": {
        "id": "VSS0x72akn95"
      }
    },
    {
      "cell_type": "code",
      "execution_count": null,
      "metadata": {
        "id": "6_J67Pgyj9Am",
        "colab": {
          "base_uri": "https://localhost:8080/",
          "height": 272
        },
        "outputId": "2b484baf-e7fb-423e-9569-84d8e2886ae7"
      },
      "outputs": [
        {
          "output_type": "execute_result",
          "data": {
            "text/plain": [
              "2011-01-02   -0.409415\n",
              "2011-01-05         NaN\n",
              "2011-01-07   -1.038877\n",
              "2011-01-08         NaN\n",
              "2011-01-10    3.931561\n",
              "2011-01-12         NaN\n",
              "dtype: float64"
            ],
            "text/html": [
              "<div>\n",
              "<style scoped>\n",
              "    .dataframe tbody tr th:only-of-type {\n",
              "        vertical-align: middle;\n",
              "    }\n",
              "\n",
              "    .dataframe tbody tr th {\n",
              "        vertical-align: top;\n",
              "    }\n",
              "\n",
              "    .dataframe thead th {\n",
              "        text-align: right;\n",
              "    }\n",
              "</style>\n",
              "<table border=\"1\" class=\"dataframe\">\n",
              "  <thead>\n",
              "    <tr style=\"text-align: right;\">\n",
              "      <th></th>\n",
              "      <th>0</th>\n",
              "    </tr>\n",
              "  </thead>\n",
              "  <tbody>\n",
              "    <tr>\n",
              "      <th>2011-01-02</th>\n",
              "      <td>-0.409415</td>\n",
              "    </tr>\n",
              "    <tr>\n",
              "      <th>2011-01-05</th>\n",
              "      <td>NaN</td>\n",
              "    </tr>\n",
              "    <tr>\n",
              "      <th>2011-01-07</th>\n",
              "      <td>-1.038877</td>\n",
              "    </tr>\n",
              "    <tr>\n",
              "      <th>2011-01-08</th>\n",
              "      <td>NaN</td>\n",
              "    </tr>\n",
              "    <tr>\n",
              "      <th>2011-01-10</th>\n",
              "      <td>3.931561</td>\n",
              "    </tr>\n",
              "    <tr>\n",
              "      <th>2011-01-12</th>\n",
              "      <td>NaN</td>\n",
              "    </tr>\n",
              "  </tbody>\n",
              "</table>\n",
              "</div><br><label><b>dtype:</b> float64</label>"
            ]
          },
          "metadata": {},
          "execution_count": 26
        }
      ],
      "source": [
        "ts + ts[::2]"
      ]
    },
    {
      "cell_type": "markdown",
      "source": [
        " pandas stores timestamps using NumPy’s datetime64 data type at the nanosecond\n",
        " resolution:"
      ],
      "metadata": {
        "id": "VJDG0bUxktP3"
      }
    },
    {
      "cell_type": "code",
      "execution_count": null,
      "metadata": {
        "id": "Yme3SJV1j9Am",
        "colab": {
          "base_uri": "https://localhost:8080/"
        },
        "outputId": "f57c92ed-4306-4ba6-abec-495a39d78851"
      },
      "outputs": [
        {
          "output_type": "execute_result",
          "data": {
            "text/plain": [
              "dtype('<M8[ns]')"
            ]
          },
          "metadata": {},
          "execution_count": 27
        }
      ],
      "source": [
        "ts.index.dtype"
      ]
    },
    {
      "cell_type": "markdown",
      "source": [
        " Scalar values from a DatetimeIndex are pandas Timestamp objects:"
      ],
      "metadata": {
        "id": "DuCOAuKdku0b"
      }
    },
    {
      "cell_type": "code",
      "execution_count": null,
      "metadata": {
        "id": "IHpjKDlzj9Am",
        "colab": {
          "base_uri": "https://localhost:8080/"
        },
        "outputId": "164c8a68-59ce-4435-8c4c-79f4d9b8c9d1"
      },
      "outputs": [
        {
          "output_type": "execute_result",
          "data": {
            "text/plain": [
              "Timestamp('2011-01-02 00:00:00')"
            ]
          },
          "metadata": {},
          "execution_count": 28
        }
      ],
      "source": [
        "stamp = ts.index[0]\n",
        "stamp"
      ]
    },
    {
      "cell_type": "markdown",
      "source": [
        " # Indexing, Selection, Subsetting\n",
        " Time series behaves like any other Series when you are indexing and selecting data\n",
        " based on the label:"
      ],
      "metadata": {
        "id": "drx0BuNKkxc6"
      }
    },
    {
      "cell_type": "code",
      "execution_count": null,
      "metadata": {
        "id": "sshLXxehj9Am",
        "colab": {
          "base_uri": "https://localhost:8080/"
        },
        "outputId": "56319e80-d9a1-40d9-d805-607c982ad1f4"
      },
      "outputs": [
        {
          "output_type": "execute_result",
          "data": {
            "text/plain": [
              "-0.5194387150567381"
            ]
          },
          "metadata": {},
          "execution_count": 29
        }
      ],
      "source": [
        "stamp = ts.index[2]\n",
        "ts[stamp]"
      ]
    },
    {
      "cell_type": "markdown",
      "source": [
        " As a convenience, you can also pass a string that is interpretable as a date:"
      ],
      "metadata": {
        "id": "6IG9yFO3k2Dq"
      }
    },
    {
      "cell_type": "code",
      "execution_count": null,
      "metadata": {
        "id": "mP-uPnqRj9Am",
        "colab": {
          "base_uri": "https://localhost:8080/"
        },
        "outputId": "2f5348b1-cd89-469b-8013-58e67a42eb34"
      },
      "outputs": [
        {
          "output_type": "execute_result",
          "data": {
            "text/plain": [
              "1.9657805725027142"
            ]
          },
          "metadata": {},
          "execution_count": 30
        }
      ],
      "source": [
        "ts[\"2011-01-10\"]"
      ]
    },
    {
      "cell_type": "markdown",
      "source": [
        " For longer time series, a year or only a year and month can be passed to easily select\n",
        " slices of data (pandas.date_range is discussed in more detail in “Generating Date\n",
        " Ranges” on page 367):"
      ],
      "metadata": {
        "id": "hLeeP8mxk38O"
      }
    },
    {
      "cell_type": "code",
      "execution_count": null,
      "metadata": {
        "id": "APDhj38Zj9Am",
        "colab": {
          "base_uri": "https://localhost:8080/",
          "height": 458
        },
        "outputId": "523a3e67-9b15-45ba-d7e9-aff1fb09bd04"
      },
      "outputs": [
        {
          "output_type": "execute_result",
          "data": {
            "text/plain": [
              "2001-01-01   -0.786588\n",
              "2001-01-02    0.006836\n",
              "2001-01-03   -0.479013\n",
              "2001-01-04   -1.370790\n",
              "2001-01-05   -0.206097\n",
              "                ...   \n",
              "2001-01-27   -1.884929\n",
              "2001-01-28    0.080282\n",
              "2001-01-29   -0.039967\n",
              "2001-01-30   -0.533834\n",
              "2001-01-31    0.352951\n",
              "Freq: D, Length: 31, dtype: float64"
            ],
            "text/html": [
              "<div>\n",
              "<style scoped>\n",
              "    .dataframe tbody tr th:only-of-type {\n",
              "        vertical-align: middle;\n",
              "    }\n",
              "\n",
              "    .dataframe tbody tr th {\n",
              "        vertical-align: top;\n",
              "    }\n",
              "\n",
              "    .dataframe thead th {\n",
              "        text-align: right;\n",
              "    }\n",
              "</style>\n",
              "<table border=\"1\" class=\"dataframe\">\n",
              "  <thead>\n",
              "    <tr style=\"text-align: right;\">\n",
              "      <th></th>\n",
              "      <th>0</th>\n",
              "    </tr>\n",
              "  </thead>\n",
              "  <tbody>\n",
              "    <tr>\n",
              "      <th>2001-01-01</th>\n",
              "      <td>-0.786588</td>\n",
              "    </tr>\n",
              "    <tr>\n",
              "      <th>2001-01-02</th>\n",
              "      <td>0.006836</td>\n",
              "    </tr>\n",
              "    <tr>\n",
              "      <th>2001-01-03</th>\n",
              "      <td>-0.479013</td>\n",
              "    </tr>\n",
              "    <tr>\n",
              "      <th>2001-01-04</th>\n",
              "      <td>-1.370790</td>\n",
              "    </tr>\n",
              "    <tr>\n",
              "      <th>2001-01-05</th>\n",
              "      <td>-0.206097</td>\n",
              "    </tr>\n",
              "    <tr>\n",
              "      <th>...</th>\n",
              "      <td>...</td>\n",
              "    </tr>\n",
              "    <tr>\n",
              "      <th>2001-01-27</th>\n",
              "      <td>-1.884929</td>\n",
              "    </tr>\n",
              "    <tr>\n",
              "      <th>2001-01-28</th>\n",
              "      <td>0.080282</td>\n",
              "    </tr>\n",
              "    <tr>\n",
              "      <th>2001-01-29</th>\n",
              "      <td>-0.039967</td>\n",
              "    </tr>\n",
              "    <tr>\n",
              "      <th>2001-01-30</th>\n",
              "      <td>-0.533834</td>\n",
              "    </tr>\n",
              "    <tr>\n",
              "      <th>2001-01-31</th>\n",
              "      <td>0.352951</td>\n",
              "    </tr>\n",
              "  </tbody>\n",
              "</table>\n",
              "<p>31 rows × 1 columns</p>\n",
              "</div><br><label><b>dtype:</b> float64</label>"
            ]
          },
          "metadata": {},
          "execution_count": 37
        }
      ],
      "source": [
        "longer_ts = pd.Series(np.random.standard_normal(1000),\n",
        "                      index=pd.date_range(\"2000-01-01\", periods=1000))\n",
        "# print(longer_ts)\n",
        "longer_ts[\"2001-01\"]"
      ]
    },
    {
      "cell_type": "markdown",
      "source": [
        " Here, the string \"2001\" is interpreted as a year and selects that time period. This also\n",
        " works if you specify the month:"
      ],
      "metadata": {
        "id": "DatEFZ7ak7Ua"
      }
    },
    {
      "cell_type": "code",
      "execution_count": null,
      "metadata": {
        "id": "gLjwgxgVj9Am"
      },
      "outputs": [],
      "source": [
        "longer_ts[\"2001-05\"]"
      ]
    },
    {
      "cell_type": "markdown",
      "source": [
        " Slicing with datetime objects works as well:"
      ],
      "metadata": {
        "id": "xGKAPRtClAEF"
      }
    },
    {
      "cell_type": "code",
      "execution_count": null,
      "metadata": {
        "id": "Z5zY-DfGj9Am",
        "colab": {
          "base_uri": "https://localhost:8080/",
          "height": 178
        },
        "outputId": "5e9a4a01-fc3e-4c82-e589-53ebedc43d6b"
      },
      "outputs": [
        {
          "output_type": "execute_result",
          "data": {
            "text/plain": [
              "2011-01-07   -0.519439\n",
              "2011-01-08   -0.555730\n",
              "2011-01-10    1.965781\n",
              "dtype: float64"
            ],
            "text/html": [
              "<div>\n",
              "<style scoped>\n",
              "    .dataframe tbody tr th:only-of-type {\n",
              "        vertical-align: middle;\n",
              "    }\n",
              "\n",
              "    .dataframe tbody tr th {\n",
              "        vertical-align: top;\n",
              "    }\n",
              "\n",
              "    .dataframe thead th {\n",
              "        text-align: right;\n",
              "    }\n",
              "</style>\n",
              "<table border=\"1\" class=\"dataframe\">\n",
              "  <thead>\n",
              "    <tr style=\"text-align: right;\">\n",
              "      <th></th>\n",
              "      <th>0</th>\n",
              "    </tr>\n",
              "  </thead>\n",
              "  <tbody>\n",
              "    <tr>\n",
              "      <th>2011-01-07</th>\n",
              "      <td>-0.519439</td>\n",
              "    </tr>\n",
              "    <tr>\n",
              "      <th>2011-01-08</th>\n",
              "      <td>-0.555730</td>\n",
              "    </tr>\n",
              "    <tr>\n",
              "      <th>2011-01-10</th>\n",
              "      <td>1.965781</td>\n",
              "    </tr>\n",
              "  </tbody>\n",
              "</table>\n",
              "</div><br><label><b>dtype:</b> float64</label>"
            ]
          },
          "metadata": {},
          "execution_count": 38
        }
      ],
      "source": [
        "ts[datetime(2011, 1, 7):]\n",
        "ts[datetime(2011, 1, 7):datetime(2011, 1, 10)]"
      ]
    },
    {
      "cell_type": "markdown",
      "source": [
        "Because most time series data is ordered chronologically, you can slice with time\n",
        "stamps not contained in a time series to perform a range query:"
      ],
      "metadata": {
        "id": "h29Qc6eflE9X"
      }
    },
    {
      "cell_type": "code",
      "execution_count": null,
      "metadata": {
        "id": "gOXWN6hgj9Am",
        "colab": {
          "base_uri": "https://localhost:8080/",
          "height": 209
        },
        "outputId": "f9c676a9-5bf3-4983-af02-450795990109"
      },
      "outputs": [
        {
          "output_type": "execute_result",
          "data": {
            "text/plain": [
              "2011-01-07   -0.519439\n",
              "2011-01-08   -0.555730\n",
              "2011-01-10    1.965781\n",
              "2011-01-12    1.393406\n",
              "dtype: float64"
            ],
            "text/html": [
              "<div>\n",
              "<style scoped>\n",
              "    .dataframe tbody tr th:only-of-type {\n",
              "        vertical-align: middle;\n",
              "    }\n",
              "\n",
              "    .dataframe tbody tr th {\n",
              "        vertical-align: top;\n",
              "    }\n",
              "\n",
              "    .dataframe thead th {\n",
              "        text-align: right;\n",
              "    }\n",
              "</style>\n",
              "<table border=\"1\" class=\"dataframe\">\n",
              "  <thead>\n",
              "    <tr style=\"text-align: right;\">\n",
              "      <th></th>\n",
              "      <th>0</th>\n",
              "    </tr>\n",
              "  </thead>\n",
              "  <tbody>\n",
              "    <tr>\n",
              "      <th>2011-01-07</th>\n",
              "      <td>-0.519439</td>\n",
              "    </tr>\n",
              "    <tr>\n",
              "      <th>2011-01-08</th>\n",
              "      <td>-0.555730</td>\n",
              "    </tr>\n",
              "    <tr>\n",
              "      <th>2011-01-10</th>\n",
              "      <td>1.965781</td>\n",
              "    </tr>\n",
              "    <tr>\n",
              "      <th>2011-01-12</th>\n",
              "      <td>1.393406</td>\n",
              "    </tr>\n",
              "  </tbody>\n",
              "</table>\n",
              "</div><br><label><b>dtype:</b> float64</label>"
            ]
          },
          "metadata": {},
          "execution_count": 41
        }
      ],
      "source": [
        "ts\n",
        "ts[\"2011-01-06\":\"2012-01-11\"]"
      ]
    },
    {
      "cell_type": "markdown",
      "source": [
        "As before, you can pass a string date, datetime, or timestamp. Remember that slicing\n",
        " in this manner produces views on the source time series, like slicing NumPy arrays.\n",
        " This means that no data is copied, and modifications on the slice will be reflected in\n",
        " the original data.\n",
        " There is an equivalent instance method, truncate, that slices a Series between two\n",
        " dates:"
      ],
      "metadata": {
        "id": "jZk8ex6ElH-T"
      }
    },
    {
      "cell_type": "code",
      "execution_count": null,
      "metadata": {
        "id": "uxl6NdF2j9Am",
        "colab": {
          "base_uri": "https://localhost:8080/",
          "height": 209
        },
        "outputId": "a4251fe2-97f7-4bde-f46a-1c0659ca3f0b"
      },
      "outputs": [
        {
          "output_type": "execute_result",
          "data": {
            "text/plain": [
              "2011-01-02   -0.204708\n",
              "2011-01-05    0.478943\n",
              "2011-01-07   -0.519439\n",
              "2011-01-08   -0.555730\n",
              "dtype: float64"
            ],
            "text/html": [
              "<div>\n",
              "<style scoped>\n",
              "    .dataframe tbody tr th:only-of-type {\n",
              "        vertical-align: middle;\n",
              "    }\n",
              "\n",
              "    .dataframe tbody tr th {\n",
              "        vertical-align: top;\n",
              "    }\n",
              "\n",
              "    .dataframe thead th {\n",
              "        text-align: right;\n",
              "    }\n",
              "</style>\n",
              "<table border=\"1\" class=\"dataframe\">\n",
              "  <thead>\n",
              "    <tr style=\"text-align: right;\">\n",
              "      <th></th>\n",
              "      <th>0</th>\n",
              "    </tr>\n",
              "  </thead>\n",
              "  <tbody>\n",
              "    <tr>\n",
              "      <th>2011-01-02</th>\n",
              "      <td>-0.204708</td>\n",
              "    </tr>\n",
              "    <tr>\n",
              "      <th>2011-01-05</th>\n",
              "      <td>0.478943</td>\n",
              "    </tr>\n",
              "    <tr>\n",
              "      <th>2011-01-07</th>\n",
              "      <td>-0.519439</td>\n",
              "    </tr>\n",
              "    <tr>\n",
              "      <th>2011-01-08</th>\n",
              "      <td>-0.555730</td>\n",
              "    </tr>\n",
              "  </tbody>\n",
              "</table>\n",
              "</div><br><label><b>dtype:</b> float64</label>"
            ]
          },
          "metadata": {},
          "execution_count": 42
        }
      ],
      "source": [
        "ts.truncate(after=\"2011-01-09\")"
      ]
    },
    {
      "cell_type": "markdown",
      "source": [
        "All of this holds true for DataFrame as well, indexing on its rows:"
      ],
      "metadata": {
        "id": "RTOIc6xWlK4x"
      }
    },
    {
      "cell_type": "code",
      "execution_count": null,
      "metadata": {
        "id": "7fDETLsvj9Am",
        "colab": {
          "base_uri": "https://localhost:8080/",
          "height": 206
        },
        "outputId": "963b6bfa-e142-48f9-b384-ce60f230ad37"
      },
      "outputs": [
        {
          "output_type": "execute_result",
          "data": {
            "text/plain": [
              "            Colorado     Texas  New York      Ohio\n",
              "2001-05-02 -2.149617  1.552855  0.405074  0.900380\n",
              "2001-05-09  0.426804  0.060434 -1.964908  1.570305\n",
              "2001-05-16 -0.875665  0.580321  0.746482  1.174756\n",
              "2001-05-23 -0.567599 -0.803335  0.600198  1.367461\n",
              "2001-05-30 -0.295445 -0.085571  0.777407  1.067479"
            ],
            "text/html": [
              "\n",
              "  <div id=\"df-3fe541bc-d21a-4301-98ca-d7603de2b7d8\" class=\"colab-df-container\">\n",
              "    <div>\n",
              "<style scoped>\n",
              "    .dataframe tbody tr th:only-of-type {\n",
              "        vertical-align: middle;\n",
              "    }\n",
              "\n",
              "    .dataframe tbody tr th {\n",
              "        vertical-align: top;\n",
              "    }\n",
              "\n",
              "    .dataframe thead th {\n",
              "        text-align: right;\n",
              "    }\n",
              "</style>\n",
              "<table border=\"1\" class=\"dataframe\">\n",
              "  <thead>\n",
              "    <tr style=\"text-align: right;\">\n",
              "      <th></th>\n",
              "      <th>Colorado</th>\n",
              "      <th>Texas</th>\n",
              "      <th>New York</th>\n",
              "      <th>Ohio</th>\n",
              "    </tr>\n",
              "  </thead>\n",
              "  <tbody>\n",
              "    <tr>\n",
              "      <th>2001-05-02</th>\n",
              "      <td>-2.149617</td>\n",
              "      <td>1.552855</td>\n",
              "      <td>0.405074</td>\n",
              "      <td>0.900380</td>\n",
              "    </tr>\n",
              "    <tr>\n",
              "      <th>2001-05-09</th>\n",
              "      <td>0.426804</td>\n",
              "      <td>0.060434</td>\n",
              "      <td>-1.964908</td>\n",
              "      <td>1.570305</td>\n",
              "    </tr>\n",
              "    <tr>\n",
              "      <th>2001-05-16</th>\n",
              "      <td>-0.875665</td>\n",
              "      <td>0.580321</td>\n",
              "      <td>0.746482</td>\n",
              "      <td>1.174756</td>\n",
              "    </tr>\n",
              "    <tr>\n",
              "      <th>2001-05-23</th>\n",
              "      <td>-0.567599</td>\n",
              "      <td>-0.803335</td>\n",
              "      <td>0.600198</td>\n",
              "      <td>1.367461</td>\n",
              "    </tr>\n",
              "    <tr>\n",
              "      <th>2001-05-30</th>\n",
              "      <td>-0.295445</td>\n",
              "      <td>-0.085571</td>\n",
              "      <td>0.777407</td>\n",
              "      <td>1.067479</td>\n",
              "    </tr>\n",
              "  </tbody>\n",
              "</table>\n",
              "</div>\n",
              "    <div class=\"colab-df-buttons\">\n",
              "\n",
              "  <div class=\"colab-df-container\">\n",
              "    <button class=\"colab-df-convert\" onclick=\"convertToInteractive('df-3fe541bc-d21a-4301-98ca-d7603de2b7d8')\"\n",
              "            title=\"Convert this dataframe to an interactive table.\"\n",
              "            style=\"display:none;\">\n",
              "\n",
              "  <svg xmlns=\"http://www.w3.org/2000/svg\" height=\"24px\" viewBox=\"0 -960 960 960\">\n",
              "    <path d=\"M120-120v-720h720v720H120Zm60-500h600v-160H180v160Zm220 220h160v-160H400v160Zm0 220h160v-160H400v160ZM180-400h160v-160H180v160Zm440 0h160v-160H620v160ZM180-180h160v-160H180v160Zm440 0h160v-160H620v160Z\"/>\n",
              "  </svg>\n",
              "    </button>\n",
              "\n",
              "  <style>\n",
              "    .colab-df-container {\n",
              "      display:flex;\n",
              "      gap: 12px;\n",
              "    }\n",
              "\n",
              "    .colab-df-convert {\n",
              "      background-color: #E8F0FE;\n",
              "      border: none;\n",
              "      border-radius: 50%;\n",
              "      cursor: pointer;\n",
              "      display: none;\n",
              "      fill: #1967D2;\n",
              "      height: 32px;\n",
              "      padding: 0 0 0 0;\n",
              "      width: 32px;\n",
              "    }\n",
              "\n",
              "    .colab-df-convert:hover {\n",
              "      background-color: #E2EBFA;\n",
              "      box-shadow: 0px 1px 2px rgba(60, 64, 67, 0.3), 0px 1px 3px 1px rgba(60, 64, 67, 0.15);\n",
              "      fill: #174EA6;\n",
              "    }\n",
              "\n",
              "    .colab-df-buttons div {\n",
              "      margin-bottom: 4px;\n",
              "    }\n",
              "\n",
              "    [theme=dark] .colab-df-convert {\n",
              "      background-color: #3B4455;\n",
              "      fill: #D2E3FC;\n",
              "    }\n",
              "\n",
              "    [theme=dark] .colab-df-convert:hover {\n",
              "      background-color: #434B5C;\n",
              "      box-shadow: 0px 1px 3px 1px rgba(0, 0, 0, 0.15);\n",
              "      filter: drop-shadow(0px 1px 2px rgba(0, 0, 0, 0.3));\n",
              "      fill: #FFFFFF;\n",
              "    }\n",
              "  </style>\n",
              "\n",
              "    <script>\n",
              "      const buttonEl =\n",
              "        document.querySelector('#df-3fe541bc-d21a-4301-98ca-d7603de2b7d8 button.colab-df-convert');\n",
              "      buttonEl.style.display =\n",
              "        google.colab.kernel.accessAllowed ? 'block' : 'none';\n",
              "\n",
              "      async function convertToInteractive(key) {\n",
              "        const element = document.querySelector('#df-3fe541bc-d21a-4301-98ca-d7603de2b7d8');\n",
              "        const dataTable =\n",
              "          await google.colab.kernel.invokeFunction('convertToInteractive',\n",
              "                                                    [key], {});\n",
              "        if (!dataTable) return;\n",
              "\n",
              "        const docLinkHtml = 'Like what you see? Visit the ' +\n",
              "          '<a target=\"_blank\" href=https://colab.research.google.com/notebooks/data_table.ipynb>data table notebook</a>'\n",
              "          + ' to learn more about interactive tables.';\n",
              "        element.innerHTML = '';\n",
              "        dataTable['output_type'] = 'display_data';\n",
              "        await google.colab.output.renderOutput(dataTable, element);\n",
              "        const docLink = document.createElement('div');\n",
              "        docLink.innerHTML = docLinkHtml;\n",
              "        element.appendChild(docLink);\n",
              "      }\n",
              "    </script>\n",
              "  </div>\n",
              "\n",
              "\n",
              "<div id=\"df-77cf078e-4f39-45cc-a99a-0098cca305f6\">\n",
              "  <button class=\"colab-df-quickchart\" onclick=\"quickchart('df-77cf078e-4f39-45cc-a99a-0098cca305f6')\"\n",
              "            title=\"Suggest charts\"\n",
              "            style=\"display:none;\">\n",
              "\n",
              "<svg xmlns=\"http://www.w3.org/2000/svg\" height=\"24px\"viewBox=\"0 0 24 24\"\n",
              "     width=\"24px\">\n",
              "    <g>\n",
              "        <path d=\"M19 3H5c-1.1 0-2 .9-2 2v14c0 1.1.9 2 2 2h14c1.1 0 2-.9 2-2V5c0-1.1-.9-2-2-2zM9 17H7v-7h2v7zm4 0h-2V7h2v10zm4 0h-2v-4h2v4z\"/>\n",
              "    </g>\n",
              "</svg>\n",
              "  </button>\n",
              "\n",
              "<style>\n",
              "  .colab-df-quickchart {\n",
              "      --bg-color: #E8F0FE;\n",
              "      --fill-color: #1967D2;\n",
              "      --hover-bg-color: #E2EBFA;\n",
              "      --hover-fill-color: #174EA6;\n",
              "      --disabled-fill-color: #AAA;\n",
              "      --disabled-bg-color: #DDD;\n",
              "  }\n",
              "\n",
              "  [theme=dark] .colab-df-quickchart {\n",
              "      --bg-color: #3B4455;\n",
              "      --fill-color: #D2E3FC;\n",
              "      --hover-bg-color: #434B5C;\n",
              "      --hover-fill-color: #FFFFFF;\n",
              "      --disabled-bg-color: #3B4455;\n",
              "      --disabled-fill-color: #666;\n",
              "  }\n",
              "\n",
              "  .colab-df-quickchart {\n",
              "    background-color: var(--bg-color);\n",
              "    border: none;\n",
              "    border-radius: 50%;\n",
              "    cursor: pointer;\n",
              "    display: none;\n",
              "    fill: var(--fill-color);\n",
              "    height: 32px;\n",
              "    padding: 0;\n",
              "    width: 32px;\n",
              "  }\n",
              "\n",
              "  .colab-df-quickchart:hover {\n",
              "    background-color: var(--hover-bg-color);\n",
              "    box-shadow: 0 1px 2px rgba(60, 64, 67, 0.3), 0 1px 3px 1px rgba(60, 64, 67, 0.15);\n",
              "    fill: var(--button-hover-fill-color);\n",
              "  }\n",
              "\n",
              "  .colab-df-quickchart-complete:disabled,\n",
              "  .colab-df-quickchart-complete:disabled:hover {\n",
              "    background-color: var(--disabled-bg-color);\n",
              "    fill: var(--disabled-fill-color);\n",
              "    box-shadow: none;\n",
              "  }\n",
              "\n",
              "  .colab-df-spinner {\n",
              "    border: 2px solid var(--fill-color);\n",
              "    border-color: transparent;\n",
              "    border-bottom-color: var(--fill-color);\n",
              "    animation:\n",
              "      spin 1s steps(1) infinite;\n",
              "  }\n",
              "\n",
              "  @keyframes spin {\n",
              "    0% {\n",
              "      border-color: transparent;\n",
              "      border-bottom-color: var(--fill-color);\n",
              "      border-left-color: var(--fill-color);\n",
              "    }\n",
              "    20% {\n",
              "      border-color: transparent;\n",
              "      border-left-color: var(--fill-color);\n",
              "      border-top-color: var(--fill-color);\n",
              "    }\n",
              "    30% {\n",
              "      border-color: transparent;\n",
              "      border-left-color: var(--fill-color);\n",
              "      border-top-color: var(--fill-color);\n",
              "      border-right-color: var(--fill-color);\n",
              "    }\n",
              "    40% {\n",
              "      border-color: transparent;\n",
              "      border-right-color: var(--fill-color);\n",
              "      border-top-color: var(--fill-color);\n",
              "    }\n",
              "    60% {\n",
              "      border-color: transparent;\n",
              "      border-right-color: var(--fill-color);\n",
              "    }\n",
              "    80% {\n",
              "      border-color: transparent;\n",
              "      border-right-color: var(--fill-color);\n",
              "      border-bottom-color: var(--fill-color);\n",
              "    }\n",
              "    90% {\n",
              "      border-color: transparent;\n",
              "      border-bottom-color: var(--fill-color);\n",
              "    }\n",
              "  }\n",
              "</style>\n",
              "\n",
              "  <script>\n",
              "    async function quickchart(key) {\n",
              "      const quickchartButtonEl =\n",
              "        document.querySelector('#' + key + ' button');\n",
              "      quickchartButtonEl.disabled = true;  // To prevent multiple clicks.\n",
              "      quickchartButtonEl.classList.add('colab-df-spinner');\n",
              "      try {\n",
              "        const charts = await google.colab.kernel.invokeFunction(\n",
              "            'suggestCharts', [key], {});\n",
              "      } catch (error) {\n",
              "        console.error('Error during call to suggestCharts:', error);\n",
              "      }\n",
              "      quickchartButtonEl.classList.remove('colab-df-spinner');\n",
              "      quickchartButtonEl.classList.add('colab-df-quickchart-complete');\n",
              "    }\n",
              "    (() => {\n",
              "      let quickchartButtonEl =\n",
              "        document.querySelector('#df-77cf078e-4f39-45cc-a99a-0098cca305f6 button');\n",
              "      quickchartButtonEl.style.display =\n",
              "        google.colab.kernel.accessAllowed ? 'block' : 'none';\n",
              "    })();\n",
              "  </script>\n",
              "</div>\n",
              "\n",
              "    </div>\n",
              "  </div>\n"
            ],
            "application/vnd.google.colaboratory.intrinsic+json": {
              "type": "dataframe",
              "summary": "{\n  \"name\": \"long_df\",\n  \"rows\": 5,\n  \"fields\": [\n    {\n      \"column\": \"Colorado\",\n      \"properties\": {\n        \"dtype\": \"number\",\n        \"std\": 0.946418401470975,\n        \"min\": -2.149616530405294,\n        \"max\": 0.4268035181107039,\n        \"num_unique_values\": 5,\n        \"samples\": [\n          0.4268035181107039,\n          -0.2954450601040106,\n          -0.8756652007141668\n        ],\n        \"semantic_type\": \"\",\n        \"description\": \"\"\n      }\n    },\n    {\n      \"column\": \"Texas\",\n      \"properties\": {\n        \"dtype\": \"number\",\n        \"std\": 0.8752144326198041,\n        \"min\": -0.8033349357184687,\n        \"max\": 1.5528545440930281,\n        \"num_unique_values\": 5,\n        \"samples\": [\n          0.060434048852621235,\n          -0.08557101145343449,\n          0.5803212247540143\n        ],\n        \"semantic_type\": \"\",\n        \"description\": \"\"\n      }\n    },\n    {\n      \"column\": \"New York\",\n      \"properties\": {\n        \"dtype\": \"number\",\n        \"std\": 1.1708018262085196,\n        \"min\": -1.9649082009747891,\n        \"max\": 0.77740665761131,\n        \"num_unique_values\": 5,\n        \"samples\": [\n          -1.9649082009747891,\n          0.77740665761131,\n          0.7464819994486493\n        ],\n        \"semantic_type\": \"\",\n        \"description\": \"\"\n      }\n    },\n    {\n      \"column\": \"Ohio\",\n      \"properties\": {\n        \"dtype\": \"number\",\n        \"std\": 0.26069520115298295,\n        \"min\": 0.9003800584494671,\n        \"max\": 1.570305128186186,\n        \"num_unique_values\": 5,\n        \"samples\": [\n          1.570305128186186,\n          1.0674794861126782,\n          1.1747562260650979\n        ],\n        \"semantic_type\": \"\",\n        \"description\": \"\"\n      }\n    }\n  ]\n}"
            }
          },
          "metadata": {},
          "execution_count": 43
        }
      ],
      "source": [
        "dates = pd.date_range(\"2000-01-01\", periods=100, freq=\"W-WED\")\n",
        "long_df = pd.DataFrame(np.random.standard_normal((100, 4)),\n",
        "                       index=dates,\n",
        "                       columns=[\"Colorado\", \"Texas\",\n",
        "                                \"New York\", \"Ohio\"])\n",
        "long_df.loc[\"2001-05\"]"
      ]
    },
    {
      "cell_type": "markdown",
      "source": [
        " # Time Series with Duplicate Indices\n",
        " In some applications, there may be multiple data observations falling on a particular\n",
        " timestamp. Here is an example:"
      ],
      "metadata": {
        "id": "6CvJm84plNHT"
      }
    },
    {
      "cell_type": "code",
      "execution_count": null,
      "metadata": {
        "id": "RrNJGMKRj9Am",
        "colab": {
          "base_uri": "https://localhost:8080/",
          "height": 241
        },
        "outputId": "53af80da-6fe5-4f1a-aba3-d26eb4f1b2ab"
      },
      "outputs": [
        {
          "output_type": "execute_result",
          "data": {
            "text/plain": [
              "2000-01-01    0\n",
              "2000-01-02    1\n",
              "2000-01-02    2\n",
              "2000-01-02    3\n",
              "2000-01-03    4\n",
              "dtype: int64"
            ],
            "text/html": [
              "<div>\n",
              "<style scoped>\n",
              "    .dataframe tbody tr th:only-of-type {\n",
              "        vertical-align: middle;\n",
              "    }\n",
              "\n",
              "    .dataframe tbody tr th {\n",
              "        vertical-align: top;\n",
              "    }\n",
              "\n",
              "    .dataframe thead th {\n",
              "        text-align: right;\n",
              "    }\n",
              "</style>\n",
              "<table border=\"1\" class=\"dataframe\">\n",
              "  <thead>\n",
              "    <tr style=\"text-align: right;\">\n",
              "      <th></th>\n",
              "      <th>0</th>\n",
              "    </tr>\n",
              "  </thead>\n",
              "  <tbody>\n",
              "    <tr>\n",
              "      <th>2000-01-01</th>\n",
              "      <td>0</td>\n",
              "    </tr>\n",
              "    <tr>\n",
              "      <th>2000-01-02</th>\n",
              "      <td>1</td>\n",
              "    </tr>\n",
              "    <tr>\n",
              "      <th>2000-01-02</th>\n",
              "      <td>2</td>\n",
              "    </tr>\n",
              "    <tr>\n",
              "      <th>2000-01-02</th>\n",
              "      <td>3</td>\n",
              "    </tr>\n",
              "    <tr>\n",
              "      <th>2000-01-03</th>\n",
              "      <td>4</td>\n",
              "    </tr>\n",
              "  </tbody>\n",
              "</table>\n",
              "</div><br><label><b>dtype:</b> int64</label>"
            ]
          },
          "metadata": {},
          "execution_count": 44
        }
      ],
      "source": [
        "dates = pd.DatetimeIndex([\"2000-01-01\", \"2000-01-02\", \"2000-01-02\",\n",
        "                          \"2000-01-02\", \"2000-01-03\"])\n",
        "dup_ts = pd.Series(np.arange(5), index=dates)\n",
        "dup_ts"
      ]
    },
    {
      "cell_type": "markdown",
      "source": [
        " We can tell that the index is not unique by checking its is_unique property:"
      ],
      "metadata": {
        "id": "AFZHx4TglQUF"
      }
    },
    {
      "cell_type": "code",
      "execution_count": null,
      "metadata": {
        "id": "qggf3tJJj9An",
        "colab": {
          "base_uri": "https://localhost:8080/"
        },
        "outputId": "ca00f4a2-d8e4-4896-d894-4554a68adb71"
      },
      "outputs": [
        {
          "output_type": "execute_result",
          "data": {
            "text/plain": [
              "False"
            ]
          },
          "metadata": {},
          "execution_count": 45
        }
      ],
      "source": [
        "dup_ts.index.is_unique"
      ]
    },
    {
      "cell_type": "markdown",
      "source": [
        " Indexing into this time series will now either produce scalar values or slices, depend\n",
        "ing on whether a timestamp is duplicated:"
      ],
      "metadata": {
        "id": "aseXc-MqlS4x"
      }
    },
    {
      "cell_type": "code",
      "execution_count": null,
      "metadata": {
        "id": "C3-glMAmj9An",
        "colab": {
          "base_uri": "https://localhost:8080/",
          "height": 178
        },
        "outputId": "0b7e6192-4037-43fe-bcd0-ddff9e56d790"
      },
      "outputs": [
        {
          "output_type": "execute_result",
          "data": {
            "text/plain": [
              "2000-01-02    1\n",
              "2000-01-02    2\n",
              "2000-01-02    3\n",
              "dtype: int64"
            ],
            "text/html": [
              "<div>\n",
              "<style scoped>\n",
              "    .dataframe tbody tr th:only-of-type {\n",
              "        vertical-align: middle;\n",
              "    }\n",
              "\n",
              "    .dataframe tbody tr th {\n",
              "        vertical-align: top;\n",
              "    }\n",
              "\n",
              "    .dataframe thead th {\n",
              "        text-align: right;\n",
              "    }\n",
              "</style>\n",
              "<table border=\"1\" class=\"dataframe\">\n",
              "  <thead>\n",
              "    <tr style=\"text-align: right;\">\n",
              "      <th></th>\n",
              "      <th>0</th>\n",
              "    </tr>\n",
              "  </thead>\n",
              "  <tbody>\n",
              "    <tr>\n",
              "      <th>2000-01-02</th>\n",
              "      <td>1</td>\n",
              "    </tr>\n",
              "    <tr>\n",
              "      <th>2000-01-02</th>\n",
              "      <td>2</td>\n",
              "    </tr>\n",
              "    <tr>\n",
              "      <th>2000-01-02</th>\n",
              "      <td>3</td>\n",
              "    </tr>\n",
              "  </tbody>\n",
              "</table>\n",
              "</div><br><label><b>dtype:</b> int64</label>"
            ]
          },
          "metadata": {},
          "execution_count": 47
        }
      ],
      "source": [
        "# dup_ts[\"2000-01-03\"]  # not duplicated\n",
        "dup_ts[\"2000-01-02\"]  # duplicated"
      ]
    },
    {
      "cell_type": "markdown",
      "source": [
        " Suppose you wanted to aggregate the data having nonunique timestamps. One way to\n",
        " do this is to use groupby and pass level=0 (the one and only level):"
      ],
      "metadata": {
        "id": "GeG5iUNqlVYz"
      }
    },
    {
      "cell_type": "code",
      "execution_count": null,
      "metadata": {
        "id": "3u21AYkbj9An",
        "colab": {
          "base_uri": "https://localhost:8080/"
        },
        "outputId": "219b6cbc-6f96-4105-c73a-5dc658938604"
      },
      "outputs": [
        {
          "output_type": "stream",
          "name": "stdout",
          "text": [
            "2000-01-01    0.0\n",
            "2000-01-02    2.0\n",
            "2000-01-03    4.0\n",
            "dtype: float64\n",
            "2000-01-01    1\n",
            "2000-01-02    3\n",
            "2000-01-03    1\n",
            "dtype: int64\n"
          ]
        }
      ],
      "source": [
        "grouped = dup_ts.groupby(level=0)\n",
        "print(grouped.mean())\n",
        "print(grouped.count())"
      ]
    },
    {
      "cell_type": "markdown",
      "source": [
        "# Date Ranges, Frequencies, and Shifting\n",
        " Generic time series in pandas are assumed to be irregular; that is, they have no fixed\n",
        " frequency. For many applications this is sufficient. However, it’s often desirable to\n",
        " work relative to a fixed frequency, such as daily, monthly, or every 15 minutes, even\n",
        " if that means introducing missing values into a time series."
      ],
      "metadata": {
        "id": "o2QcRqvXlZ7s"
      }
    },
    {
      "cell_type": "code",
      "execution_count": null,
      "metadata": {
        "id": "H5UlY4c3j9An"
      },
      "outputs": [],
      "source": [
        "ts\n",
        "resampler = ts.resample(\"D\")\n",
        "resampler"
      ]
    },
    {
      "cell_type": "markdown",
      "source": [
        " The string \"D\" is interpreted as daily frequency."
      ],
      "metadata": {
        "id": "esw7DM8ullfl"
      }
    },
    {
      "cell_type": "markdown",
      "source": [
        " # Generating Date Ranges\n",
        " While I used it previously without explanation, pandas.date_range is responsible\n",
        " for generating a DatetimeIndex with an indicated length according to a particular\n",
        " frequency:"
      ],
      "metadata": {
        "id": "FYFw2Ykzln9B"
      }
    },
    {
      "cell_type": "code",
      "execution_count": null,
      "metadata": {
        "id": "HtPsd-uvj9An",
        "colab": {
          "base_uri": "https://localhost:8080/"
        },
        "outputId": "be55ca4b-c514-4920-dab3-a5fc2043c167"
      },
      "outputs": [
        {
          "output_type": "execute_result",
          "data": {
            "text/plain": [
              "DatetimeIndex(['2012-04-01', '2012-04-02', '2012-04-03', '2012-04-04',\n",
              "               '2012-04-05', '2012-04-06', '2012-04-07', '2012-04-08',\n",
              "               '2012-04-09', '2012-04-10', '2012-04-11', '2012-04-12',\n",
              "               '2012-04-13', '2012-04-14', '2012-04-15', '2012-04-16',\n",
              "               '2012-04-17', '2012-04-18', '2012-04-19', '2012-04-20',\n",
              "               '2012-04-21', '2012-04-22', '2012-04-23', '2012-04-24',\n",
              "               '2012-04-25', '2012-04-26', '2012-04-27', '2012-04-28',\n",
              "               '2012-04-29', '2012-04-30', '2012-05-01', '2012-05-02',\n",
              "               '2012-05-03', '2012-05-04', '2012-05-05', '2012-05-06',\n",
              "               '2012-05-07', '2012-05-08', '2012-05-09', '2012-05-10',\n",
              "               '2012-05-11', '2012-05-12', '2012-05-13', '2012-05-14',\n",
              "               '2012-05-15', '2012-05-16', '2012-05-17', '2012-05-18',\n",
              "               '2012-05-19', '2012-05-20', '2012-05-21', '2012-05-22',\n",
              "               '2012-05-23', '2012-05-24', '2012-05-25', '2012-05-26',\n",
              "               '2012-05-27', '2012-05-28', '2012-05-29', '2012-05-30',\n",
              "               '2012-05-31', '2012-06-01'],\n",
              "              dtype='datetime64[ns]', freq='D')"
            ]
          },
          "metadata": {},
          "execution_count": 50
        }
      ],
      "source": [
        "index = pd.date_range(\"2012-04-01\", \"2012-06-01\")\n",
        "index"
      ]
    },
    {
      "cell_type": "markdown",
      "source": [
        "By default, pandas.date_range generates daily timestamps. If you pass only a start or\n",
        " end date, you must pass a number of periods to generate:"
      ],
      "metadata": {
        "id": "o1cJb0ZDlrdz"
      }
    },
    {
      "cell_type": "code",
      "execution_count": null,
      "metadata": {
        "id": "zGzieJDnj9An",
        "colab": {
          "base_uri": "https://localhost:8080/"
        },
        "outputId": "50767e98-4f40-454d-ae21-dac741ec50b1"
      },
      "outputs": [
        {
          "output_type": "execute_result",
          "data": {
            "text/plain": [
              "DatetimeIndex(['2012-05-13', '2012-05-14', '2012-05-15', '2012-05-16',\n",
              "               '2012-05-17', '2012-05-18', '2012-05-19', '2012-05-20',\n",
              "               '2012-05-21', '2012-05-22', '2012-05-23', '2012-05-24',\n",
              "               '2012-05-25', '2012-05-26', '2012-05-27', '2012-05-28',\n",
              "               '2012-05-29', '2012-05-30', '2012-05-31', '2012-06-01'],\n",
              "              dtype='datetime64[ns]', freq='D')"
            ]
          },
          "metadata": {},
          "execution_count": 52
        }
      ],
      "source": [
        "# pd.date_range(start=\"2012-04-01\", periods=20)\n",
        "# pd.date_range(end=\"2012-06-01\", periods=20)"
      ]
    },
    {
      "cell_type": "markdown",
      "source": [
        " The start and end dates define strict boundaries for the generated date index. For\n",
        " example, if you wanted a date index containing the last business day of each month,\n",
        " you would pass the \"BM\" frequency"
      ],
      "metadata": {
        "id": "6ReuR7xdlvEe"
      }
    },
    {
      "cell_type": "code",
      "execution_count": null,
      "metadata": {
        "id": "b4PcVmncj9An",
        "colab": {
          "base_uri": "https://localhost:8080/"
        },
        "outputId": "94d5692a-f4d5-4d0a-b1ac-b2b2bf124494"
      },
      "outputs": [
        {
          "output_type": "stream",
          "name": "stderr",
          "text": [
            "<ipython-input-56-f8f98a816039>:1: FutureWarning: 'BM' is deprecated and will be removed in a future version, please use 'BME' instead.\n",
            "  pd.date_range(\"2000-01-01\", \"2000-12-03\", freq=\"BM\")\n"
          ]
        },
        {
          "output_type": "execute_result",
          "data": {
            "text/plain": [
              "DatetimeIndex(['2000-01-31', '2000-02-29', '2000-03-31', '2000-04-28',\n",
              "               '2000-05-31', '2000-06-30', '2000-07-31', '2000-08-31',\n",
              "               '2000-09-29', '2000-10-31', '2000-11-30'],\n",
              "              dtype='datetime64[ns]', freq='BME')"
            ]
          },
          "metadata": {},
          "execution_count": 56
        }
      ],
      "source": [
        "pd.date_range(\"2000-01-01\", \"2000-12-03\", freq=\"BM\")"
      ]
    },
    {
      "cell_type": "markdown",
      "source": [
        " pandas.date_range by default preserves the time (if any) of the start or end time\n",
        "stamp:"
      ],
      "metadata": {
        "id": "VqFiBtGWlyPm"
      }
    },
    {
      "cell_type": "code",
      "execution_count": null,
      "metadata": {
        "id": "9plqNdV4j9An",
        "colab": {
          "base_uri": "https://localhost:8080/"
        },
        "outputId": "ec6fdd42-771d-4ed1-87cf-a5c347a21d48"
      },
      "outputs": [
        {
          "output_type": "execute_result",
          "data": {
            "text/plain": [
              "DatetimeIndex(['2012-05-02 12:56:31', '2012-05-03 12:56:31',\n",
              "               '2012-05-04 12:56:31', '2012-05-05 12:56:31',\n",
              "               '2012-05-06 12:56:31'],\n",
              "              dtype='datetime64[ns]', freq='D')"
            ]
          },
          "metadata": {},
          "execution_count": 57
        }
      ],
      "source": [
        "pd.date_range(\"2012-05-02 12:56:31\", periods=5)"
      ]
    },
    {
      "cell_type": "markdown",
      "source": [
        " Sometimes you will have start or end dates with time information but want to\n",
        " generate a set of timestamps normalized to midnight as a convention. To do this,\n",
        " there is a normalize option:"
      ],
      "metadata": {
        "id": "3cE-lehLl0OO"
      }
    },
    {
      "cell_type": "code",
      "execution_count": null,
      "metadata": {
        "id": "5PPPLbvBj9An",
        "colab": {
          "base_uri": "https://localhost:8080/"
        },
        "outputId": "87b322be-2b45-4c0f-91e1-78cdb1a2429c"
      },
      "outputs": [
        {
          "output_type": "execute_result",
          "data": {
            "text/plain": [
              "DatetimeIndex(['2012-05-02', '2012-05-03', '2012-05-04', '2012-05-05',\n",
              "               '2012-05-06'],\n",
              "              dtype='datetime64[ns]', freq='D')"
            ]
          },
          "metadata": {},
          "execution_count": 58
        }
      ],
      "source": [
        "pd.date_range(\"2012-05-02 12:56:31\", periods=5, normalize=True)"
      ]
    },
    {
      "cell_type": "markdown",
      "source": [
        "# Frequencies and Date Offsets\n",
        " Frequencies in pandas are composed of a base frequency and a multiplier. Base\n",
        " frequencies are typically referred to by a string alias, like \"M\" for monthly or \"H\" for\n",
        " hourly. For each base frequency, there is an object referred to as a date offset. For\n",
        " example, hourly frequency can be represented with the Hour class:"
      ],
      "metadata": {
        "id": "VEUg5FwXl2pE"
      }
    },
    {
      "cell_type": "code",
      "execution_count": null,
      "metadata": {
        "id": "T5xZTmI5j9An",
        "colab": {
          "base_uri": "https://localhost:8080/"
        },
        "outputId": "e3e931c1-ea97-4b0b-d9d3-553968c8f635"
      },
      "outputs": [
        {
          "output_type": "execute_result",
          "data": {
            "text/plain": [
              "<Hour>"
            ]
          },
          "metadata": {},
          "execution_count": 59
        }
      ],
      "source": [
        "from pandas.tseries.offsets import Hour, Minute\n",
        "hour = Hour()\n",
        "hour"
      ]
    },
    {
      "cell_type": "markdown",
      "source": [
        "You can define a multiple of an offset by passing an integer:"
      ],
      "metadata": {
        "id": "o_mzF4K5l6Os"
      }
    },
    {
      "cell_type": "code",
      "execution_count": null,
      "metadata": {
        "id": "gVN_dmXEj9An",
        "colab": {
          "base_uri": "https://localhost:8080/"
        },
        "outputId": "503cb888-d717-403b-cbe4-5ec8f6bef3a5"
      },
      "outputs": [
        {
          "output_type": "execute_result",
          "data": {
            "text/plain": [
              "<4 * Hours>"
            ]
          },
          "metadata": {},
          "execution_count": 60
        }
      ],
      "source": [
        "four_hours = Hour(4)\n",
        "four_hours"
      ]
    },
    {
      "cell_type": "markdown",
      "source": [
        " In most applications, you would never need to explicitly create one of these objects;\n",
        " instead you’d use a string alias like \"H\" or \"4H\". Putting an integer before the base\n",
        " frequency creates a multiple:"
      ],
      "metadata": {
        "id": "mNLkxZztl8Rk"
      }
    },
    {
      "cell_type": "code",
      "execution_count": null,
      "metadata": {
        "id": "oZWSjQFXj9Ao",
        "colab": {
          "base_uri": "https://localhost:8080/"
        },
        "outputId": "b7bbcc02-1121-4d75-95f3-e9395ebac4a1"
      },
      "outputs": [
        {
          "output_type": "stream",
          "name": "stderr",
          "text": [
            "<ipython-input-61-40c73449e66d>:1: FutureWarning: 'H' is deprecated and will be removed in a future version, please use 'h' instead.\n",
            "  pd.date_range(\"2000-01-01\", \"2000-01-03 23:59\", freq=\"4H\")\n"
          ]
        },
        {
          "output_type": "execute_result",
          "data": {
            "text/plain": [
              "DatetimeIndex(['2000-01-01 00:00:00', '2000-01-01 04:00:00',\n",
              "               '2000-01-01 08:00:00', '2000-01-01 12:00:00',\n",
              "               '2000-01-01 16:00:00', '2000-01-01 20:00:00',\n",
              "               '2000-01-02 00:00:00', '2000-01-02 04:00:00',\n",
              "               '2000-01-02 08:00:00', '2000-01-02 12:00:00',\n",
              "               '2000-01-02 16:00:00', '2000-01-02 20:00:00',\n",
              "               '2000-01-03 00:00:00', '2000-01-03 04:00:00',\n",
              "               '2000-01-03 08:00:00', '2000-01-03 12:00:00',\n",
              "               '2000-01-03 16:00:00', '2000-01-03 20:00:00'],\n",
              "              dtype='datetime64[ns]', freq='4h')"
            ]
          },
          "metadata": {},
          "execution_count": 61
        }
      ],
      "source": [
        "pd.date_range(\"2000-01-01\", \"2000-01-03 23:59\", freq=\"4H\")"
      ]
    },
    {
      "cell_type": "markdown",
      "source": [
        " Many offsets can be combined by addition:"
      ],
      "metadata": {
        "id": "2MEIb2j_l-NH"
      }
    },
    {
      "cell_type": "code",
      "execution_count": null,
      "metadata": {
        "id": "70U6BcGwj9Ao",
        "colab": {
          "base_uri": "https://localhost:8080/"
        },
        "outputId": "8e2908e3-d424-42a9-b0e4-45f19bba32ad"
      },
      "outputs": [
        {
          "output_type": "execute_result",
          "data": {
            "text/plain": [
              "<150 * Minutes>"
            ]
          },
          "metadata": {},
          "execution_count": 62
        }
      ],
      "source": [
        "Hour(2) + Minute(30)"
      ]
    },
    {
      "cell_type": "markdown",
      "source": [
        " Similarly, you can pass frequency strings, like \"1h30min\", that will effectively be\n",
        " parsed to the same expression:"
      ],
      "metadata": {
        "id": "InAz6jaimATF"
      }
    },
    {
      "cell_type": "code",
      "execution_count": null,
      "metadata": {
        "id": "tkdRqxh7j9Ao"
      },
      "outputs": [],
      "source": [
        "pd.date_range(\"2000-01-01\", periods=10, freq=\"1h30min\")"
      ]
    },
    {
      "cell_type": "markdown",
      "source": [
        "Some frequencies describe points in time that are not evenly spaced. For example,\n",
        " \"M\" (calendar month end) and \"BM\" (last business/weekday of month) depend on the\n",
        " number of days in a month and, in the latter case, whether the month ends on a\n",
        " weekend or not. We refer to these as anchored offsets."
      ],
      "metadata": {
        "id": "n2CPBYvNmDzR"
      }
    },
    {
      "cell_type": "markdown",
      "source": [
        " Week of month dates\n",
        " One useful frequency class is “week of month,” starting with WOM. This enables you to\n",
        " get dates like the third Friday of each month:"
      ],
      "metadata": {
        "id": "scyh5Wr8mGFp"
      }
    },
    {
      "cell_type": "code",
      "execution_count": null,
      "metadata": {
        "id": "AVTSTVD6j9Ao",
        "colab": {
          "base_uri": "https://localhost:8080/"
        },
        "outputId": "d1b49f23-4145-4c36-b6f1-0e9c3ffb69b5"
      },
      "outputs": [
        {
          "output_type": "execute_result",
          "data": {
            "text/plain": [
              "[Timestamp('2012-01-20 00:00:00'),\n",
              " Timestamp('2012-02-17 00:00:00'),\n",
              " Timestamp('2012-03-16 00:00:00'),\n",
              " Timestamp('2012-04-20 00:00:00'),\n",
              " Timestamp('2012-05-18 00:00:00'),\n",
              " Timestamp('2012-06-15 00:00:00'),\n",
              " Timestamp('2012-07-20 00:00:00'),\n",
              " Timestamp('2012-08-17 00:00:00')]"
            ]
          },
          "metadata": {},
          "execution_count": 63
        }
      ],
      "source": [
        "monthly_dates = pd.date_range(\"2012-01-01\", \"2012-09-01\", freq=\"WOM-3FRI\")\n",
        "list(monthly_dates)"
      ]
    },
    {
      "cell_type": "markdown",
      "source": [
        " # Shifting (Leading and Lagging) Data\n",
        " Shifting refers to moving data backward and forward through time. Both Series and\n",
        " DataFrame have a shift method for doing naive shifts forward or backward, leaving\n",
        " the index unmodified:"
      ],
      "metadata": {
        "id": "uoZ-TGDRmKF1"
      }
    },
    {
      "cell_type": "code",
      "execution_count": null,
      "metadata": {
        "id": "YkHZGuFBj9Ao",
        "colab": {
          "base_uri": "https://localhost:8080/"
        },
        "outputId": "b8953f07-00b2-4da6-b36d-803d45243f85"
      },
      "outputs": [
        {
          "output_type": "stream",
          "name": "stdout",
          "text": [
            "2000-01-31    0.703083\n",
            "2000-02-29    0.075575\n",
            "2000-03-31    0.700022\n",
            "2000-04-30    1.416030\n",
            "Freq: ME, dtype: float64\n",
            "2000-01-31         NaN\n",
            "2000-02-29         NaN\n",
            "2000-03-31    0.703083\n",
            "2000-04-30    0.075575\n",
            "Freq: ME, dtype: float64\n"
          ]
        },
        {
          "output_type": "stream",
          "name": "stderr",
          "text": [
            "<ipython-input-64-be9bbc83b7ae>:2: FutureWarning: 'M' is deprecated and will be removed in a future version, please use 'ME' instead.\n",
            "  index=pd.date_range(\"2000-01-01\", periods=4, freq=\"M\"))\n"
          ]
        }
      ],
      "source": [
        "ts = pd.Series(np.random.standard_normal(4),\n",
        "               index=pd.date_range(\"2000-01-01\", periods=4, freq=\"M\"))\n",
        "print(ts)\n",
        "print(ts.shift(2))\n",
        "# ts.shift(-2)"
      ]
    },
    {
      "cell_type": "markdown",
      "source": [
        " When we shift like this, missing data is introduced either at the start or the end of the\n",
        " time series.\n",
        " A common use of shift is computing consecutive percent changes in a time series or\n",
        " multiple time series as DataFrame columns. This is expressed as:\n",
        " ts / ts.shift(1) - 1\n",
        " Because naive shifts leave the index unmodified, some data is discarded. Thus if the\n",
        " frequency is known, it can be passed to shift to advance the timestamps instead of\n",
        " simply the data:"
      ],
      "metadata": {
        "id": "ZeqQYCqtmQ4V"
      }
    },
    {
      "cell_type": "code",
      "execution_count": null,
      "metadata": {
        "id": "7XuxOYhAj9Ar",
        "colab": {
          "base_uri": "https://localhost:8080/",
          "height": 244
        },
        "outputId": "c39a8197-5eea-4a93-a651-ddd1c4fc858b"
      },
      "outputs": [
        {
          "output_type": "stream",
          "name": "stderr",
          "text": [
            "<ipython-input-65-4346ecc606f8>:1: FutureWarning: 'M' is deprecated and will be removed in a future version, please use 'ME' instead.\n",
            "  ts.shift(2, freq=\"M\")\n"
          ]
        },
        {
          "output_type": "execute_result",
          "data": {
            "text/plain": [
              "2000-03-31    0.703083\n",
              "2000-04-30    0.075575\n",
              "2000-05-31    0.700022\n",
              "2000-06-30    1.416030\n",
              "Freq: ME, dtype: float64"
            ],
            "text/html": [
              "<div>\n",
              "<style scoped>\n",
              "    .dataframe tbody tr th:only-of-type {\n",
              "        vertical-align: middle;\n",
              "    }\n",
              "\n",
              "    .dataframe tbody tr th {\n",
              "        vertical-align: top;\n",
              "    }\n",
              "\n",
              "    .dataframe thead th {\n",
              "        text-align: right;\n",
              "    }\n",
              "</style>\n",
              "<table border=\"1\" class=\"dataframe\">\n",
              "  <thead>\n",
              "    <tr style=\"text-align: right;\">\n",
              "      <th></th>\n",
              "      <th>0</th>\n",
              "    </tr>\n",
              "  </thead>\n",
              "  <tbody>\n",
              "    <tr>\n",
              "      <th>2000-03-31</th>\n",
              "      <td>0.703083</td>\n",
              "    </tr>\n",
              "    <tr>\n",
              "      <th>2000-04-30</th>\n",
              "      <td>0.075575</td>\n",
              "    </tr>\n",
              "    <tr>\n",
              "      <th>2000-05-31</th>\n",
              "      <td>0.700022</td>\n",
              "    </tr>\n",
              "    <tr>\n",
              "      <th>2000-06-30</th>\n",
              "      <td>1.416030</td>\n",
              "    </tr>\n",
              "  </tbody>\n",
              "</table>\n",
              "</div><br><label><b>dtype:</b> float64</label>"
            ]
          },
          "metadata": {},
          "execution_count": 65
        }
      ],
      "source": [
        "ts.shift(2, freq=\"M\")"
      ]
    },
    {
      "cell_type": "markdown",
      "source": [
        " Other frequencies can be passed, too, giving you some flexibility in how to lead and\n",
        " lag the data:"
      ],
      "metadata": {
        "id": "pGeocdxQmWhB"
      }
    },
    {
      "cell_type": "code",
      "execution_count": null,
      "metadata": {
        "id": "dL7W6_qrj9Ar"
      },
      "outputs": [],
      "source": [
        "ts.shift(3, freq=\"D\")\n",
        "ts.shift(1, freq=\"90T\")"
      ]
    },
    {
      "cell_type": "markdown",
      "source": [
        " The T here stands for minutes. Note that the freq parameter here indicates the offset\n",
        " to apply to the timestamps, but it does not change the underlying frequency of the\n",
        " data, if any."
      ],
      "metadata": {
        "id": "MJosLORimY6D"
      }
    },
    {
      "cell_type": "markdown",
      "source": [
        " # Shifting dates with offsets\n",
        " The pandas date offsets can also be used with datetime or Timestamp objects:"
      ],
      "metadata": {
        "id": "SnZ3be82mb7h"
      }
    },
    {
      "cell_type": "code",
      "execution_count": null,
      "metadata": {
        "id": "z9f6krs9j9Ar",
        "colab": {
          "base_uri": "https://localhost:8080/"
        },
        "outputId": "a2894d9c-399a-4398-a3a7-62740897fb7e"
      },
      "outputs": [
        {
          "output_type": "execute_result",
          "data": {
            "text/plain": [
              "Timestamp('2011-11-20 00:00:00')"
            ]
          },
          "metadata": {},
          "execution_count": 66
        }
      ],
      "source": [
        "from pandas.tseries.offsets import Day, MonthEnd\n",
        "now = datetime(2011, 11, 17)\n",
        "now + 3 * Day()"
      ]
    },
    {
      "cell_type": "markdown",
      "source": [
        " If you add an anchored offset like MonthEnd, the first increment will “roll forward” a\n",
        " date to the next date according to the frequency rule:"
      ],
      "metadata": {
        "id": "OReZGlGXmk7t"
      }
    },
    {
      "cell_type": "code",
      "execution_count": null,
      "metadata": {
        "id": "5nAXi8VSj9Ar",
        "colab": {
          "base_uri": "https://localhost:8080/"
        },
        "outputId": "b4ece2c9-2dd2-4656-8395-5d009f46eaeb"
      },
      "outputs": [
        {
          "output_type": "execute_result",
          "data": {
            "text/plain": [
              "Timestamp('2011-12-31 00:00:00')"
            ]
          },
          "metadata": {},
          "execution_count": 68
        }
      ],
      "source": [
        "now + MonthEnd()\n",
        "now + MonthEnd(2)"
      ]
    },
    {
      "cell_type": "markdown",
      "source": [
        " Anchored offsets can explicitly “roll” dates forward or backward by simply using their\n",
        " rollforward and rollback methods, respectively:"
      ],
      "metadata": {
        "id": "IYzsfPzfmm8K"
      }
    },
    {
      "cell_type": "code",
      "execution_count": null,
      "metadata": {
        "id": "ANb7NqV1j9Ar"
      },
      "outputs": [],
      "source": [
        "offset = MonthEnd()\n",
        "offset.rollforward(now)\n",
        "offset.rollback(now)"
      ]
    },
    {
      "cell_type": "markdown",
      "source": [
        " A creative use of date offsets is to use these methods with groupby:"
      ],
      "metadata": {
        "id": "UQwJe_Dtmo5T"
      }
    },
    {
      "cell_type": "code",
      "execution_count": null,
      "metadata": {
        "id": "aheYeyA0j9Ar",
        "colab": {
          "base_uri": "https://localhost:8080/"
        },
        "outputId": "2c7e900a-cacc-4047-943c-bfc935483708"
      },
      "outputs": [
        {
          "output_type": "stream",
          "name": "stdout",
          "text": [
            "2000-01-15   -0.700676\n",
            "2000-01-19   -0.301605\n",
            "2000-01-23    0.028612\n",
            "2000-01-27   -1.947259\n",
            "2000-01-31    2.033981\n",
            "2000-02-04   -0.138246\n",
            "2000-02-08   -0.719689\n",
            "2000-02-12    2.219406\n",
            "2000-02-16   -1.659319\n",
            "2000-02-20    0.877243\n",
            "2000-02-24    0.540589\n",
            "2000-02-28    0.045965\n",
            "2000-03-03    1.437115\n",
            "2000-03-07    0.280476\n",
            "2000-03-11   -0.820854\n",
            "2000-03-15   -1.568038\n",
            "2000-03-19   -1.330763\n",
            "2000-03-23   -1.827303\n",
            "2000-03-27   -0.618024\n",
            "2000-03-31    1.230260\n",
            "Freq: 4D, dtype: float64\n"
          ]
        }
      ],
      "source": [
        "ts = pd.Series(np.random.standard_normal(20),\n",
        "               index=pd.date_range(\"2000-01-15\", periods=20, freq=\"4D\"))\n",
        "print(ts)\n",
        "ts.groupby(MonthEnd().rollforward).mean()"
      ]
    },
    {
      "cell_type": "code",
      "execution_count": null,
      "metadata": {
        "id": "Spwb2QDDj9Ar"
      },
      "outputs": [],
      "source": [
        "ts.resample(\"M\").mean()"
      ]
    },
    {
      "cell_type": "markdown",
      "source": [
        "# Time Zone Handling\n",
        " Working with time zones can be one of the most unpleasant parts of time series\n",
        " manipulation. As a result, many time series users choose to work with time series in\n",
        " coordinated universal time or UTC, which is the geography-independent international\n",
        " standard. Time zones are expressed as offsets from UTC; for example, New York is\n",
        " four hours behind UTC during daylight saving time (DST) and five hours behind the\n",
        " rest of the year.\n",
        "\n",
        "\n",
        "  In Python, time zone information comes from the third-party pytz library (installa\n",
        "ble with pip or conda), which exposes the Olson database, a compilation of world\n",
        " time zone information. This is especially important for historical data because the\n",
        " DST transition dates (and even UTC offsets) have been changed numerous times depending on the regional laws. In the United States, the DST transition times have\n",
        " been changed many times since 1900!\n",
        "\n",
        "\n",
        " For detailed information about the pytz library, you’ll need to look at that library’s\n",
        " documentation. As far as this book is concerned, pandas wraps pytz’s functionality\n",
        " so you can ignore its API outside of the time zone names. Since pandas has a hard\n",
        " dependency on pytz, it isn’t necessary to install it separately. Time zone names can be\n",
        " found interactively and in the docs:"
      ],
      "metadata": {
        "id": "lB1EiX6emtYe"
      }
    },
    {
      "cell_type": "code",
      "execution_count": null,
      "metadata": {
        "id": "7agzaV8hj9Ar",
        "colab": {
          "base_uri": "https://localhost:8080/"
        },
        "outputId": "e8429fbb-1a68-4a5b-b290-79f65d144f65"
      },
      "outputs": [
        {
          "output_type": "execute_result",
          "data": {
            "text/plain": [
              "['US/Eastern', 'US/Hawaii', 'US/Mountain', 'US/Pacific', 'UTC']"
            ]
          },
          "metadata": {},
          "execution_count": 70
        }
      ],
      "source": [
        "import pytz\n",
        "pytz.common_timezones[-5:]"
      ]
    },
    {
      "cell_type": "markdown",
      "source": [
        " To get a time zone object from pytz, use pytz.timezone:"
      ],
      "metadata": {
        "id": "7K3Dqylcm9CQ"
      }
    },
    {
      "cell_type": "code",
      "execution_count": null,
      "metadata": {
        "id": "BDCLGRsCj9Ar",
        "colab": {
          "base_uri": "https://localhost:8080/"
        },
        "outputId": "2e6dfe22-a309-4351-a43e-de1449b8dc7d"
      },
      "outputs": [
        {
          "output_type": "execute_result",
          "data": {
            "text/plain": [
              "<DstTzInfo 'America/New_York' LMT-1 day, 19:04:00 STD>"
            ]
          },
          "metadata": {},
          "execution_count": 71
        }
      ],
      "source": [
        "tz = pytz.timezone(\"America/New_York\")\n",
        "tz"
      ]
    },
    {
      "cell_type": "markdown",
      "source": [
        " Methods in pandas will accept either time zone names or these objects.\n",
        " # Time Zone Localization and Conversion\n",
        " By default, time series in pandas are time zone naive. For example, consider the\n",
        " following time series:"
      ],
      "metadata": {
        "id": "AC7KLixOm_h0"
      }
    },
    {
      "cell_type": "code",
      "execution_count": null,
      "metadata": {
        "id": "soXkkzSUj9Ar",
        "colab": {
          "base_uri": "https://localhost:8080/",
          "height": 272
        },
        "outputId": "7f4af7ec-e467-4543-faf8-5f66456aafed"
      },
      "outputs": [
        {
          "output_type": "execute_result",
          "data": {
            "text/plain": [
              "2012-03-09 09:30:00    1.802494\n",
              "2012-03-10 09:30:00    0.311956\n",
              "2012-03-11 09:30:00   -0.631725\n",
              "2012-03-12 09:30:00   -2.028920\n",
              "2012-03-13 09:30:00    0.057322\n",
              "2012-03-14 09:30:00    0.899711\n",
              "Freq: D, dtype: float64"
            ],
            "text/html": [
              "<div>\n",
              "<style scoped>\n",
              "    .dataframe tbody tr th:only-of-type {\n",
              "        vertical-align: middle;\n",
              "    }\n",
              "\n",
              "    .dataframe tbody tr th {\n",
              "        vertical-align: top;\n",
              "    }\n",
              "\n",
              "    .dataframe thead th {\n",
              "        text-align: right;\n",
              "    }\n",
              "</style>\n",
              "<table border=\"1\" class=\"dataframe\">\n",
              "  <thead>\n",
              "    <tr style=\"text-align: right;\">\n",
              "      <th></th>\n",
              "      <th>0</th>\n",
              "    </tr>\n",
              "  </thead>\n",
              "  <tbody>\n",
              "    <tr>\n",
              "      <th>2012-03-09 09:30:00</th>\n",
              "      <td>1.802494</td>\n",
              "    </tr>\n",
              "    <tr>\n",
              "      <th>2012-03-10 09:30:00</th>\n",
              "      <td>0.311956</td>\n",
              "    </tr>\n",
              "    <tr>\n",
              "      <th>2012-03-11 09:30:00</th>\n",
              "      <td>-0.631725</td>\n",
              "    </tr>\n",
              "    <tr>\n",
              "      <th>2012-03-12 09:30:00</th>\n",
              "      <td>-2.028920</td>\n",
              "    </tr>\n",
              "    <tr>\n",
              "      <th>2012-03-13 09:30:00</th>\n",
              "      <td>0.057322</td>\n",
              "    </tr>\n",
              "    <tr>\n",
              "      <th>2012-03-14 09:30:00</th>\n",
              "      <td>0.899711</td>\n",
              "    </tr>\n",
              "  </tbody>\n",
              "</table>\n",
              "</div><br><label><b>dtype:</b> float64</label>"
            ]
          },
          "metadata": {},
          "execution_count": 89
        }
      ],
      "source": [
        "dates = pd.date_range(\"2012-03-09 09:30\", periods=6)\n",
        "ts = pd.Series(np.random.standard_normal(len(dates)), index=dates)\n",
        "ts"
      ]
    },
    {
      "cell_type": "markdown",
      "source": [
        " The index’s tz field is None:"
      ],
      "metadata": {
        "id": "klPPLbcfnDX0"
      }
    },
    {
      "cell_type": "code",
      "execution_count": null,
      "metadata": {
        "id": "05v-Ik8-j9As",
        "colab": {
          "base_uri": "https://localhost:8080/"
        },
        "outputId": "b763bc2e-5a75-421e-bcf6-80433e9f89fc"
      },
      "outputs": [
        {
          "output_type": "stream",
          "name": "stdout",
          "text": [
            "None\n"
          ]
        }
      ],
      "source": [
        "print(ts.index.tz)"
      ]
    },
    {
      "cell_type": "markdown",
      "source": [
        " Date ranges can be generated with a time zone set:"
      ],
      "metadata": {
        "id": "lUaqQGoCnFLa"
      }
    },
    {
      "cell_type": "code",
      "execution_count": null,
      "metadata": {
        "id": "VmIBewDaj9As",
        "colab": {
          "base_uri": "https://localhost:8080/"
        },
        "outputId": "205d000e-35f1-4883-b0c8-880ed8a6e0fa"
      },
      "outputs": [
        {
          "output_type": "execute_result",
          "data": {
            "text/plain": [
              "DatetimeIndex(['2012-03-09 09:30:00+00:00', '2012-03-10 09:30:00+00:00',\n",
              "               '2012-03-11 09:30:00+00:00', '2012-03-12 09:30:00+00:00',\n",
              "               '2012-03-13 09:30:00+00:00', '2012-03-14 09:30:00+00:00',\n",
              "               '2012-03-15 09:30:00+00:00', '2012-03-16 09:30:00+00:00',\n",
              "               '2012-03-17 09:30:00+00:00', '2012-03-18 09:30:00+00:00'],\n",
              "              dtype='datetime64[ns, UTC]', freq='D')"
            ]
          },
          "metadata": {},
          "execution_count": 74
        }
      ],
      "source": [
        "pd.date_range(\"2012-03-09 09:30\", periods=10, tz=\"UTC\")"
      ]
    },
    {
      "cell_type": "markdown",
      "source": [
        " Conversion from naive to localized (reinterpreted as having been observed in a\n",
        " particular time zone) is handled by the tz_localize method:"
      ],
      "metadata": {
        "id": "kDhBET4enLjZ"
      }
    },
    {
      "cell_type": "code",
      "execution_count": null,
      "metadata": {
        "id": "3K18x5Skj9As",
        "colab": {
          "base_uri": "https://localhost:8080/"
        },
        "outputId": "1f19447b-3aa7-4fa5-cf3f-54641be67d0a"
      },
      "outputs": [
        {
          "output_type": "execute_result",
          "data": {
            "text/plain": [
              "DatetimeIndex(['2012-03-09 09:30:00+00:00', '2012-03-10 09:30:00+00:00',\n",
              "               '2012-03-11 09:30:00+00:00', '2012-03-12 09:30:00+00:00',\n",
              "               '2012-03-13 09:30:00+00:00', '2012-03-14 09:30:00+00:00'],\n",
              "              dtype='datetime64[ns, UTC]', freq='D')"
            ]
          },
          "metadata": {},
          "execution_count": 75
        }
      ],
      "source": [
        "ts\n",
        "ts_utc = ts.tz_localize(\"UTC\")\n",
        "ts_utc\n",
        "ts_utc.index"
      ]
    },
    {
      "cell_type": "markdown",
      "source": [
        " Once a time series has been localized to a particular time zone, it can be converted to\n",
        " another time zone with tz_convert:"
      ],
      "metadata": {
        "id": "dO_GlEO-nVfr"
      }
    },
    {
      "cell_type": "code",
      "execution_count": null,
      "metadata": {
        "id": "L5vpbuggj9As",
        "colab": {
          "base_uri": "https://localhost:8080/",
          "height": 272
        },
        "outputId": "aaccf075-4f4f-4434-9dec-937181f787ea"
      },
      "outputs": [
        {
          "output_type": "execute_result",
          "data": {
            "text/plain": [
              "2012-03-09 04:30:00-05:00   -0.836888\n",
              "2012-03-10 04:30:00-05:00   -0.837012\n",
              "2012-03-11 05:30:00-04:00   -1.322403\n",
              "2012-03-12 05:30:00-04:00    1.195259\n",
              "2012-03-13 05:30:00-04:00   -1.852450\n",
              "2012-03-14 05:30:00-04:00   -1.078315\n",
              "Freq: D, dtype: float64"
            ],
            "text/html": [
              "<div>\n",
              "<style scoped>\n",
              "    .dataframe tbody tr th:only-of-type {\n",
              "        vertical-align: middle;\n",
              "    }\n",
              "\n",
              "    .dataframe tbody tr th {\n",
              "        vertical-align: top;\n",
              "    }\n",
              "\n",
              "    .dataframe thead th {\n",
              "        text-align: right;\n",
              "    }\n",
              "</style>\n",
              "<table border=\"1\" class=\"dataframe\">\n",
              "  <thead>\n",
              "    <tr style=\"text-align: right;\">\n",
              "      <th></th>\n",
              "      <th>0</th>\n",
              "    </tr>\n",
              "  </thead>\n",
              "  <tbody>\n",
              "    <tr>\n",
              "      <th>2012-03-09 04:30:00-05:00</th>\n",
              "      <td>-0.836888</td>\n",
              "    </tr>\n",
              "    <tr>\n",
              "      <th>2012-03-10 04:30:00-05:00</th>\n",
              "      <td>-0.837012</td>\n",
              "    </tr>\n",
              "    <tr>\n",
              "      <th>2012-03-11 05:30:00-04:00</th>\n",
              "      <td>-1.322403</td>\n",
              "    </tr>\n",
              "    <tr>\n",
              "      <th>2012-03-12 05:30:00-04:00</th>\n",
              "      <td>1.195259</td>\n",
              "    </tr>\n",
              "    <tr>\n",
              "      <th>2012-03-13 05:30:00-04:00</th>\n",
              "      <td>-1.852450</td>\n",
              "    </tr>\n",
              "    <tr>\n",
              "      <th>2012-03-14 05:30:00-04:00</th>\n",
              "      <td>-1.078315</td>\n",
              "    </tr>\n",
              "  </tbody>\n",
              "</table>\n",
              "</div><br><label><b>dtype:</b> float64</label>"
            ]
          },
          "metadata": {},
          "execution_count": 76
        }
      ],
      "source": [
        "ts_utc.tz_convert(\"America/New_York\")"
      ]
    },
    {
      "cell_type": "markdown",
      "source": [
        " In the case of the preceding time series, which straddles a DST transition in the\n",
        " America/New_York time zone, we could localize to US Eastern time and convert to,\n",
        " say, UTC or Berlin time:"
      ],
      "metadata": {
        "id": "IvxeeLQUnUGL"
      }
    },
    {
      "cell_type": "code",
      "execution_count": null,
      "metadata": {
        "id": "R8IRUB-3j9As",
        "colab": {
          "base_uri": "https://localhost:8080/"
        },
        "outputId": "cbef8063-5b60-414a-d471-01e098104413"
      },
      "outputs": [
        {
          "output_type": "stream",
          "name": "stdout",
          "text": [
            "2012-03-09 09:30:00   -0.836888\n",
            "2012-03-10 09:30:00   -0.837012\n",
            "2012-03-11 09:30:00   -1.322403\n",
            "2012-03-12 09:30:00    1.195259\n",
            "2012-03-13 09:30:00   -1.852450\n",
            "2012-03-14 09:30:00   -1.078315\n",
            "Freq: D, dtype: float64\n",
            "None\n",
            "2012-03-09 09:30:00-05:00   -0.836888\n",
            "2012-03-10 09:30:00-05:00   -0.837012\n",
            "2012-03-11 09:30:00-04:00   -1.322403\n",
            "2012-03-12 09:30:00-04:00    1.195259\n",
            "2012-03-13 09:30:00-04:00   -1.852450\n",
            "2012-03-14 09:30:00-04:00   -1.078315\n",
            "dtype: float64\n"
          ]
        }
      ],
      "source": [
        "print(ts)\n",
        "print(ts.index.tz)\n",
        "ts_eastern = ts.tz_localize(\"America/New_York\")\n",
        "print(ts_eastern)\n",
        "# ts_eastern.tz_convert(\"UTC\")\n",
        "# ts_eastern.tz_convert(\"Europe/Berlin\")"
      ]
    },
    {
      "cell_type": "markdown",
      "source": [
        " tz_localize and tz_convert are also instance methods on DatetimeIndex:"
      ],
      "metadata": {
        "id": "pmxWdK3MnaPb"
      }
    },
    {
      "cell_type": "code",
      "execution_count": null,
      "metadata": {
        "id": "IbjYOQWJj9As"
      },
      "outputs": [],
      "source": [
        "ts.index.tz_localize(\"Asia/Shanghai\")"
      ]
    },
    {
      "cell_type": "markdown",
      "source": [
        "# Operations with Time Zone-Aware Timestamp Objects\n",
        " Similar to time series and date ranges, individual Timestamp objects similarly can\n",
        " be localized from naive to time zone-aware and converted from one time zone to\n",
        " another:"
      ],
      "metadata": {
        "id": "8tE8ZMcNncEt"
      }
    },
    {
      "cell_type": "code",
      "execution_count": null,
      "metadata": {
        "id": "iDFmxVYyj9As"
      },
      "outputs": [],
      "source": [
        "stamp = pd.Timestamp(\"2011-03-12 04:00\")\n",
        "stamp_utc = stamp.tz_localize(\"utc\")\n",
        "stamp_utc.tz_convert(\"America/New_York\")"
      ]
    },
    {
      "cell_type": "markdown",
      "source": [
        "You can also pass a time zone when creating the Timestamp:"
      ],
      "metadata": {
        "id": "d-7BVNSynfa1"
      }
    },
    {
      "cell_type": "code",
      "execution_count": null,
      "metadata": {
        "id": "9NAFJE8Gj9As"
      },
      "outputs": [],
      "source": [
        "stamp_moscow = pd.Timestamp(\"2011-03-12 04:00\", tz=\"Europe/Moscow\")\n",
        "stamp_moscow"
      ]
    },
    {
      "cell_type": "markdown",
      "source": [
        " Time zone-aware Timestamp objects internally store a UTC timestamp value as nano\n",
        "seconds since the Unix epoch (January 1, 1970), so changing the time zone does not\n",
        " alter the internal UTC value:"
      ],
      "metadata": {
        "id": "chrx_cDznhBJ"
      }
    },
    {
      "cell_type": "code",
      "execution_count": null,
      "metadata": {
        "id": "5dIjb_Umj9As"
      },
      "outputs": [],
      "source": [
        "stamp_utc.value\n",
        "stamp_utc.tz_convert(\"America/New_York\").value"
      ]
    },
    {
      "cell_type": "markdown",
      "source": [
        " When performing time arithmetic using pandas’s DateOffset objects, pandas\n",
        " respects daylight saving time transitions where possible. Here we construct time\n",
        "stamps that occur right before DST transitions (forward and backward). First, 30\n",
        " minutes before transitioning to DST:"
      ],
      "metadata": {
        "id": "NnSxXQGDnkb6"
      }
    },
    {
      "cell_type": "code",
      "execution_count": null,
      "metadata": {
        "id": "flZ3p6KFj9As"
      },
      "outputs": [],
      "source": [
        "stamp = pd.Timestamp(\"2012-03-11 01:30\", tz=\"US/Eastern\")\n",
        "stamp\n",
        "stamp + Hour()"
      ]
    },
    {
      "cell_type": "markdown",
      "source": [
        " Then, 90 minutes before transitioning out of DST:"
      ],
      "metadata": {
        "id": "xEp7v6pLnmND"
      }
    },
    {
      "cell_type": "code",
      "execution_count": null,
      "metadata": {
        "id": "YG9SySO5j9At"
      },
      "outputs": [],
      "source": [
        "stamp = pd.Timestamp(\"2012-11-04 00:30\", tz=\"US/Eastern\")\n",
        "stamp\n",
        "stamp + 2 * Hour()"
      ]
    },
    {
      "cell_type": "markdown",
      "source": [
        "#  Operations Between Different Time Zones\n",
        " If two time series with different time zones are combined, the result will be UTC.\n",
        " Since the timestamps are stored under the hood in UTC, this is a straightforward\n",
        " operation and requires no conversion:"
      ],
      "metadata": {
        "id": "iQ4GY9yOnoGQ"
      }
    },
    {
      "cell_type": "code",
      "execution_count": null,
      "metadata": {
        "id": "aWcqhsJ2j9At",
        "colab": {
          "base_uri": "https://localhost:8080/"
        },
        "outputId": "5146bb56-7979-48ed-f8fa-df202d1f9341"
      },
      "outputs": [
        {
          "output_type": "execute_result",
          "data": {
            "text/plain": [
              "DatetimeIndex(['2012-03-07 09:30:00+00:00', '2012-03-08 09:30:00+00:00',\n",
              "               '2012-03-09 09:30:00+00:00', '2012-03-12 09:30:00+00:00',\n",
              "               '2012-03-13 09:30:00+00:00', '2012-03-14 09:30:00+00:00',\n",
              "               '2012-03-15 09:30:00+00:00'],\n",
              "              dtype='datetime64[ns, UTC]', freq=None)"
            ]
          },
          "metadata": {},
          "execution_count": 90
        }
      ],
      "source": [
        "dates = pd.date_range(\"2012-03-07 09:30\", periods=10, freq=\"B\")\n",
        "ts = pd.Series(np.random.standard_normal(len(dates)), index=dates)\n",
        "ts\n",
        "ts1 = ts[:7].tz_localize(\"Europe/London\")\n",
        "ts2 = ts1[2:].tz_convert(\"Europe/Moscow\")\n",
        "result = ts1 + ts2\n",
        "result.index"
      ]
    },
    {
      "cell_type": "markdown",
      "source": [
        " Operations between time zone-naive and time zone-aware data are not supported\n",
        " and will raise an exception"
      ],
      "metadata": {
        "id": "GLREkuAxn2IA"
      }
    },
    {
      "cell_type": "markdown",
      "source": [
        "# Periods and Period Arithmetic\n",
        " Periods represent time spans, like days, months, quarters, or years. The pan\n",
        " das.Period class represents this data type"
      ],
      "metadata": {
        "id": "xffiw9A_n3dV"
      }
    },
    {
      "cell_type": "code",
      "execution_count": null,
      "metadata": {
        "id": "AZlGAbOHj9At",
        "colab": {
          "base_uri": "https://localhost:8080/"
        },
        "outputId": "eff62ff4-8fa3-42e3-ce24-775f2a0b7617"
      },
      "outputs": [
        {
          "output_type": "execute_result",
          "data": {
            "text/plain": [
              "Period('2011', 'Y-DEC')"
            ]
          },
          "metadata": {},
          "execution_count": 92
        }
      ],
      "source": [
        "p = pd.Period(\"2011\", freq=\"Y-DEC\")\n",
        "p"
      ]
    },
    {
      "cell_type": "markdown",
      "source": [
        " In this case, the Period object represents the full time span from January 1, 2011,\n",
        " to December 31, 2011, inclusive. Conveniently, adding and subtracting integers from\n",
        " periods has the effect of shifting their frequency:"
      ],
      "metadata": {
        "id": "guWmGaiTn6yE"
      }
    },
    {
      "cell_type": "code",
      "execution_count": null,
      "metadata": {
        "id": "Cy6ONX0Hj9At",
        "colab": {
          "base_uri": "https://localhost:8080/"
        },
        "outputId": "19a3c0f7-e9a5-43b0-9c2f-9548097ee709"
      },
      "outputs": [
        {
          "output_type": "execute_result",
          "data": {
            "text/plain": [
              "Period('2009', 'Y-DEC')"
            ]
          },
          "metadata": {},
          "execution_count": 93
        }
      ],
      "source": [
        "p + 5\n",
        "p - 2"
      ]
    },
    {
      "cell_type": "markdown",
      "source": [
        "If two periods have the same frequency, their difference is the number of units\n",
        " between them as a date offset:"
      ],
      "metadata": {
        "id": "3oL6YQHxn8mw"
      }
    },
    {
      "cell_type": "code",
      "execution_count": null,
      "metadata": {
        "id": "O3Cktp__j9At",
        "colab": {
          "base_uri": "https://localhost:8080/"
        },
        "outputId": "6ae97cae-4259-423c-a2d0-6540790ad72a"
      },
      "outputs": [
        {
          "output_type": "stream",
          "name": "stderr",
          "text": [
            "<ipython-input-94-5d655903e343>:1: FutureWarning: 'A-DEC' is deprecated and will be removed in a future version, please use 'Y-DEC' instead.\n",
            "  pd.Period(\"2014\", freq=\"A-DEC\") - p\n"
          ]
        },
        {
          "output_type": "execute_result",
          "data": {
            "text/plain": [
              "<3 * YearEnds: month=12>"
            ]
          },
          "metadata": {},
          "execution_count": 94
        }
      ],
      "source": [
        "pd.Period(\"2014\", freq=\"A-DEC\") - p"
      ]
    },
    {
      "cell_type": "markdown",
      "source": [
        " Regular ranges of periods can be constructed with the period_range function:"
      ],
      "metadata": {
        "id": "TWkUjSQ5n-0A"
      }
    },
    {
      "cell_type": "code",
      "execution_count": null,
      "metadata": {
        "id": "c5Joaue3j9At",
        "colab": {
          "base_uri": "https://localhost:8080/"
        },
        "outputId": "0bc0bcf4-0820-4ec9-8707-014f8884759b"
      },
      "outputs": [
        {
          "output_type": "execute_result",
          "data": {
            "text/plain": [
              "PeriodIndex(['2000-01', '2000-02', '2000-03', '2000-04', '2000-05', '2000-06'], dtype='period[M]')"
            ]
          },
          "metadata": {},
          "execution_count": 95
        }
      ],
      "source": [
        "periods = pd.period_range(\"2000-01-01\", \"2000-06-30\", freq=\"M\")\n",
        "periods"
      ]
    },
    {
      "cell_type": "markdown",
      "source": [
        " The PeriodIndex class stores a sequence of periods and can serve as an axis index in\n",
        " any pandas data structure:"
      ],
      "metadata": {
        "id": "0qrJjVGmoAkU"
      }
    },
    {
      "cell_type": "code",
      "execution_count": null,
      "metadata": {
        "id": "8zKIld23j9At"
      },
      "outputs": [],
      "source": [
        "pd.Series(np.random.standard_normal(6), index=periods)"
      ]
    },
    {
      "cell_type": "markdown",
      "source": [
        " If you have an array of strings, you can also use the PeriodIndex class, where all of its\n",
        " values are periods"
      ],
      "metadata": {
        "id": "cL64wLF_oCZT"
      }
    },
    {
      "cell_type": "code",
      "execution_count": null,
      "metadata": {
        "id": "t1qWOQdGj9At"
      },
      "outputs": [],
      "source": [
        "values = [\"2001Q3\", \"2002Q2\", \"2003Q1\"]\n",
        "index = pd.PeriodIndex(values, freq=\"Q-DEC\")\n",
        "index"
      ]
    },
    {
      "cell_type": "markdown",
      "source": [
        " # Period Frequency Conversion\n",
        " Periods and PeriodIndex objects can be converted to another frequency with their\n",
        " asfreq method. As an example, suppose we had an annual period and wanted to\n",
        " convert it into a monthly period either at the start or end of the year. This can be\n",
        " done like so:"
      ],
      "metadata": {
        "id": "HlaPdTp4oEAy"
      }
    },
    {
      "cell_type": "code",
      "execution_count": null,
      "metadata": {
        "id": "2PJat0rpj9At",
        "colab": {
          "base_uri": "https://localhost:8080/"
        },
        "outputId": "126730e4-9acd-460f-819f-30b2d3affba6"
      },
      "outputs": [
        {
          "output_type": "stream",
          "name": "stdout",
          "text": [
            "2011\n"
          ]
        }
      ],
      "source": [
        "p = pd.Period(\"2011\", freq=\"Y-DEC\")\n",
        "p\n",
        "p.asfreq(\"M\", how=\"start\")\n",
        "print(p)\n",
        "# p.asfreq(\"M\", how=\"end\")\n",
        "# p.asfreq(\"M\")"
      ]
    },
    {
      "cell_type": "markdown",
      "source": [
        " You can think of Period(\"2011\", \"A-DEC\") as being a sort of cursor pointing to a\n",
        " span of time, subdivided by monthly periods. See Figure 11-1 for an illustration of\n",
        " this. For a fiscal year ending on a month other than December, the corresponding\n",
        " monthly subperiods are different:"
      ],
      "metadata": {
        "id": "97tBPqPKoIb_"
      }
    },
    {
      "cell_type": "code",
      "execution_count": null,
      "metadata": {
        "id": "NhO1nISWj9At"
      },
      "outputs": [],
      "source": [
        "p = pd.Period(\"2011\", freq=\"A-JUN\")\n",
        "p\n",
        "p.asfreq(\"M\", how=\"start\")\n",
        "p.asfreq(\"M\", how=\"end\")"
      ]
    },
    {
      "cell_type": "markdown",
      "source": [
        " When you are converting from high to low frequency, pandas determines the subper\n",
        "iod, depending on where the superperiod “belongs.” For example, in A-JUN frequency,\n",
        " the month Aug-2011 is actually part of the 2012 period:"
      ],
      "metadata": {
        "id": "5qHvqiUzoLjN"
      }
    },
    {
      "cell_type": "code",
      "execution_count": null,
      "metadata": {
        "id": "mYgSrXEej9At"
      },
      "outputs": [],
      "source": [
        "p = pd.Period(\"Aug-2011\", \"M\")\n",
        "p.asfreq(\"A-JUN\")"
      ]
    },
    {
      "cell_type": "markdown",
      "source": [
        " Whole PeriodIndex objects or time series can be similarly converted with the same\n",
        " semantics:"
      ],
      "metadata": {
        "id": "QbsNEQ0SoNln"
      }
    },
    {
      "cell_type": "code",
      "execution_count": null,
      "metadata": {
        "id": "tgwf0PKYj9Au"
      },
      "outputs": [],
      "source": [
        "periods = pd.period_range(\"2006\", \"2009\", freq=\"A-DEC\")\n",
        "ts = pd.Series(np.random.standard_normal(len(periods)), index=periods)\n",
        "ts\n",
        "ts.asfreq(\"M\", how=\"start\")"
      ]
    },
    {
      "cell_type": "markdown",
      "source": [
        " Here, the annual periods are replaced with monthly periods corresponding to the first\n",
        " month falling within each annual period. If we instead wanted the last business day\n",
        " of each year, we can use the \"B\" frequency and indicate that we want the end of the\n",
        " period:"
      ],
      "metadata": {
        "id": "fVtB0Y5GoP_9"
      }
    },
    {
      "cell_type": "code",
      "execution_count": null,
      "metadata": {
        "id": "b96z6S6ej9Au"
      },
      "outputs": [],
      "source": [
        "ts.asfreq(\"B\", how=\"end\")"
      ]
    },
    {
      "cell_type": "markdown",
      "source": [
        " # Quarterly Period Frequencies\n",
        " Quarterly data is standard in accounting, finance, and other fields. Much quarterly\n",
        " data is reported relative to a fiscal year end, typically the last calendar or business day\n",
        " of one of the 12 months of the year. Thus, the period 2012Q4 has a different meaning\n",
        " depending on fiscal year end. pandas supports all 12 possible quarterly frequencies as\n",
        " Q-JAN through Q-DEC:"
      ],
      "metadata": {
        "id": "sPEbqCmLoSN8"
      }
    },
    {
      "cell_type": "code",
      "execution_count": null,
      "metadata": {
        "id": "vUZb4HYdj9Au"
      },
      "outputs": [],
      "source": [
        "p = pd.Period(\"2012Q4\", freq=\"Q-JAN\")\n",
        "p"
      ]
    },
    {
      "cell_type": "markdown",
      "source": [
        "In the case of a fiscal year ending in January, 2012Q4 runs from November 2011\n",
        " through January 2012, which you can check by converting to daily frequency:"
      ],
      "metadata": {
        "id": "nM_RYKugoVgP"
      }
    },
    {
      "cell_type": "code",
      "execution_count": null,
      "metadata": {
        "id": "WJHtFgCMj9Au"
      },
      "outputs": [],
      "source": [
        "p.asfreq(\"D\", how=\"start\")\n",
        "p.asfreq(\"D\", how=\"end\")"
      ]
    },
    {
      "cell_type": "markdown",
      "source": [
        " Thus, it’s possible to do convenient period arithmetic; for example, to get the time\n",
        "stamp at 4 P.M. on the second-to-last business day of the quarter, you could do:"
      ],
      "metadata": {
        "id": "58y6dyr3oYTi"
      }
    },
    {
      "cell_type": "code",
      "execution_count": null,
      "metadata": {
        "id": "YSXmFrr1j9Au"
      },
      "outputs": [],
      "source": [
        "p4pm = (p.asfreq(\"B\", how=\"end\") - 1).asfreq(\"T\", how=\"start\") + 16 * 60\n",
        "p4pm\n",
        "p4pm.to_timestamp()"
      ]
    },
    {
      "cell_type": "markdown",
      "source": [
        " The to_timestamp method returns the Timestamp at the start of the period by default.\n",
        " You can generate quarterly ranges using pandas.period_range. The arithmetic is\n",
        " identical, too:"
      ],
      "metadata": {
        "id": "RtSuzcs8oaA2"
      }
    },
    {
      "cell_type": "code",
      "execution_count": null,
      "metadata": {
        "id": "QjEpYHuKj9Au"
      },
      "outputs": [],
      "source": [
        "periods = pd.period_range(\"2011Q3\", \"2012Q4\", freq=\"Q-JAN\")\n",
        "ts = pd.Series(np.arange(len(periods)), index=periods)\n",
        "ts\n",
        "new_periods = (periods.asfreq(\"B\", \"end\") - 1).asfreq(\"H\", \"start\") + 16\n",
        "ts.index = new_periods.to_timestamp()\n",
        "ts"
      ]
    },
    {
      "cell_type": "markdown",
      "source": [
        " # Converting Timestamps to Periods (and Back)\n",
        " Series and DataFrame objects indexed by timestamps can be converted to periods\n",
        " with the to_period method:"
      ],
      "metadata": {
        "id": "KPjbP6U0ocje"
      }
    },
    {
      "cell_type": "code",
      "execution_count": null,
      "metadata": {
        "id": "EVG7C-Sdj9Au"
      },
      "outputs": [],
      "source": [
        "dates = pd.date_range(\"2000-01-01\", periods=3, freq=\"M\")\n",
        "ts = pd.Series(np.random.standard_normal(3), index=dates)\n",
        "ts\n",
        "pts = ts.to_period()\n",
        "pts"
      ]
    },
    {
      "cell_type": "markdown",
      "source": [
        " Since periods refer to nonoverlapping time spans, a timestamp can only belong to a\n",
        " single period for a given frequency. While the frequency of the new PeriodIndex is\n",
        " inferred from the timestamps by default, you can specify any supported frequency.  There is also no problem with\n",
        " having duplicate periods in the result:"
      ],
      "metadata": {
        "id": "WvPYqV4VohkI"
      }
    },
    {
      "cell_type": "code",
      "execution_count": null,
      "metadata": {
        "id": "vAvF98GIj9Au"
      },
      "outputs": [],
      "source": [
        "dates = pd.date_range(\"2000-01-29\", periods=6)\n",
        "ts2 = pd.Series(np.random.standard_normal(6), index=dates)\n",
        "ts2\n",
        "ts2.to_period(\"M\")"
      ]
    },
    {
      "cell_type": "markdown",
      "source": [
        " To convert back to timestamps, use the to_timestamp method, which returns a\n",
        " DatetimeIndex:"
      ],
      "metadata": {
        "id": "3Ifn32UMomN4"
      }
    },
    {
      "cell_type": "code",
      "execution_count": null,
      "metadata": {
        "id": "KZyeYDK1j9Au"
      },
      "outputs": [],
      "source": [
        "pts = ts2.to_period()\n",
        "pts\n",
        "pts.to_timestamp(how=\"end\")"
      ]
    },
    {
      "cell_type": "markdown",
      "source": [
        " # Creating a PeriodIndex from Arrays\n",
        " Fixed frequency datasets are sometimes stored with time span information spread\n",
        " across multiple columns. For example, in this macroeconomic dataset, the year and\n",
        " quarter are in different columns:"
      ],
      "metadata": {
        "id": "5ghAHy8doodR"
      }
    },
    {
      "cell_type": "code",
      "execution_count": null,
      "metadata": {
        "id": "fhmpgvK0j9Au"
      },
      "outputs": [],
      "source": [
        "data = pd.read_csv(\"examples/macrodata.csv\")\n",
        "data.head(5)\n",
        "data[\"year\"]\n",
        "data[\"quarter\"]"
      ]
    },
    {
      "cell_type": "code",
      "execution_count": null,
      "metadata": {
        "id": "G5LS1R_Uj9Av"
      },
      "outputs": [],
      "source": [
        "index = pd.PeriodIndex(year=data[\"year\"], quarter=data[\"quarter\"],\n",
        "                       freq=\"Q-DEC\")\n",
        "index\n",
        "data.index = index\n",
        "data[\"infl\"]"
      ]
    },
    {
      "cell_type": "code",
      "execution_count": null,
      "metadata": {
        "id": "ISI-0t4Uj9Av"
      },
      "outputs": [],
      "source": [
        "dates = pd.date_range(\"2000-01-01\", periods=100)\n",
        "ts = pd.Series(np.random.standard_normal(len(dates)), index=dates)\n",
        "ts\n",
        "ts.resample(\"M\").mean()\n",
        "ts.resample(\"M\", kind=\"period\").mean()"
      ]
    },
    {
      "cell_type": "code",
      "execution_count": null,
      "metadata": {
        "id": "o2KzteA6j9Av"
      },
      "outputs": [],
      "source": [
        "dates = pd.date_range(\"2000-01-01\", periods=12, freq=\"T\")\n",
        "ts = pd.Series(np.arange(len(dates)), index=dates)\n",
        "ts"
      ]
    },
    {
      "cell_type": "code",
      "execution_count": null,
      "metadata": {
        "id": "7ynXEtOZj9Av"
      },
      "outputs": [],
      "source": [
        "ts.resample(\"5min\").sum()"
      ]
    },
    {
      "cell_type": "code",
      "execution_count": null,
      "metadata": {
        "id": "guHKsPqwj9Av"
      },
      "outputs": [],
      "source": [
        "ts.resample(\"5min\", closed=\"right\").sum()"
      ]
    },
    {
      "cell_type": "code",
      "execution_count": null,
      "metadata": {
        "id": "dBfr6bjDj9Av"
      },
      "outputs": [],
      "source": [
        "ts.resample(\"5min\", closed=\"right\", label=\"right\").sum()"
      ]
    },
    {
      "cell_type": "code",
      "execution_count": null,
      "metadata": {
        "id": "iSO5n40yj9Av"
      },
      "outputs": [],
      "source": [
        "from pandas.tseries.frequencies import to_offset\n",
        "result = ts.resample(\"5min\", closed=\"right\", label=\"right\").sum()\n",
        "result.index = result.index + to_offset(\"-1s\")\n",
        "result"
      ]
    },
    {
      "cell_type": "code",
      "execution_count": null,
      "metadata": {
        "id": "9YPN-LKrj9Av"
      },
      "outputs": [],
      "source": [
        "ts = pd.Series(np.random.permutation(np.arange(len(dates))), index=dates)\n",
        "ts.resample(\"5min\").ohlc()"
      ]
    },
    {
      "cell_type": "code",
      "execution_count": null,
      "metadata": {
        "id": "gku3uBg6j9Av"
      },
      "outputs": [],
      "source": [
        "frame = pd.DataFrame(np.random.standard_normal((2, 4)),\n",
        "                     index=pd.date_range(\"2000-01-01\", periods=2,\n",
        "                                         freq=\"W-WED\"),\n",
        "                     columns=[\"Colorado\", \"Texas\", \"New York\", \"Ohio\"])\n",
        "frame"
      ]
    },
    {
      "cell_type": "code",
      "execution_count": null,
      "metadata": {
        "id": "d3G-HFFUj9Av"
      },
      "outputs": [],
      "source": [
        "df_daily = frame.resample(\"D\").asfreq()\n",
        "df_daily"
      ]
    },
    {
      "cell_type": "code",
      "execution_count": null,
      "metadata": {
        "id": "I-pN1hA5j9Aw"
      },
      "outputs": [],
      "source": [
        "frame.resample(\"D\").ffill()"
      ]
    },
    {
      "cell_type": "code",
      "execution_count": null,
      "metadata": {
        "id": "ph9mWTJrj9Aw"
      },
      "outputs": [],
      "source": [
        "frame.resample(\"D\").ffill(limit=2)"
      ]
    },
    {
      "cell_type": "code",
      "execution_count": null,
      "metadata": {
        "id": "a9_coJzrj9Aw"
      },
      "outputs": [],
      "source": [
        "frame.resample(\"W-THU\").ffill()"
      ]
    },
    {
      "cell_type": "code",
      "execution_count": null,
      "metadata": {
        "id": "szCrv_1sj9Aw"
      },
      "outputs": [],
      "source": [
        "frame = pd.DataFrame(np.random.standard_normal((24, 4)),\n",
        "                     index=pd.period_range(\"1-2000\", \"12-2001\",\n",
        "                                           freq=\"M\"),\n",
        "                     columns=[\"Colorado\", \"Texas\", \"New York\", \"Ohio\"])\n",
        "frame.head()\n",
        "annual_frame = frame.resample(\"A-DEC\").mean()\n",
        "annual_frame"
      ]
    },
    {
      "cell_type": "code",
      "execution_count": null,
      "metadata": {
        "id": "OndrGZ_uj9Aw"
      },
      "outputs": [],
      "source": [
        "# Q-DEC: Quarterly, year ending in December\n",
        "annual_frame.resample(\"Q-DEC\").ffill()\n",
        "annual_frame.resample(\"Q-DEC\", convention=\"end\").asfreq()"
      ]
    },
    {
      "cell_type": "code",
      "execution_count": null,
      "metadata": {
        "id": "ktPNIW9vj9Aw"
      },
      "outputs": [],
      "source": [
        "annual_frame.resample(\"Q-MAR\").ffill()"
      ]
    },
    {
      "cell_type": "code",
      "execution_count": null,
      "metadata": {
        "id": "Qe0FJ0X9j9Aw"
      },
      "outputs": [],
      "source": [
        "N = 15\n",
        "times = pd.date_range(\"2017-05-20 00:00\", freq=\"1min\", periods=N)\n",
        "df = pd.DataFrame({\"time\": times,\n",
        "                   \"value\": np.arange(N)})\n",
        "df"
      ]
    },
    {
      "cell_type": "code",
      "execution_count": null,
      "metadata": {
        "id": "NfmDXD4nj9Aw"
      },
      "outputs": [],
      "source": [
        "df.set_index(\"time\").resample(\"5min\").count()"
      ]
    },
    {
      "cell_type": "code",
      "execution_count": null,
      "metadata": {
        "id": "jj9j__fJj9Aw"
      },
      "outputs": [],
      "source": [
        "df2 = pd.DataFrame({\"time\": times.repeat(3),\n",
        "                    \"key\": np.tile([\"a\", \"b\", \"c\"], N),\n",
        "                    \"value\": np.arange(N * 3.)})\n",
        "df2.head(7)"
      ]
    },
    {
      "cell_type": "code",
      "execution_count": null,
      "metadata": {
        "id": "djA2SpUfj9Aw"
      },
      "outputs": [],
      "source": [
        "time_key = pd.Grouper(freq=\"5min\")"
      ]
    },
    {
      "cell_type": "code",
      "execution_count": null,
      "metadata": {
        "id": "jUg7yvJfj9Aw"
      },
      "outputs": [],
      "source": [
        "resampled = (df2.set_index(\"time\")\n",
        "             .groupby([\"key\", time_key])\n",
        "             .sum())\n",
        "resampled\n",
        "resampled.reset_index()"
      ]
    },
    {
      "cell_type": "code",
      "execution_count": null,
      "metadata": {
        "id": "EWpBv1X5j9Ax"
      },
      "outputs": [],
      "source": [
        "close_px_all = pd.read_csv(\"examples/stock_px.csv\",\n",
        "                           parse_dates=True, index_col=0)\n",
        "close_px = close_px_all[[\"AAPL\", \"MSFT\", \"XOM\"]]\n",
        "close_px = close_px.resample(\"B\").ffill()"
      ]
    },
    {
      "cell_type": "code",
      "execution_count": null,
      "metadata": {
        "id": "EEhQCtgXj9Ax"
      },
      "outputs": [],
      "source": [
        "close_px[\"AAPL\"].plot()\n",
        "close_px[\"AAPL\"].rolling(250).mean().plot()"
      ]
    },
    {
      "cell_type": "code",
      "execution_count": null,
      "metadata": {
        "id": "aIGq35XBj9Ax"
      },
      "outputs": [],
      "source": [
        "plt.figure()\n",
        "std250 = close_px[\"AAPL\"].pct_change().rolling(250, min_periods=10).std()\n",
        "std250[5:12]\n",
        "std250.plot()"
      ]
    },
    {
      "cell_type": "code",
      "execution_count": null,
      "metadata": {
        "id": "kDS4UWqtj9Ax"
      },
      "outputs": [],
      "source": [
        "expanding_mean = std250.expanding().mean()"
      ]
    },
    {
      "cell_type": "code",
      "execution_count": null,
      "metadata": {
        "id": "EtUIu6Lbj9Ax"
      },
      "outputs": [],
      "source": [
        "plt.figure()"
      ]
    },
    {
      "cell_type": "code",
      "execution_count": null,
      "metadata": {
        "id": "s-SjHTRGj9Ax"
      },
      "outputs": [],
      "source": [
        "plt.style.use('grayscale')\n",
        "close_px.rolling(60).mean().plot(logy=True)"
      ]
    },
    {
      "cell_type": "code",
      "execution_count": null,
      "metadata": {
        "id": "aPSKYi8Aj9Ax"
      },
      "outputs": [],
      "source": [
        "close_px.rolling(\"20D\").mean()"
      ]
    },
    {
      "cell_type": "code",
      "execution_count": null,
      "metadata": {
        "id": "PM1rJZNNj9Ax"
      },
      "outputs": [],
      "source": [
        "plt.figure()"
      ]
    },
    {
      "cell_type": "code",
      "execution_count": null,
      "metadata": {
        "id": "HiGf1iZjj9Ax"
      },
      "outputs": [],
      "source": [
        "aapl_px = close_px[\"AAPL\"][\"2006\":\"2007\"]\n",
        "\n",
        "ma30 = aapl_px.rolling(30, min_periods=20).mean()\n",
        "ewma30 = aapl_px.ewm(span=30).mean()\n",
        "\n",
        "aapl_px.plot(style=\"k-\", label=\"Price\")\n",
        "ma30.plot(style=\"k--\", label=\"Simple Moving Avg\")\n",
        "ewma30.plot(style=\"k-\", label=\"EW MA\")\n",
        "plt.legend()"
      ]
    },
    {
      "cell_type": "code",
      "execution_count": null,
      "metadata": {
        "id": "A44NT03Nj9Ax"
      },
      "outputs": [],
      "source": [
        "plt.figure()"
      ]
    },
    {
      "cell_type": "code",
      "execution_count": null,
      "metadata": {
        "id": "6KGuzKyyj9Ax"
      },
      "outputs": [],
      "source": [
        "spx_px = close_px_all[\"SPX\"]\n",
        "spx_rets = spx_px.pct_change()\n",
        "returns = close_px.pct_change()"
      ]
    },
    {
      "cell_type": "code",
      "execution_count": null,
      "metadata": {
        "id": "LceKbX7Ij9Ax"
      },
      "outputs": [],
      "source": [
        "corr = returns[\"AAPL\"].rolling(125, min_periods=100).corr(spx_rets)\n",
        "corr.plot()"
      ]
    },
    {
      "cell_type": "code",
      "execution_count": null,
      "metadata": {
        "id": "USuJqwyFj9Ay"
      },
      "outputs": [],
      "source": [
        "plt.figure()"
      ]
    },
    {
      "cell_type": "code",
      "execution_count": null,
      "metadata": {
        "id": "75KHi12Gj9Ay"
      },
      "outputs": [],
      "source": [
        "corr = returns.rolling(125, min_periods=100).corr(spx_rets)\n",
        "corr.plot()"
      ]
    },
    {
      "cell_type": "code",
      "execution_count": null,
      "metadata": {
        "id": "GbrROLKqj9Ay"
      },
      "outputs": [],
      "source": [
        "plt.figure()"
      ]
    },
    {
      "cell_type": "code",
      "execution_count": null,
      "metadata": {
        "id": "GEZUWD5Hj9Ay"
      },
      "outputs": [],
      "source": [
        "from scipy.stats import percentileofscore\n",
        "def score_at_2percent(x):\n",
        "    return percentileofscore(x, 0.02)\n",
        "\n",
        "result = returns[\"AAPL\"].rolling(250).apply(score_at_2percent)\n",
        "result.plot()"
      ]
    },
    {
      "cell_type": "code",
      "execution_count": null,
      "metadata": {
        "id": "55toA5MGj9Ay"
      },
      "outputs": [],
      "source": []
    },
    {
      "cell_type": "code",
      "execution_count": null,
      "metadata": {
        "id": "yTS7qEkRj9Ay"
      },
      "outputs": [],
      "source": [
        "pd.options.display.max_rows = PREVIOUS_MAX_ROWS"
      ]
    }
  ],
  "metadata": {
    "kernelspec": {
      "display_name": "Python 3",
      "language": "python",
      "name": "python3"
    },
    "language_info": {
      "codemirror_mode": {
        "name": "ipython",
        "version": 3
      },
      "file_extension": ".py",
      "mimetype": "text/x-python",
      "name": "python",
      "nbconvert_exporter": "python",
      "pygments_lexer": "ipython3",
      "version": "3.7.6"
    },
    "colab": {
      "provenance": []
    }
  },
  "nbformat": 4,
  "nbformat_minor": 0
}
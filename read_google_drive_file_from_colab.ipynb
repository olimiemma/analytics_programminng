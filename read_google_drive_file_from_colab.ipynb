{
  "nbformat": 4,
  "nbformat_minor": 0,
  "metadata": {
    "colab": {
      "provenance": []
    },
    "kernelspec": {
      "name": "python3",
      "display_name": "Python 3"
    },
    "language_info": {
      "name": "python"
    }
  },
  "cells": [
    {
      "cell_type": "code",
      "execution_count": 2,
      "metadata": {
        "colab": {
          "base_uri": "https://localhost:8080/"
        },
        "id": "Z9tcidaIe9Z1",
        "outputId": "ab9c9972-2baf-492c-dcb4-9b72950cd5e5"
      },
      "outputs": [
        {
          "output_type": "stream",
          "name": "stdout",
          "text": [
            "Mounted at /content/drive\n"
          ]
        }
      ],
      "source": [
        "# how colab open files:\n",
        "# https://saturncloud.io/blog/how-to-use-google-colab-to-work-with-local-files/\n",
        "# https://stackoverflow.com/questions/48376580/how-to-read-data-in-google-colab-from-my-google-drive\n",
        "\n",
        "from google.colab import drive\n",
        "drive.mount('/content/drive', force_remount=True)\n",
        "google_drive_path_header = '/content/drive/MyDrive/analytics_programming'"
      ]
    },
    {
      "cell_type": "code",
      "source": [
        "path = google_drive_path_header + '/headers.txt'\n",
        "print(path)\n",
        "f = open(path, encoding=\"utf-8\")\n",
        "\n",
        "for line in f:\n",
        "  print(line)"
      ],
      "metadata": {
        "colab": {
          "base_uri": "https://localhost:8080/"
        },
        "id": "zPpTQzRPnSKw",
        "outputId": "ca31b9c7-6daa-48c4-ef73-99587fabaafc"
      },
      "execution_count": 5,
      "outputs": [
        {
          "output_type": "stream",
          "name": "stdout",
          "text": [
            "/content/drive/MyDrive/analytics_programming/headers.txt\n",
            "datetime,Date,time,ticker,mid,sector,industrygroup\n"
          ]
        }
      ]
    }
  ]
}